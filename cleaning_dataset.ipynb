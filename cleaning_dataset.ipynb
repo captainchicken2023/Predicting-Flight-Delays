{
 "cells": [
  {
   "cell_type": "markdown",
   "id": "d5ae01f9-2915-408e-9d6a-de4c58427810",
   "metadata": {},
   "source": [
    "## Part 1: Cleaning dataset for initial analysis"
   ]
  },
  {
   "cell_type": "code",
   "execution_count": 1,
   "id": "e21f27a5-b897-45e0-bb45-effdf2b933a8",
   "metadata": {},
   "outputs": [],
   "source": [
    "# Dependencies\n",
    "import pandas as pd\n",
    "from pathlib import Path\n",
    "import csv\n",
    "import os\n",
    "import warnings\n",
    "warnings.simplefilter(action='ignore', category=FutureWarning)"
   ]
  },
  {
   "cell_type": "code",
   "execution_count": 2,
   "id": "e30cb7f2-dc87-477d-8cf7-27c763306803",
   "metadata": {},
   "outputs": [],
   "source": [
    "# Files to load\n",
    "aug_22 = pd.read_csv(\"Resources/AUG-22_ONTIME_REPORTING.csv\")\n",
    "sep_22 = pd.read_csv(\"Resources/SEP-22_ONTIME_REPORTING.csv\")\n",
    "oct_22 = pd.read_csv(\"Resources/OCT-22_ONTIME_REPORTING.csv\")\n",
    "nov_22 = pd.read_csv(\"Resources/NOV-22_ONTIME_REPORTING.csv\")\n",
    "dec_22 = pd.read_csv(\"Resources/DEC-22_ONTIME_REPORTING.csv\")\n",
    "jan_23 = pd.read_csv(\"Resources/JAN-23_ONTIME_REPORTING.csv\")\n",
    "feb_23 = pd.read_csv(\"Resources/FEB-23_ONTIME_REPORTING.csv\")\n",
    "mar_23 = pd.read_csv(\"Resources/MAR-23_ONTIME_REPORTING.csv\")\n",
    "apr_23 = pd.read_csv(\"Resources/APR-23_ONTIME_REPORTING.csv\")\n",
    "may_23 = pd.read_csv(\"Resources/MAY-23_ONTIME_REPORTING.csv\")\n",
    "jun_23 = pd.read_csv(\"Resources/JUN-23_ONTIME_REPORTING.csv\")\n",
    "jul_23 = pd.read_csv(\"Resources/JUL-23_ONTIME_REPORTING.csv\")\n",
    "aug_23 = pd.read_csv(\"Resources/AUG-23_ONTIME_REPORTING.csv\")"
   ]
  },
  {
   "cell_type": "code",
   "execution_count": 3,
   "id": "fff00445-3bc1-49a9-947b-9f59dcf0d101",
   "metadata": {},
   "outputs": [],
   "source": [
    "# Joining data\n",
    "frames = [\n",
    "    aug_22, \n",
    "    sep_22,\n",
    "    oct_22,\n",
    "    nov_22,\n",
    "    dec_22,\n",
    "    jan_23,\n",
    "    feb_23,\n",
    "    mar_23,\n",
    "    apr_23,\n",
    "    may_23,\n",
    "    jun_23,\n",
    "    jul_23,\n",
    "    aug_23\n",
    "]\n",
    "\n",
    "pd.set_option('display.max_columns', None)\n",
    "\n",
    "combined_df = pd.concat(frames)"
   ]
  },
  {
   "cell_type": "code",
   "execution_count": 4,
   "id": "729325be-92e0-42d9-a2f1-52a24baaba57",
   "metadata": {},
   "outputs": [
    {
     "data": {
      "text/plain": [
       "(7368518, 28)"
      ]
     },
     "execution_count": 4,
     "metadata": {},
     "output_type": "execute_result"
    }
   ],
   "source": [
    "# Data checkpoint\n",
    "combined_df.shape"
   ]
  },
  {
   "cell_type": "code",
   "execution_count": 5,
   "id": "9e68967f-3560-44f6-8465-d3fb592102bb",
   "metadata": {},
   "outputs": [
    {
     "data": {
      "text/html": [
       "<div>\n",
       "<style scoped>\n",
       "    .dataframe tbody tr th:only-of-type {\n",
       "        vertical-align: middle;\n",
       "    }\n",
       "\n",
       "    .dataframe tbody tr th {\n",
       "        vertical-align: top;\n",
       "    }\n",
       "\n",
       "    .dataframe thead th {\n",
       "        text-align: right;\n",
       "    }\n",
       "</style>\n",
       "<table border=\"1\" class=\"dataframe\">\n",
       "  <thead>\n",
       "    <tr style=\"text-align: right;\">\n",
       "      <th></th>\n",
       "      <th>YEAR</th>\n",
       "      <th>MONTH</th>\n",
       "      <th>DAY_OF_MONTH</th>\n",
       "      <th>DAY_OF_WEEK</th>\n",
       "      <th>FL_DATE</th>\n",
       "      <th>OP_CARRIER</th>\n",
       "      <th>OP_CARRIER_FL_NUM</th>\n",
       "      <th>ORIGIN_AIRPORT_ID</th>\n",
       "      <th>ORIGIN</th>\n",
       "      <th>ORIGIN_CITY_NAME</th>\n",
       "      <th>ORIGIN_STATE_ABR</th>\n",
       "      <th>DEST_AIRPORT_ID</th>\n",
       "      <th>DEST</th>\n",
       "      <th>DEST_CITY_NAME</th>\n",
       "      <th>DEST_STATE_ABR</th>\n",
       "      <th>DEP_DELAY</th>\n",
       "      <th>DEP_DELAY_NEW</th>\n",
       "      <th>DEP_DEL15</th>\n",
       "      <th>ARR_DELAY</th>\n",
       "      <th>ARR_DELAY_NEW</th>\n",
       "      <th>ARR_DEL15</th>\n",
       "      <th>CANCELLED</th>\n",
       "      <th>DIVERTED</th>\n",
       "      <th>CARRIER_DELAY</th>\n",
       "      <th>WEATHER_DELAY</th>\n",
       "      <th>NAS_DELAY</th>\n",
       "      <th>SECURITY_DELAY</th>\n",
       "      <th>LATE_AIRCRAFT_DELAY</th>\n",
       "    </tr>\n",
       "  </thead>\n",
       "  <tbody>\n",
       "    <tr>\n",
       "      <th>0</th>\n",
       "      <td>2022</td>\n",
       "      <td>8</td>\n",
       "      <td>1</td>\n",
       "      <td>1</td>\n",
       "      <td>8/1/2022 12:00:00 AM</td>\n",
       "      <td>9E</td>\n",
       "      <td>4628</td>\n",
       "      <td>15919</td>\n",
       "      <td>XNA</td>\n",
       "      <td>Fayetteville, AR</td>\n",
       "      <td>AR</td>\n",
       "      <td>12953</td>\n",
       "      <td>LGA</td>\n",
       "      <td>New York, NY</td>\n",
       "      <td>NY</td>\n",
       "      <td>-2.0</td>\n",
       "      <td>0.0</td>\n",
       "      <td>0.0</td>\n",
       "      <td>-4.0</td>\n",
       "      <td>0.0</td>\n",
       "      <td>0.0</td>\n",
       "      <td>0.0</td>\n",
       "      <td>0.0</td>\n",
       "      <td>NaN</td>\n",
       "      <td>NaN</td>\n",
       "      <td>NaN</td>\n",
       "      <td>NaN</td>\n",
       "      <td>NaN</td>\n",
       "    </tr>\n",
       "    <tr>\n",
       "      <th>1</th>\n",
       "      <td>2022</td>\n",
       "      <td>8</td>\n",
       "      <td>1</td>\n",
       "      <td>1</td>\n",
       "      <td>8/1/2022 12:00:00 AM</td>\n",
       "      <td>9E</td>\n",
       "      <td>4630</td>\n",
       "      <td>13342</td>\n",
       "      <td>MKE</td>\n",
       "      <td>Milwaukee, WI</td>\n",
       "      <td>WI</td>\n",
       "      <td>10721</td>\n",
       "      <td>BOS</td>\n",
       "      <td>Boston, MA</td>\n",
       "      <td>MA</td>\n",
       "      <td>-6.0</td>\n",
       "      <td>0.0</td>\n",
       "      <td>0.0</td>\n",
       "      <td>-18.0</td>\n",
       "      <td>0.0</td>\n",
       "      <td>0.0</td>\n",
       "      <td>0.0</td>\n",
       "      <td>0.0</td>\n",
       "      <td>NaN</td>\n",
       "      <td>NaN</td>\n",
       "      <td>NaN</td>\n",
       "      <td>NaN</td>\n",
       "      <td>NaN</td>\n",
       "    </tr>\n",
       "    <tr>\n",
       "      <th>2</th>\n",
       "      <td>2022</td>\n",
       "      <td>8</td>\n",
       "      <td>1</td>\n",
       "      <td>1</td>\n",
       "      <td>8/1/2022 12:00:00 AM</td>\n",
       "      <td>9E</td>\n",
       "      <td>4631</td>\n",
       "      <td>14492</td>\n",
       "      <td>RDU</td>\n",
       "      <td>Raleigh/Durham, NC</td>\n",
       "      <td>NC</td>\n",
       "      <td>12478</td>\n",
       "      <td>JFK</td>\n",
       "      <td>New York, NY</td>\n",
       "      <td>NY</td>\n",
       "      <td>NaN</td>\n",
       "      <td>NaN</td>\n",
       "      <td>NaN</td>\n",
       "      <td>NaN</td>\n",
       "      <td>NaN</td>\n",
       "      <td>NaN</td>\n",
       "      <td>1.0</td>\n",
       "      <td>0.0</td>\n",
       "      <td>NaN</td>\n",
       "      <td>NaN</td>\n",
       "      <td>NaN</td>\n",
       "      <td>NaN</td>\n",
       "      <td>NaN</td>\n",
       "    </tr>\n",
       "    <tr>\n",
       "      <th>3</th>\n",
       "      <td>2022</td>\n",
       "      <td>8</td>\n",
       "      <td>1</td>\n",
       "      <td>1</td>\n",
       "      <td>8/1/2022 12:00:00 AM</td>\n",
       "      <td>9E</td>\n",
       "      <td>4632</td>\n",
       "      <td>11042</td>\n",
       "      <td>CLE</td>\n",
       "      <td>Cleveland, OH</td>\n",
       "      <td>OH</td>\n",
       "      <td>10721</td>\n",
       "      <td>BOS</td>\n",
       "      <td>Boston, MA</td>\n",
       "      <td>MA</td>\n",
       "      <td>-5.0</td>\n",
       "      <td>0.0</td>\n",
       "      <td>0.0</td>\n",
       "      <td>-28.0</td>\n",
       "      <td>0.0</td>\n",
       "      <td>0.0</td>\n",
       "      <td>0.0</td>\n",
       "      <td>0.0</td>\n",
       "      <td>NaN</td>\n",
       "      <td>NaN</td>\n",
       "      <td>NaN</td>\n",
       "      <td>NaN</td>\n",
       "      <td>NaN</td>\n",
       "    </tr>\n",
       "    <tr>\n",
       "      <th>4</th>\n",
       "      <td>2022</td>\n",
       "      <td>8</td>\n",
       "      <td>1</td>\n",
       "      <td>1</td>\n",
       "      <td>8/1/2022 12:00:00 AM</td>\n",
       "      <td>9E</td>\n",
       "      <td>4634</td>\n",
       "      <td>10397</td>\n",
       "      <td>ATL</td>\n",
       "      <td>Atlanta, GA</td>\n",
       "      <td>GA</td>\n",
       "      <td>13422</td>\n",
       "      <td>MOB</td>\n",
       "      <td>Mobile, AL</td>\n",
       "      <td>AL</td>\n",
       "      <td>-6.0</td>\n",
       "      <td>0.0</td>\n",
       "      <td>0.0</td>\n",
       "      <td>-17.0</td>\n",
       "      <td>0.0</td>\n",
       "      <td>0.0</td>\n",
       "      <td>0.0</td>\n",
       "      <td>0.0</td>\n",
       "      <td>NaN</td>\n",
       "      <td>NaN</td>\n",
       "      <td>NaN</td>\n",
       "      <td>NaN</td>\n",
       "      <td>NaN</td>\n",
       "    </tr>\n",
       "  </tbody>\n",
       "</table>\n",
       "</div>"
      ],
      "text/plain": [
       "   YEAR  MONTH  DAY_OF_MONTH  DAY_OF_WEEK               FL_DATE OP_CARRIER  \\\n",
       "0  2022      8             1            1  8/1/2022 12:00:00 AM         9E   \n",
       "1  2022      8             1            1  8/1/2022 12:00:00 AM         9E   \n",
       "2  2022      8             1            1  8/1/2022 12:00:00 AM         9E   \n",
       "3  2022      8             1            1  8/1/2022 12:00:00 AM         9E   \n",
       "4  2022      8             1            1  8/1/2022 12:00:00 AM         9E   \n",
       "\n",
       "   OP_CARRIER_FL_NUM  ORIGIN_AIRPORT_ID ORIGIN    ORIGIN_CITY_NAME  \\\n",
       "0               4628              15919    XNA    Fayetteville, AR   \n",
       "1               4630              13342    MKE       Milwaukee, WI   \n",
       "2               4631              14492    RDU  Raleigh/Durham, NC   \n",
       "3               4632              11042    CLE       Cleveland, OH   \n",
       "4               4634              10397    ATL         Atlanta, GA   \n",
       "\n",
       "  ORIGIN_STATE_ABR  DEST_AIRPORT_ID DEST DEST_CITY_NAME DEST_STATE_ABR  \\\n",
       "0               AR            12953  LGA   New York, NY             NY   \n",
       "1               WI            10721  BOS     Boston, MA             MA   \n",
       "2               NC            12478  JFK   New York, NY             NY   \n",
       "3               OH            10721  BOS     Boston, MA             MA   \n",
       "4               GA            13422  MOB     Mobile, AL             AL   \n",
       "\n",
       "   DEP_DELAY  DEP_DELAY_NEW  DEP_DEL15  ARR_DELAY  ARR_DELAY_NEW  ARR_DEL15  \\\n",
       "0       -2.0            0.0        0.0       -4.0            0.0        0.0   \n",
       "1       -6.0            0.0        0.0      -18.0            0.0        0.0   \n",
       "2        NaN            NaN        NaN        NaN            NaN        NaN   \n",
       "3       -5.0            0.0        0.0      -28.0            0.0        0.0   \n",
       "4       -6.0            0.0        0.0      -17.0            0.0        0.0   \n",
       "\n",
       "   CANCELLED  DIVERTED  CARRIER_DELAY  WEATHER_DELAY  NAS_DELAY  \\\n",
       "0        0.0       0.0            NaN            NaN        NaN   \n",
       "1        0.0       0.0            NaN            NaN        NaN   \n",
       "2        1.0       0.0            NaN            NaN        NaN   \n",
       "3        0.0       0.0            NaN            NaN        NaN   \n",
       "4        0.0       0.0            NaN            NaN        NaN   \n",
       "\n",
       "   SECURITY_DELAY  LATE_AIRCRAFT_DELAY  \n",
       "0             NaN                  NaN  \n",
       "1             NaN                  NaN  \n",
       "2             NaN                  NaN  \n",
       "3             NaN                  NaN  \n",
       "4             NaN                  NaN  "
      ]
     },
     "execution_count": 5,
     "metadata": {},
     "output_type": "execute_result"
    }
   ],
   "source": [
    "# Date checkpoint\n",
    "combined_df.head(5)"
   ]
  },
  {
   "cell_type": "code",
   "execution_count": 6,
   "id": "c7902040-3ccc-4eb1-8560-179d6147d85e",
   "metadata": {},
   "outputs": [],
   "source": [
    "# Drop unneeded columns\n",
    "updated_df = combined_df.drop(columns=['OP_CARRIER_FL_NUM', \n",
    "                                       'ORIGIN_AIRPORT_ID', \n",
    "                                       'ARR_DELAY', \n",
    "                                       'ARR_DELAY_NEW', \n",
    "                                       'ORIGIN_STATE_ABR', \n",
    "                                       'DEP_DELAY_NEW', \n",
    "                                       'DEST_AIRPORT_ID',\n",
    "                                       'DEST_STATE_ABR',\n",
    "                                       'DEP_DELAY',\n",
    "                                       'CARRIER_DELAY',\n",
    "                                       'LATE_AIRCRAFT_DELAY',\n",
    "                                       'SECURITY_DELAY',\n",
    "                                       'NAS_DELAY',\n",
    "                                       'WEATHER_DELAY',\n",
    "                                       'CARRIER_DELAY',\n",
    "                                       'CANCELLED',\n",
    "                                       'DIVERTED',\n",
    "                                       'FL_DATE'\n",
    "                                      ])"
   ]
  },
  {
   "cell_type": "code",
   "execution_count": 7,
   "id": "f6bc375e-6033-48e9-b3f7-afb231ea98c8",
   "metadata": {},
   "outputs": [
    {
     "data": {
      "text/html": [
       "<div>\n",
       "<style scoped>\n",
       "    .dataframe tbody tr th:only-of-type {\n",
       "        vertical-align: middle;\n",
       "    }\n",
       "\n",
       "    .dataframe tbody tr th {\n",
       "        vertical-align: top;\n",
       "    }\n",
       "\n",
       "    .dataframe thead th {\n",
       "        text-align: right;\n",
       "    }\n",
       "</style>\n",
       "<table border=\"1\" class=\"dataframe\">\n",
       "  <thead>\n",
       "    <tr style=\"text-align: right;\">\n",
       "      <th></th>\n",
       "      <th>YEAR</th>\n",
       "      <th>MONTH</th>\n",
       "      <th>DAY_OF_MONTH</th>\n",
       "      <th>DAY_OF_WEEK</th>\n",
       "      <th>OP_CARRIER</th>\n",
       "      <th>ORIGIN</th>\n",
       "      <th>ORIGIN_CITY_NAME</th>\n",
       "      <th>DEST</th>\n",
       "      <th>DEST_CITY_NAME</th>\n",
       "      <th>DEP_DEL15</th>\n",
       "      <th>ARR_DEL15</th>\n",
       "    </tr>\n",
       "  </thead>\n",
       "  <tbody>\n",
       "    <tr>\n",
       "      <th>0</th>\n",
       "      <td>2022</td>\n",
       "      <td>8</td>\n",
       "      <td>1</td>\n",
       "      <td>1</td>\n",
       "      <td>9E</td>\n",
       "      <td>XNA</td>\n",
       "      <td>Fayetteville, AR</td>\n",
       "      <td>LGA</td>\n",
       "      <td>New York, NY</td>\n",
       "      <td>0.0</td>\n",
       "      <td>0.0</td>\n",
       "    </tr>\n",
       "    <tr>\n",
       "      <th>1</th>\n",
       "      <td>2022</td>\n",
       "      <td>8</td>\n",
       "      <td>1</td>\n",
       "      <td>1</td>\n",
       "      <td>9E</td>\n",
       "      <td>MKE</td>\n",
       "      <td>Milwaukee, WI</td>\n",
       "      <td>BOS</td>\n",
       "      <td>Boston, MA</td>\n",
       "      <td>0.0</td>\n",
       "      <td>0.0</td>\n",
       "    </tr>\n",
       "    <tr>\n",
       "      <th>2</th>\n",
       "      <td>2022</td>\n",
       "      <td>8</td>\n",
       "      <td>1</td>\n",
       "      <td>1</td>\n",
       "      <td>9E</td>\n",
       "      <td>RDU</td>\n",
       "      <td>Raleigh/Durham, NC</td>\n",
       "      <td>JFK</td>\n",
       "      <td>New York, NY</td>\n",
       "      <td>NaN</td>\n",
       "      <td>NaN</td>\n",
       "    </tr>\n",
       "    <tr>\n",
       "      <th>3</th>\n",
       "      <td>2022</td>\n",
       "      <td>8</td>\n",
       "      <td>1</td>\n",
       "      <td>1</td>\n",
       "      <td>9E</td>\n",
       "      <td>CLE</td>\n",
       "      <td>Cleveland, OH</td>\n",
       "      <td>BOS</td>\n",
       "      <td>Boston, MA</td>\n",
       "      <td>0.0</td>\n",
       "      <td>0.0</td>\n",
       "    </tr>\n",
       "    <tr>\n",
       "      <th>4</th>\n",
       "      <td>2022</td>\n",
       "      <td>8</td>\n",
       "      <td>1</td>\n",
       "      <td>1</td>\n",
       "      <td>9E</td>\n",
       "      <td>ATL</td>\n",
       "      <td>Atlanta, GA</td>\n",
       "      <td>MOB</td>\n",
       "      <td>Mobile, AL</td>\n",
       "      <td>0.0</td>\n",
       "      <td>0.0</td>\n",
       "    </tr>\n",
       "  </tbody>\n",
       "</table>\n",
       "</div>"
      ],
      "text/plain": [
       "   YEAR  MONTH  DAY_OF_MONTH  DAY_OF_WEEK OP_CARRIER ORIGIN  \\\n",
       "0  2022      8             1            1         9E    XNA   \n",
       "1  2022      8             1            1         9E    MKE   \n",
       "2  2022      8             1            1         9E    RDU   \n",
       "3  2022      8             1            1         9E    CLE   \n",
       "4  2022      8             1            1         9E    ATL   \n",
       "\n",
       "     ORIGIN_CITY_NAME DEST DEST_CITY_NAME  DEP_DEL15  ARR_DEL15  \n",
       "0    Fayetteville, AR  LGA   New York, NY        0.0        0.0  \n",
       "1       Milwaukee, WI  BOS     Boston, MA        0.0        0.0  \n",
       "2  Raleigh/Durham, NC  JFK   New York, NY        NaN        NaN  \n",
       "3       Cleveland, OH  BOS     Boston, MA        0.0        0.0  \n",
       "4         Atlanta, GA  MOB     Mobile, AL        0.0        0.0  "
      ]
     },
     "execution_count": 7,
     "metadata": {},
     "output_type": "execute_result"
    }
   ],
   "source": [
    "# Data checkpoint\n",
    "updated_df.head(5)"
   ]
  },
  {
   "cell_type": "markdown",
   "id": "f9acf8e4-189d-4642-b182-1b764b75a984",
   "metadata": {},
   "source": [
    "### Column Definitions\n",
    "\n",
    "* YEAR = Year of Flight\n",
    "* MONTH = Month of Flight\n",
    "* DAY_OF_MONTH = Day of Month\n",
    "* DAY_OF_WEEK = Day of Week\n",
    "* OP_CARRIER = Carrier Name\n",
    "* ORIGIN = Origin Airport Code\n",
    "* ORIGIN_CITY_NAME = Origin City and State\n",
    "* DEST = Destination Airport Code\n",
    "* DEST_CITY_NAME = Destination City and State\n",
    "* DEP_DEL15 = Departure Delay (0 = No, 1 = Yes)\n",
    "* ARR_DEL15 = Arrival Delay (0 = No, 1 = Yes)"
   ]
  },
  {
   "cell_type": "code",
   "execution_count": 8,
   "id": "5f94ec8d-a5c7-410a-89a1-11ab07df34a3",
   "metadata": {},
   "outputs": [],
   "source": [
    "# Drop NA entries\n",
    "cleaned_df = updated_df.dropna()"
   ]
  },
  {
   "cell_type": "code",
   "execution_count": 9,
   "id": "d163af53-439c-4b9b-9697-9dc65abf4441",
   "metadata": {},
   "outputs": [
    {
     "data": {
      "text/plain": [
       "YEAR                0\n",
       "MONTH               0\n",
       "DAY_OF_MONTH        0\n",
       "DAY_OF_WEEK         0\n",
       "OP_CARRIER          0\n",
       "ORIGIN              0\n",
       "ORIGIN_CITY_NAME    0\n",
       "DEST                0\n",
       "DEST_CITY_NAME      0\n",
       "DEP_DEL15           0\n",
       "ARR_DEL15           0\n",
       "dtype: int64"
      ]
     },
     "execution_count": 9,
     "metadata": {},
     "output_type": "execute_result"
    }
   ],
   "source": [
    "# Data checkpoint\n",
    "cleaned_df.isna().sum()"
   ]
  },
  {
   "cell_type": "code",
   "execution_count": 10,
   "id": "597572a4-c398-4bd0-805a-fdbecc885a7f",
   "metadata": {},
   "outputs": [
    {
     "data": {
      "text/plain": [
       "(7209412, 11)"
      ]
     },
     "execution_count": 10,
     "metadata": {},
     "output_type": "execute_result"
    }
   ],
   "source": [
    "# Data checkpoint\n",
    "cleaned_df.shape"
   ]
  },
  {
   "cell_type": "code",
   "execution_count": 11,
   "id": "6c5dcd4f-6878-47c3-95ad-3564dad72cbf",
   "metadata": {},
   "outputs": [],
   "source": [
    "# Remap DAY_OF_WEEK values\n",
    "day_dict = {1 : 'Monday', \n",
    "            2 : 'Tuesday', \n",
    "            3 : 'Wednesday', \n",
    "            4 : 'Thursday', \n",
    "            5 : 'Friday', \n",
    "            6 : 'Saturday',\n",
    "            7 : 'Sunday'\n",
    "           }\n",
    " \n",
    "cleaned_df = cleaned_df.replace({\"DAY_OF_WEEK\": day_dict})"
   ]
  },
  {
   "cell_type": "code",
   "execution_count": 12,
   "id": "49982418-0685-49cf-b8df-d7ce49688b7a",
   "metadata": {},
   "outputs": [],
   "source": [
    "# Remap OP_CARRIER values\n",
    "carrier_dict = {'WN' : 'Southwest Airlines',\n",
    "                'DL' : 'Delta Air Lines',\n",
    "                'AA' : 'American Airlines',\n",
    "                'UA' : 'United Air Lines',\n",
    "                'OO' : 'SkyWest Airlines',\n",
    "                'YX' : 'Republic Airline',\n",
    "                'B6' : 'JetBlue Airways',\n",
    "                'NK' : 'Spirit Air Lines',\n",
    "                'AS' : 'Alaska Airlines',\n",
    "                'MQ' : 'Envoy Air',\n",
    "                '9E' : 'Endeavor Air',\n",
    "                'OH' : 'PSA Airlines',\n",
    "                'F9' : 'Frontier Airlines',\n",
    "                'G4' : 'Allegiant Air',\n",
    "                'HA' : 'Hawaiian Airlines',\n",
    "                'YV' : 'Mesa Airlines',\n",
    "                'QX' : 'Horizon Air'\n",
    "               }\n",
    "\n",
    "cleaned_df = cleaned_df.replace({\"OP_CARRIER\": carrier_dict})"
   ]
  },
  {
   "cell_type": "code",
   "execution_count": 13,
   "id": "d6a5dc1b-95d8-4557-94be-98045069ce98",
   "metadata": {},
   "outputs": [],
   "source": [
    "# Remap MONTH values\n",
    "month_dict = {1 : 'JAN', \n",
    "              2 : 'FEB', \n",
    "              3 : 'MAR', \n",
    "              4 : 'APR', \n",
    "              5 : 'MAY', \n",
    "              6 : 'JUN',\n",
    "              7 : 'JUL', \n",
    "              8 : 'AUG',\n",
    "              9 : 'SEP',\n",
    "              10 : 'OCT',\n",
    "              11 : 'NOV',\n",
    "              12 : 'DEC'\n",
    "             }\n",
    "\n",
    "cleaned_df = cleaned_df.replace({\"MONTH\": month_dict})"
   ]
  },
  {
   "cell_type": "code",
   "execution_count": 14,
   "id": "9f9f25a8-a0c2-4e97-b07b-c4ebf1a9dd16",
   "metadata": {},
   "outputs": [
    {
     "data": {
      "text/plain": [
       "YEAR                   int64\n",
       "MONTH               category\n",
       "DAY_OF_MONTH           int64\n",
       "DAY_OF_WEEK         category\n",
       "OP_CARRIER          category\n",
       "ORIGIN              category\n",
       "ORIGIN_CITY_NAME    category\n",
       "DEST                category\n",
       "DEST_CITY_NAME      category\n",
       "DEP_DEL15              int32\n",
       "ARR_DEL15              int32\n",
       "dtype: object"
      ]
     },
     "execution_count": 14,
     "metadata": {},
     "output_type": "execute_result"
    }
   ],
   "source": [
    "# Convert data types\n",
    "cleaned_df['ARR_DEL15'] = cleaned_df['ARR_DEL15'].astype(int) \n",
    "cleaned_df['DEP_DEL15'] = cleaned_df['DEP_DEL15'].astype(int) \n",
    "cleaned_df['MONTH'] = cleaned_df['MONTH'].astype('category') \n",
    "cleaned_df['DAY_OF_WEEK'] = cleaned_df['DAY_OF_WEEK'].astype('category') \n",
    "cleaned_df['OP_CARRIER'] = cleaned_df['OP_CARRIER'].astype('category') \n",
    "cleaned_df['ORIGIN'] = cleaned_df['ORIGIN'].astype('category') \n",
    "cleaned_df['ORIGIN_CITY_NAME'] = cleaned_df['ORIGIN_CITY_NAME'].astype('category') \n",
    "cleaned_df['DEST'] = cleaned_df['DEST'].astype('category') \n",
    "cleaned_df['DEST_CITY_NAME'] = cleaned_df['DEST_CITY_NAME'].astype('category') \n",
    "\n",
    "cleaned_df.dtypes"
   ]
  },
  {
   "cell_type": "code",
   "execution_count": 15,
   "id": "4a51e597-3309-40c6-9a71-2d5a8e3f37d3",
   "metadata": {},
   "outputs": [],
   "source": [
    "# Remap DEP_DEL15 values\n",
    "dep_dict = {0.0 : 0, \n",
    "            1.0 : 1\n",
    "           }\n",
    " \n",
    "cleaned_df = cleaned_df.replace({\"DEP_DEL15\": dep_dict})"
   ]
  },
  {
   "cell_type": "code",
   "execution_count": 16,
   "id": "73c386b9-bee0-4742-b87b-df009f376a0d",
   "metadata": {},
   "outputs": [],
   "source": [
    "# Remap ARR_DEL15 values\n",
    "arr_dict = {0.0 : 0, \n",
    "            1.0 : 1\n",
    "           }\n",
    " \n",
    "cleaned_df = cleaned_df.replace({\"ARR_DEL15\": arr_dict})"
   ]
  },
  {
   "cell_type": "code",
   "execution_count": 17,
   "id": "38a30de0-70c5-4287-a00b-5b228f03e443",
   "metadata": {},
   "outputs": [
    {
     "data": {
      "text/plain": [
       "OP_CARRIER\n",
       "Southwest Airlines    1476731\n",
       "Delta Air Lines       1021903\n",
       "American Airlines      989709\n",
       "United Air Lines       745223\n",
       "SkyWest Airlines       722245\n",
       "Republic Airline       311469\n",
       "JetBlue Airways        296276\n",
       "Spirit Air Lines       270030\n",
       "Alaska Airlines        258886\n",
       "Envoy Air              241461\n",
       "Endeavor Air           216387\n",
       "PSA Airlines           203459\n",
       "Frontier Airlines      175724\n",
       "Allegiant Air          121675\n",
       "Hawaiian Airlines       84534\n",
       "Mesa Airlines           41819\n",
       "Horizon Air             31881\n",
       "dtype: int64"
      ]
     },
     "execution_count": 17,
     "metadata": {},
     "output_type": "execute_result"
    }
   ],
   "source": [
    "# Data checkpoint\n",
    "cleaned_df.value_counts('OP_CARRIER')"
   ]
  },
  {
   "cell_type": "code",
   "execution_count": 18,
   "id": "9bd57d53-4595-4879-809e-45729faa4b8b",
   "metadata": {},
   "outputs": [
    {
     "data": {
      "text/plain": [
       "DAY_OF_WEEK\n",
       "Monday       1078130\n",
       "Thursday     1073734\n",
       "Friday       1059962\n",
       "Sunday       1029383\n",
       "Wednesday    1027925\n",
       "Tuesday      1018313\n",
       "Saturday      921965\n",
       "dtype: int64"
      ]
     },
     "execution_count": 18,
     "metadata": {},
     "output_type": "execute_result"
    }
   ],
   "source": [
    "# Data checkpoint\n",
    "cleaned_df.value_counts('DAY_OF_WEEK')"
   ]
  },
  {
   "cell_type": "code",
   "execution_count": 19,
   "id": "15b63c25-4337-4118-9e3f-e6a6cce9507f",
   "metadata": {},
   "outputs": [
    {
     "data": {
      "text/plain": [
       "MONTH\n",
       "AUG    1165761\n",
       "JUL     585058\n",
       "MAY     575429\n",
       "MAR     571533\n",
       "OCT     566492\n",
       "JUN     562804\n",
       "APR     550249\n",
       "SEP     547728\n",
       "NOV     539199\n",
       "JAN     527197\n",
       "DEC     525215\n",
       "FEB     492747\n",
       "dtype: int64"
      ]
     },
     "execution_count": 19,
     "metadata": {},
     "output_type": "execute_result"
    }
   ],
   "source": [
    "# Data checkpoint\n",
    "cleaned_df.value_counts('MONTH')"
   ]
  },
  {
   "cell_type": "code",
   "execution_count": 20,
   "id": "fb57364f-1f63-461d-81d0-a02256b24820",
   "metadata": {},
   "outputs": [
    {
     "data": {
      "text/plain": [
       "DEP_DEL15\n",
       "0    5640571\n",
       "1    1568841\n",
       "dtype: int64"
      ]
     },
     "execution_count": 20,
     "metadata": {},
     "output_type": "execute_result"
    }
   ],
   "source": [
    "# Data checkpoint\n",
    "cleaned_df.value_counts('DEP_DEL15')"
   ]
  },
  {
   "cell_type": "code",
   "execution_count": 21,
   "id": "3e5fb946-9d69-4ab0-94d1-cda0c442d1cd",
   "metadata": {},
   "outputs": [
    {
     "data": {
      "text/plain": [
       "ARR_DEL15\n",
       "0    5631761\n",
       "1    1577651\n",
       "dtype: int64"
      ]
     },
     "execution_count": 21,
     "metadata": {},
     "output_type": "execute_result"
    }
   ],
   "source": [
    "# Data checkpoint\n",
    "cleaned_df.value_counts('ARR_DEL15')"
   ]
  },
  {
   "cell_type": "code",
   "execution_count": 22,
   "id": "fb0eed74-6bb8-4579-89be-8e4e2ae0e905",
   "metadata": {},
   "outputs": [
    {
     "name": "stdout",
     "output_type": "stream",
     "text": [
      "\n",
      "Shuffled DataFrame:\n",
      "         YEAR MONTH  DAY_OF_MONTH DAY_OF_WEEK          OP_CARRIER ORIGIN  \\\n",
      "0        2022   NOV            14      Monday     Delta Air Lines    SEA   \n",
      "1        2022   DEC            11      Sunday     Delta Air Lines    EYW   \n",
      "2        2022   NOV            13      Sunday  Southwest Airlines    LAS   \n",
      "3        2022   NOV            27      Sunday   American Airlines    CLT   \n",
      "4        2022   DEC            26      Monday           Envoy Air    MIA   \n",
      "...       ...   ...           ...         ...                 ...    ...   \n",
      "7209407  2023   APR             8    Saturday     Alaska Airlines    SEA   \n",
      "7209408  2023   JUN            22    Thursday           Envoy Air    AUS   \n",
      "7209409  2023   AUG            27      Sunday    Republic Airline    PIT   \n",
      "7209410  2022   SEP             5      Monday    Spirit Air Lines    BWI   \n",
      "7209411  2023   MAY            16     Tuesday  Southwest Airlines    BWI   \n",
      "\n",
      "        ORIGIN_CITY_NAME DEST   DEST_CITY_NAME  DEP_DEL15  ARR_DEL15  \n",
      "0            Seattle, WA  LAX  Los Angeles, CA          0          0  \n",
      "1           Key West, FL  ATL      Atlanta, GA          1          1  \n",
      "2          Las Vegas, NV  LGB   Long Beach, CA          0          0  \n",
      "3          Charlotte, NC  GSP        Greer, SC          0          0  \n",
      "4              Miami, FL  TLH  Tallahassee, FL          1          1  \n",
      "...                  ...  ...              ...        ...        ...  \n",
      "7209407      Seattle, WA  SNA    Santa Ana, CA          0          0  \n",
      "7209408       Austin, TX  ABQ  Albuquerque, NM          0          0  \n",
      "7209409   Pittsburgh, PA  IAD   Washington, DC          0          0  \n",
      "7209410    Baltimore, MD  SJU     San Juan, PR          0          0  \n",
      "7209411    Baltimore, MD  DAL       Dallas, TX          1          0  \n",
      "\n",
      "[7209412 rows x 11 columns]\n"
     ]
    }
   ],
   "source": [
    "# Shuffle the dataset\n",
    "cleaned_shuffled_df = cleaned_df.sample(frac=1).reset_index(drop=True)\n",
    "\n",
    "# Print the shuffled DataFrame\n",
    "print(\"\\nShuffled DataFrame:\")\n",
    "print(cleaned_shuffled_df)"
   ]
  },
  {
   "cell_type": "code",
   "execution_count": 23,
   "id": "a59b14f7-2abe-4cd6-83ec-80e260f526f8",
   "metadata": {},
   "outputs": [
    {
     "data": {
      "text/html": [
       "<div>\n",
       "<style scoped>\n",
       "    .dataframe tbody tr th:only-of-type {\n",
       "        vertical-align: middle;\n",
       "    }\n",
       "\n",
       "    .dataframe tbody tr th {\n",
       "        vertical-align: top;\n",
       "    }\n",
       "\n",
       "    .dataframe thead th {\n",
       "        text-align: right;\n",
       "    }\n",
       "</style>\n",
       "<table border=\"1\" class=\"dataframe\">\n",
       "  <thead>\n",
       "    <tr style=\"text-align: right;\">\n",
       "      <th></th>\n",
       "      <th>YEAR</th>\n",
       "      <th>MONTH</th>\n",
       "      <th>DAY_OF_MONTH</th>\n",
       "      <th>DAY_OF_WEEK</th>\n",
       "      <th>OP_CARRIER</th>\n",
       "      <th>ORIGIN</th>\n",
       "      <th>ORIGIN_CITY_NAME</th>\n",
       "      <th>DEST</th>\n",
       "      <th>DEST_CITY_NAME</th>\n",
       "      <th>DEP_DEL15</th>\n",
       "      <th>ARR_DEL15</th>\n",
       "    </tr>\n",
       "  </thead>\n",
       "  <tbody>\n",
       "    <tr>\n",
       "      <th>0</th>\n",
       "      <td>2022</td>\n",
       "      <td>NOV</td>\n",
       "      <td>14</td>\n",
       "      <td>Monday</td>\n",
       "      <td>Delta Air Lines</td>\n",
       "      <td>SEA</td>\n",
       "      <td>Seattle, WA</td>\n",
       "      <td>LAX</td>\n",
       "      <td>Los Angeles, CA</td>\n",
       "      <td>0</td>\n",
       "      <td>0</td>\n",
       "    </tr>\n",
       "    <tr>\n",
       "      <th>1</th>\n",
       "      <td>2022</td>\n",
       "      <td>DEC</td>\n",
       "      <td>11</td>\n",
       "      <td>Sunday</td>\n",
       "      <td>Delta Air Lines</td>\n",
       "      <td>EYW</td>\n",
       "      <td>Key West, FL</td>\n",
       "      <td>ATL</td>\n",
       "      <td>Atlanta, GA</td>\n",
       "      <td>1</td>\n",
       "      <td>1</td>\n",
       "    </tr>\n",
       "    <tr>\n",
       "      <th>602985</th>\n",
       "      <td>2023</td>\n",
       "      <td>AUG</td>\n",
       "      <td>31</td>\n",
       "      <td>Thursday</td>\n",
       "      <td>Republic Airline</td>\n",
       "      <td>ACK</td>\n",
       "      <td>Nantucket, MA</td>\n",
       "      <td>JFK</td>\n",
       "      <td>New York, NY</td>\n",
       "      <td>0</td>\n",
       "      <td>0</td>\n",
       "    </tr>\n",
       "    <tr>\n",
       "      <th>602986</th>\n",
       "      <td>2023</td>\n",
       "      <td>AUG</td>\n",
       "      <td>31</td>\n",
       "      <td>Thursday</td>\n",
       "      <td>Republic Airline</td>\n",
       "      <td>CMH</td>\n",
       "      <td>Columbus, OH</td>\n",
       "      <td>JFK</td>\n",
       "      <td>New York, NY</td>\n",
       "      <td>0</td>\n",
       "      <td>0</td>\n",
       "    </tr>\n",
       "  </tbody>\n",
       "</table>\n",
       "</div>"
      ],
      "text/plain": [
       "        YEAR MONTH  DAY_OF_MONTH DAY_OF_WEEK        OP_CARRIER ORIGIN  \\\n",
       "0       2022   NOV            14      Monday   Delta Air Lines    SEA   \n",
       "1       2022   DEC            11      Sunday   Delta Air Lines    EYW   \n",
       "602985  2023   AUG            31    Thursday  Republic Airline    ACK   \n",
       "602986  2023   AUG            31    Thursday  Republic Airline    CMH   \n",
       "\n",
       "       ORIGIN_CITY_NAME DEST   DEST_CITY_NAME  DEP_DEL15  ARR_DEL15  \n",
       "0           Seattle, WA  LAX  Los Angeles, CA          0          0  \n",
       "1          Key West, FL  ATL      Atlanta, GA          1          1  \n",
       "602985    Nantucket, MA  JFK     New York, NY          0          0  \n",
       "602986     Columbus, OH  JFK     New York, NY          0          0  "
      ]
     },
     "execution_count": 23,
     "metadata": {},
     "output_type": "execute_result"
    }
   ],
   "source": [
    "# Data checkpoint\n",
    "cleaned_shuffled_df.head(2).append(cleaned_df.tail(2))"
   ]
  },
  {
   "cell_type": "code",
   "execution_count": 24,
   "id": "d99536f1-ba52-4b74-b84d-615a4c0a6498",
   "metadata": {},
   "outputs": [],
   "source": [
    "# Save new CSVs\n",
    "# Selected arbitrary limit to reduce dataset for analysis\n",
    "cleaned_shuffled_df.loc[0:150000].to_csv('Resources/prepared_dataset.csv', index= False)\n",
    "\n",
    "# Keeping one full set for personal reference\n",
    "# cleaned_df.to_csv(\"Resources/supplemental_dataset.csv\", index= False)"
   ]
  },
  {
   "cell_type": "markdown",
   "id": "8098a3a2-17ae-42a1-9768-20b449697758",
   "metadata": {},
   "source": [
    "## Part 2: Preparing dataset for modelling analysis"
   ]
  },
  {
   "cell_type": "code",
   "execution_count": 25,
   "id": "808e2d0d-d543-4847-9adb-98f2ce09b8d8",
   "metadata": {},
   "outputs": [],
   "source": [
    "# Read the CSV file from the Resources folder into a Pandas DataFrame\n",
    "\n",
    "analysis_df = pd.read_csv(\"Resources/prepared_dataset.csv\")\n",
    "\n",
    "# Remove additional columns\n",
    "analysis_df = analysis_df.drop(columns=['ORIGIN_CITY_NAME', \n",
    "                                       'DEST_CITY_NAME', \n",
    "                                        'ARR_DEL15',\n",
    "                                        \"YEAR\"\n",
    "                                       ])"
   ]
  },
  {
   "cell_type": "code",
   "execution_count": 26,
   "id": "c44eb043-ffa0-4d82-b751-1d2df6271700",
   "metadata": {},
   "outputs": [
    {
     "data": {
      "text/html": [
       "<div>\n",
       "<style scoped>\n",
       "    .dataframe tbody tr th:only-of-type {\n",
       "        vertical-align: middle;\n",
       "    }\n",
       "\n",
       "    .dataframe tbody tr th {\n",
       "        vertical-align: top;\n",
       "    }\n",
       "\n",
       "    .dataframe thead th {\n",
       "        text-align: right;\n",
       "    }\n",
       "</style>\n",
       "<table border=\"1\" class=\"dataframe\">\n",
       "  <thead>\n",
       "    <tr style=\"text-align: right;\">\n",
       "      <th></th>\n",
       "      <th>MONTH</th>\n",
       "      <th>DAY_OF_MONTH</th>\n",
       "      <th>DAY_OF_WEEK</th>\n",
       "      <th>OP_CARRIER</th>\n",
       "      <th>ORIGIN</th>\n",
       "      <th>DEST</th>\n",
       "      <th>DEP_DEL15</th>\n",
       "    </tr>\n",
       "  </thead>\n",
       "  <tbody>\n",
       "    <tr>\n",
       "      <th>0</th>\n",
       "      <td>NOV</td>\n",
       "      <td>14</td>\n",
       "      <td>Monday</td>\n",
       "      <td>Delta Air Lines</td>\n",
       "      <td>SEA</td>\n",
       "      <td>LAX</td>\n",
       "      <td>0</td>\n",
       "    </tr>\n",
       "    <tr>\n",
       "      <th>1</th>\n",
       "      <td>DEC</td>\n",
       "      <td>11</td>\n",
       "      <td>Sunday</td>\n",
       "      <td>Delta Air Lines</td>\n",
       "      <td>EYW</td>\n",
       "      <td>ATL</td>\n",
       "      <td>1</td>\n",
       "    </tr>\n",
       "    <tr>\n",
       "      <th>149999</th>\n",
       "      <td>AUG</td>\n",
       "      <td>4</td>\n",
       "      <td>Friday</td>\n",
       "      <td>Republic Airline</td>\n",
       "      <td>LGA</td>\n",
       "      <td>BOS</td>\n",
       "      <td>0</td>\n",
       "    </tr>\n",
       "    <tr>\n",
       "      <th>150000</th>\n",
       "      <td>JUL</td>\n",
       "      <td>12</td>\n",
       "      <td>Wednesday</td>\n",
       "      <td>Endeavor Air</td>\n",
       "      <td>BTV</td>\n",
       "      <td>JFK</td>\n",
       "      <td>0</td>\n",
       "    </tr>\n",
       "  </tbody>\n",
       "</table>\n",
       "</div>"
      ],
      "text/plain": [
       "       MONTH  DAY_OF_MONTH DAY_OF_WEEK        OP_CARRIER ORIGIN DEST  \\\n",
       "0        NOV            14      Monday   Delta Air Lines    SEA  LAX   \n",
       "1        DEC            11      Sunday   Delta Air Lines    EYW  ATL   \n",
       "149999   AUG             4      Friday  Republic Airline    LGA  BOS   \n",
       "150000   JUL            12   Wednesday      Endeavor Air    BTV  JFK   \n",
       "\n",
       "        DEP_DEL15  \n",
       "0               0  \n",
       "1               1  \n",
       "149999          0  \n",
       "150000          0  "
      ]
     },
     "execution_count": 26,
     "metadata": {},
     "output_type": "execute_result"
    }
   ],
   "source": [
    "# Data checkpoint\n",
    "analysis_df.head(2).append(analysis_df.tail(2))"
   ]
  },
  {
   "cell_type": "code",
   "execution_count": 27,
   "id": "c2117ef3-0720-46f1-9d02-b0bc77fae53a",
   "metadata": {},
   "outputs": [
    {
     "data": {
      "text/plain": [
       "(150001, 7)"
      ]
     },
     "execution_count": 27,
     "metadata": {},
     "output_type": "execute_result"
    }
   ],
   "source": [
    "analysis_df.shape"
   ]
  },
  {
   "cell_type": "code",
   "execution_count": 28,
   "id": "832b1727-39d6-4159-b944-013e36c8a5da",
   "metadata": {},
   "outputs": [],
   "source": [
    "# Save to new CSV\n",
    "analysis_df.to_csv(\"Resources/analysis_df.csv\", index= False)"
   ]
  },
  {
   "cell_type": "code",
   "execution_count": null,
   "id": "1c280d1c-bbe9-43f4-9d9e-7981a207e4da",
   "metadata": {},
   "outputs": [],
   "source": []
  }
 ],
 "metadata": {
  "kernelspec": {
   "display_name": "Python 3 (ipykernel)",
   "language": "python",
   "name": "python3"
  },
  "language_info": {
   "codemirror_mode": {
    "name": "ipython",
    "version": 3
   },
   "file_extension": ".py",
   "mimetype": "text/x-python",
   "name": "python",
   "nbconvert_exporter": "python",
   "pygments_lexer": "ipython3",
   "version": "3.10.11"
  }
 },
 "nbformat": 4,
 "nbformat_minor": 5
}
