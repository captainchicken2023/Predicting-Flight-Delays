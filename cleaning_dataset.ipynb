{
 "cells": [
  {
   "cell_type": "markdown",
   "id": "d5ae01f9-2915-408e-9d6a-de4c58427810",
   "metadata": {},
   "source": [
    "## Part 1: Cleaning dataset for initial analysis"
   ]
  },
  {
   "cell_type": "code",
   "execution_count": 1,
   "id": "e21f27a5-b897-45e0-bb45-effdf2b933a8",
   "metadata": {},
   "outputs": [],
   "source": [
    "# Dependencies\n",
    "import pandas as pd\n",
    "from pathlib import Path\n",
    "import csv\n",
    "import os\n",
    "import warnings\n",
    "warnings.simplefilter(action='ignore', category=FutureWarning)"
   ]
  },
  {
   "cell_type": "code",
   "execution_count": 2,
   "id": "e30cb7f2-dc87-477d-8cf7-27c763306803",
   "metadata": {},
   "outputs": [],
   "source": [
    "# Files to load\n",
    "sep_22 = pd.read_csv(\"Resources/SEP-22_ONTIME_REPORTING.csv\")\n",
    "oct_22 = pd.read_csv(\"Resources/OCT-22_ONTIME_REPORTING.csv\")\n",
    "nov_22 = pd.read_csv(\"Resources/NOV-22_ONTIME_REPORTING.csv\")\n",
    "dec_22 = pd.read_csv(\"Resources/DEC-22_ONTIME_REPORTING.csv\")\n",
    "jan_23 = pd.read_csv(\"Resources/JAN-23_ONTIME_REPORTING.csv\")\n",
    "feb_23 = pd.read_csv(\"Resources/FEB-23_ONTIME_REPORTING.csv\")\n",
    "mar_23 = pd.read_csv(\"Resources/MAR-23_ONTIME_REPORTING.csv\")\n",
    "apr_23 = pd.read_csv(\"Resources/APR-23_ONTIME_REPORTING.csv\")\n",
    "may_23 = pd.read_csv(\"Resources/MAY-23_ONTIME_REPORTING.csv\")\n",
    "jun_23 = pd.read_csv(\"Resources/JUN-23_ONTIME_REPORTING.csv\")\n",
    "jul_23 = pd.read_csv(\"Resources/JUL-23_ONTIME_REPORTING.csv\")\n",
    "aug_23 = pd.read_csv(\"Resources/AUG-23_ONTIME_REPORTING.csv\")"
   ]
  },
  {
   "cell_type": "code",
   "execution_count": 3,
   "id": "fff00445-3bc1-49a9-947b-9f59dcf0d101",
   "metadata": {},
   "outputs": [],
   "source": [
    "# Joining data\n",
    "frames = [\n",
    "    sep_22,\n",
    "    oct_22,\n",
    "    nov_22,\n",
    "    dec_22,\n",
    "    jan_23,\n",
    "    feb_23,\n",
    "    mar_23,\n",
    "    apr_23,\n",
    "    may_23,\n",
    "    jun_23,\n",
    "    jul_23,\n",
    "    aug_23\n",
    "]\n",
    "\n",
    "pd.set_option('display.max_columns', None)\n",
    "\n",
    "combined_df = pd.concat(frames)"
   ]
  },
  {
   "cell_type": "code",
   "execution_count": 4,
   "id": "729325be-92e0-42d9-a2f1-52a24baaba57",
   "metadata": {},
   "outputs": [
    {
     "data": {
      "text/plain": [
       "(6778708, 28)"
      ]
     },
     "execution_count": 4,
     "metadata": {},
     "output_type": "execute_result"
    }
   ],
   "source": [
    "# Data checkpoint\n",
    "combined_df.shape"
   ]
  },
  {
   "cell_type": "code",
   "execution_count": 5,
   "id": "0e8e62fc-59e0-4223-9628-e34f81a68b59",
   "metadata": {},
   "outputs": [
    {
     "data": {
      "text/plain": [
       "ATL    330168\n",
       "DEN    283337\n",
       "DFW    277696\n",
       "ORD    258592\n",
       "LAX    192111\n",
       "        ...  \n",
       "ROW      1032\n",
       "AZO      1025\n",
       "DEC      1022\n",
       "BLV      1018\n",
       "LAW      1009\n",
       "Name: ORIGIN, Length: 241, dtype: int64"
      ]
     },
     "execution_count": 5,
     "metadata": {},
     "output_type": "execute_result"
    }
   ],
   "source": [
    "# Removing airports with fewer than 1000 flights\n",
    "origin_adjust = combined_df['ORIGIN'].value_counts()\n",
    "\n",
    "to_remove = origin_adjust[origin_adjust <= 1000].index\n",
    "\n",
    "combined_df_adjust = combined_df[~combined_df.ORIGIN.isin(to_remove)]\n",
    "\n",
    "combined_df_adjust['ORIGIN'].value_counts()"
   ]
  },
  {
   "cell_type": "code",
   "execution_count": 6,
   "id": "5ffdd4d5-d6c2-4755-90b1-80ea2db7c3c9",
   "metadata": {},
   "outputs": [
    {
     "data": {
      "text/plain": [
       "(6716245, 28)"
      ]
     },
     "execution_count": 6,
     "metadata": {},
     "output_type": "execute_result"
    }
   ],
   "source": [
    "combined_df_adjust.shape"
   ]
  },
  {
   "cell_type": "code",
   "execution_count": 7,
   "id": "5e4848b5-dc6f-40e6-a2ee-073d7283736b",
   "metadata": {},
   "outputs": [
    {
     "data": {
      "text/plain": [
       "ATL    330168\n",
       "DEN    283337\n",
       "DFW    277696\n",
       "ORD    258592\n",
       "LAX    192111\n",
       "        ...  \n",
       "ROW      1032\n",
       "AZO      1025\n",
       "DEC      1022\n",
       "BLV      1018\n",
       "LAW      1009\n",
       "Name: ORIGIN, Length: 241, dtype: int64"
      ]
     },
     "execution_count": 7,
     "metadata": {},
     "output_type": "execute_result"
    }
   ],
   "source": [
    "combined_df_adjust['ORIGIN'].value_counts()"
   ]
  },
  {
   "cell_type": "code",
   "execution_count": 8,
   "id": "9e68967f-3560-44f6-8465-d3fb592102bb",
   "metadata": {},
   "outputs": [
    {
     "data": {
      "text/html": [
       "<div>\n",
       "<style scoped>\n",
       "    .dataframe tbody tr th:only-of-type {\n",
       "        vertical-align: middle;\n",
       "    }\n",
       "\n",
       "    .dataframe tbody tr th {\n",
       "        vertical-align: top;\n",
       "    }\n",
       "\n",
       "    .dataframe thead th {\n",
       "        text-align: right;\n",
       "    }\n",
       "</style>\n",
       "<table border=\"1\" class=\"dataframe\">\n",
       "  <thead>\n",
       "    <tr style=\"text-align: right;\">\n",
       "      <th></th>\n",
       "      <th>YEAR</th>\n",
       "      <th>MONTH</th>\n",
       "      <th>DAY_OF_MONTH</th>\n",
       "      <th>DAY_OF_WEEK</th>\n",
       "      <th>FL_DATE</th>\n",
       "      <th>OP_CARRIER</th>\n",
       "      <th>OP_CARRIER_FL_NUM</th>\n",
       "      <th>ORIGIN_AIRPORT_ID</th>\n",
       "      <th>ORIGIN</th>\n",
       "      <th>ORIGIN_CITY_NAME</th>\n",
       "      <th>ORIGIN_STATE_ABR</th>\n",
       "      <th>DEST_AIRPORT_ID</th>\n",
       "      <th>DEST</th>\n",
       "      <th>DEST_CITY_NAME</th>\n",
       "      <th>DEST_STATE_ABR</th>\n",
       "      <th>DEP_DELAY</th>\n",
       "      <th>DEP_DELAY_NEW</th>\n",
       "      <th>DEP_DEL15</th>\n",
       "      <th>ARR_DELAY</th>\n",
       "      <th>ARR_DELAY_NEW</th>\n",
       "      <th>ARR_DEL15</th>\n",
       "      <th>CANCELLED</th>\n",
       "      <th>DIVERTED</th>\n",
       "      <th>CARRIER_DELAY</th>\n",
       "      <th>WEATHER_DELAY</th>\n",
       "      <th>NAS_DELAY</th>\n",
       "      <th>SECURITY_DELAY</th>\n",
       "      <th>LATE_AIRCRAFT_DELAY</th>\n",
       "    </tr>\n",
       "  </thead>\n",
       "  <tbody>\n",
       "    <tr>\n",
       "      <th>0</th>\n",
       "      <td>2022</td>\n",
       "      <td>9</td>\n",
       "      <td>1</td>\n",
       "      <td>4</td>\n",
       "      <td>9/1/2022 12:00:00 AM</td>\n",
       "      <td>9E</td>\n",
       "      <td>4628</td>\n",
       "      <td>15919</td>\n",
       "      <td>XNA</td>\n",
       "      <td>Fayetteville, AR</td>\n",
       "      <td>AR</td>\n",
       "      <td>12953</td>\n",
       "      <td>LGA</td>\n",
       "      <td>New York, NY</td>\n",
       "      <td>NY</td>\n",
       "      <td>-5.0</td>\n",
       "      <td>0.0</td>\n",
       "      <td>0.0</td>\n",
       "      <td>-17.0</td>\n",
       "      <td>0.0</td>\n",
       "      <td>0.0</td>\n",
       "      <td>0.0</td>\n",
       "      <td>0.0</td>\n",
       "      <td>NaN</td>\n",
       "      <td>NaN</td>\n",
       "      <td>NaN</td>\n",
       "      <td>NaN</td>\n",
       "      <td>NaN</td>\n",
       "    </tr>\n",
       "    <tr>\n",
       "      <th>1</th>\n",
       "      <td>2022</td>\n",
       "      <td>9</td>\n",
       "      <td>1</td>\n",
       "      <td>4</td>\n",
       "      <td>9/1/2022 12:00:00 AM</td>\n",
       "      <td>9E</td>\n",
       "      <td>4630</td>\n",
       "      <td>13342</td>\n",
       "      <td>MKE</td>\n",
       "      <td>Milwaukee, WI</td>\n",
       "      <td>WI</td>\n",
       "      <td>10721</td>\n",
       "      <td>BOS</td>\n",
       "      <td>Boston, MA</td>\n",
       "      <td>MA</td>\n",
       "      <td>204.0</td>\n",
       "      <td>204.0</td>\n",
       "      <td>1.0</td>\n",
       "      <td>216.0</td>\n",
       "      <td>216.0</td>\n",
       "      <td>1.0</td>\n",
       "      <td>0.0</td>\n",
       "      <td>0.0</td>\n",
       "      <td>204.0</td>\n",
       "      <td>0.0</td>\n",
       "      <td>12.0</td>\n",
       "      <td>0.0</td>\n",
       "      <td>0.0</td>\n",
       "    </tr>\n",
       "    <tr>\n",
       "      <th>2</th>\n",
       "      <td>2022</td>\n",
       "      <td>9</td>\n",
       "      <td>1</td>\n",
       "      <td>4</td>\n",
       "      <td>9/1/2022 12:00:00 AM</td>\n",
       "      <td>9E</td>\n",
       "      <td>4631</td>\n",
       "      <td>14492</td>\n",
       "      <td>RDU</td>\n",
       "      <td>Raleigh/Durham, NC</td>\n",
       "      <td>NC</td>\n",
       "      <td>12478</td>\n",
       "      <td>JFK</td>\n",
       "      <td>New York, NY</td>\n",
       "      <td>NY</td>\n",
       "      <td>-8.0</td>\n",
       "      <td>0.0</td>\n",
       "      <td>0.0</td>\n",
       "      <td>-21.0</td>\n",
       "      <td>0.0</td>\n",
       "      <td>0.0</td>\n",
       "      <td>0.0</td>\n",
       "      <td>0.0</td>\n",
       "      <td>NaN</td>\n",
       "      <td>NaN</td>\n",
       "      <td>NaN</td>\n",
       "      <td>NaN</td>\n",
       "      <td>NaN</td>\n",
       "    </tr>\n",
       "    <tr>\n",
       "      <th>3</th>\n",
       "      <td>2022</td>\n",
       "      <td>9</td>\n",
       "      <td>1</td>\n",
       "      <td>4</td>\n",
       "      <td>9/1/2022 12:00:00 AM</td>\n",
       "      <td>9E</td>\n",
       "      <td>4632</td>\n",
       "      <td>11042</td>\n",
       "      <td>CLE</td>\n",
       "      <td>Cleveland, OH</td>\n",
       "      <td>OH</td>\n",
       "      <td>10721</td>\n",
       "      <td>BOS</td>\n",
       "      <td>Boston, MA</td>\n",
       "      <td>MA</td>\n",
       "      <td>-4.0</td>\n",
       "      <td>0.0</td>\n",
       "      <td>0.0</td>\n",
       "      <td>0.0</td>\n",
       "      <td>0.0</td>\n",
       "      <td>0.0</td>\n",
       "      <td>0.0</td>\n",
       "      <td>0.0</td>\n",
       "      <td>NaN</td>\n",
       "      <td>NaN</td>\n",
       "      <td>NaN</td>\n",
       "      <td>NaN</td>\n",
       "      <td>NaN</td>\n",
       "    </tr>\n",
       "    <tr>\n",
       "      <th>4</th>\n",
       "      <td>2022</td>\n",
       "      <td>9</td>\n",
       "      <td>1</td>\n",
       "      <td>4</td>\n",
       "      <td>9/1/2022 12:00:00 AM</td>\n",
       "      <td>9E</td>\n",
       "      <td>4634</td>\n",
       "      <td>10397</td>\n",
       "      <td>ATL</td>\n",
       "      <td>Atlanta, GA</td>\n",
       "      <td>GA</td>\n",
       "      <td>13422</td>\n",
       "      <td>MOB</td>\n",
       "      <td>Mobile, AL</td>\n",
       "      <td>AL</td>\n",
       "      <td>-5.0</td>\n",
       "      <td>0.0</td>\n",
       "      <td>0.0</td>\n",
       "      <td>-8.0</td>\n",
       "      <td>0.0</td>\n",
       "      <td>0.0</td>\n",
       "      <td>0.0</td>\n",
       "      <td>0.0</td>\n",
       "      <td>NaN</td>\n",
       "      <td>NaN</td>\n",
       "      <td>NaN</td>\n",
       "      <td>NaN</td>\n",
       "      <td>NaN</td>\n",
       "    </tr>\n",
       "  </tbody>\n",
       "</table>\n",
       "</div>"
      ],
      "text/plain": [
       "   YEAR  MONTH  DAY_OF_MONTH  DAY_OF_WEEK               FL_DATE OP_CARRIER  \\\n",
       "0  2022      9             1            4  9/1/2022 12:00:00 AM         9E   \n",
       "1  2022      9             1            4  9/1/2022 12:00:00 AM         9E   \n",
       "2  2022      9             1            4  9/1/2022 12:00:00 AM         9E   \n",
       "3  2022      9             1            4  9/1/2022 12:00:00 AM         9E   \n",
       "4  2022      9             1            4  9/1/2022 12:00:00 AM         9E   \n",
       "\n",
       "   OP_CARRIER_FL_NUM  ORIGIN_AIRPORT_ID ORIGIN    ORIGIN_CITY_NAME  \\\n",
       "0               4628              15919    XNA    Fayetteville, AR   \n",
       "1               4630              13342    MKE       Milwaukee, WI   \n",
       "2               4631              14492    RDU  Raleigh/Durham, NC   \n",
       "3               4632              11042    CLE       Cleveland, OH   \n",
       "4               4634              10397    ATL         Atlanta, GA   \n",
       "\n",
       "  ORIGIN_STATE_ABR  DEST_AIRPORT_ID DEST DEST_CITY_NAME DEST_STATE_ABR  \\\n",
       "0               AR            12953  LGA   New York, NY             NY   \n",
       "1               WI            10721  BOS     Boston, MA             MA   \n",
       "2               NC            12478  JFK   New York, NY             NY   \n",
       "3               OH            10721  BOS     Boston, MA             MA   \n",
       "4               GA            13422  MOB     Mobile, AL             AL   \n",
       "\n",
       "   DEP_DELAY  DEP_DELAY_NEW  DEP_DEL15  ARR_DELAY  ARR_DELAY_NEW  ARR_DEL15  \\\n",
       "0       -5.0            0.0        0.0      -17.0            0.0        0.0   \n",
       "1      204.0          204.0        1.0      216.0          216.0        1.0   \n",
       "2       -8.0            0.0        0.0      -21.0            0.0        0.0   \n",
       "3       -4.0            0.0        0.0        0.0            0.0        0.0   \n",
       "4       -5.0            0.0        0.0       -8.0            0.0        0.0   \n",
       "\n",
       "   CANCELLED  DIVERTED  CARRIER_DELAY  WEATHER_DELAY  NAS_DELAY  \\\n",
       "0        0.0       0.0            NaN            NaN        NaN   \n",
       "1        0.0       0.0          204.0            0.0       12.0   \n",
       "2        0.0       0.0            NaN            NaN        NaN   \n",
       "3        0.0       0.0            NaN            NaN        NaN   \n",
       "4        0.0       0.0            NaN            NaN        NaN   \n",
       "\n",
       "   SECURITY_DELAY  LATE_AIRCRAFT_DELAY  \n",
       "0             NaN                  NaN  \n",
       "1             0.0                  0.0  \n",
       "2             NaN                  NaN  \n",
       "3             NaN                  NaN  \n",
       "4             NaN                  NaN  "
      ]
     },
     "execution_count": 8,
     "metadata": {},
     "output_type": "execute_result"
    }
   ],
   "source": [
    "# Date checkpoint\n",
    "combined_df_adjust.head(5)"
   ]
  },
  {
   "cell_type": "code",
   "execution_count": 9,
   "id": "c7902040-3ccc-4eb1-8560-179d6147d85e",
   "metadata": {},
   "outputs": [],
   "source": [
    "# Drop unneeded columns\n",
    "updated_df = combined_df_adjust.drop(columns=['OP_CARRIER_FL_NUM', \n",
    "                                       'ORIGIN_AIRPORT_ID', \n",
    "                                       'ARR_DELAY', \n",
    "                                       'ARR_DELAY_NEW', \n",
    "                                       'ORIGIN_STATE_ABR', \n",
    "                                       'DEP_DELAY_NEW', \n",
    "                                       'DEST_AIRPORT_ID',\n",
    "                                       'DEST_STATE_ABR',\n",
    "                                       'DEP_DELAY',\n",
    "                                       'CARRIER_DELAY',\n",
    "                                       'LATE_AIRCRAFT_DELAY',\n",
    "                                       'SECURITY_DELAY',\n",
    "                                       'NAS_DELAY',\n",
    "                                       'WEATHER_DELAY',\n",
    "                                       'CARRIER_DELAY',\n",
    "                                       'CANCELLED',\n",
    "                                       'DIVERTED',\n",
    "                                       'FL_DATE'\n",
    "                                      ])"
   ]
  },
  {
   "cell_type": "code",
   "execution_count": 10,
   "id": "f6bc375e-6033-48e9-b3f7-afb231ea98c8",
   "metadata": {},
   "outputs": [
    {
     "data": {
      "text/html": [
       "<div>\n",
       "<style scoped>\n",
       "    .dataframe tbody tr th:only-of-type {\n",
       "        vertical-align: middle;\n",
       "    }\n",
       "\n",
       "    .dataframe tbody tr th {\n",
       "        vertical-align: top;\n",
       "    }\n",
       "\n",
       "    .dataframe thead th {\n",
       "        text-align: right;\n",
       "    }\n",
       "</style>\n",
       "<table border=\"1\" class=\"dataframe\">\n",
       "  <thead>\n",
       "    <tr style=\"text-align: right;\">\n",
       "      <th></th>\n",
       "      <th>YEAR</th>\n",
       "      <th>MONTH</th>\n",
       "      <th>DAY_OF_MONTH</th>\n",
       "      <th>DAY_OF_WEEK</th>\n",
       "      <th>OP_CARRIER</th>\n",
       "      <th>ORIGIN</th>\n",
       "      <th>ORIGIN_CITY_NAME</th>\n",
       "      <th>DEST</th>\n",
       "      <th>DEST_CITY_NAME</th>\n",
       "      <th>DEP_DEL15</th>\n",
       "      <th>ARR_DEL15</th>\n",
       "    </tr>\n",
       "  </thead>\n",
       "  <tbody>\n",
       "    <tr>\n",
       "      <th>0</th>\n",
       "      <td>2022</td>\n",
       "      <td>9</td>\n",
       "      <td>1</td>\n",
       "      <td>4</td>\n",
       "      <td>9E</td>\n",
       "      <td>XNA</td>\n",
       "      <td>Fayetteville, AR</td>\n",
       "      <td>LGA</td>\n",
       "      <td>New York, NY</td>\n",
       "      <td>0.0</td>\n",
       "      <td>0.0</td>\n",
       "    </tr>\n",
       "    <tr>\n",
       "      <th>1</th>\n",
       "      <td>2022</td>\n",
       "      <td>9</td>\n",
       "      <td>1</td>\n",
       "      <td>4</td>\n",
       "      <td>9E</td>\n",
       "      <td>MKE</td>\n",
       "      <td>Milwaukee, WI</td>\n",
       "      <td>BOS</td>\n",
       "      <td>Boston, MA</td>\n",
       "      <td>1.0</td>\n",
       "      <td>1.0</td>\n",
       "    </tr>\n",
       "    <tr>\n",
       "      <th>2</th>\n",
       "      <td>2022</td>\n",
       "      <td>9</td>\n",
       "      <td>1</td>\n",
       "      <td>4</td>\n",
       "      <td>9E</td>\n",
       "      <td>RDU</td>\n",
       "      <td>Raleigh/Durham, NC</td>\n",
       "      <td>JFK</td>\n",
       "      <td>New York, NY</td>\n",
       "      <td>0.0</td>\n",
       "      <td>0.0</td>\n",
       "    </tr>\n",
       "    <tr>\n",
       "      <th>3</th>\n",
       "      <td>2022</td>\n",
       "      <td>9</td>\n",
       "      <td>1</td>\n",
       "      <td>4</td>\n",
       "      <td>9E</td>\n",
       "      <td>CLE</td>\n",
       "      <td>Cleveland, OH</td>\n",
       "      <td>BOS</td>\n",
       "      <td>Boston, MA</td>\n",
       "      <td>0.0</td>\n",
       "      <td>0.0</td>\n",
       "    </tr>\n",
       "    <tr>\n",
       "      <th>4</th>\n",
       "      <td>2022</td>\n",
       "      <td>9</td>\n",
       "      <td>1</td>\n",
       "      <td>4</td>\n",
       "      <td>9E</td>\n",
       "      <td>ATL</td>\n",
       "      <td>Atlanta, GA</td>\n",
       "      <td>MOB</td>\n",
       "      <td>Mobile, AL</td>\n",
       "      <td>0.0</td>\n",
       "      <td>0.0</td>\n",
       "    </tr>\n",
       "  </tbody>\n",
       "</table>\n",
       "</div>"
      ],
      "text/plain": [
       "   YEAR  MONTH  DAY_OF_MONTH  DAY_OF_WEEK OP_CARRIER ORIGIN  \\\n",
       "0  2022      9             1            4         9E    XNA   \n",
       "1  2022      9             1            4         9E    MKE   \n",
       "2  2022      9             1            4         9E    RDU   \n",
       "3  2022      9             1            4         9E    CLE   \n",
       "4  2022      9             1            4         9E    ATL   \n",
       "\n",
       "     ORIGIN_CITY_NAME DEST DEST_CITY_NAME  DEP_DEL15  ARR_DEL15  \n",
       "0    Fayetteville, AR  LGA   New York, NY        0.0        0.0  \n",
       "1       Milwaukee, WI  BOS     Boston, MA        1.0        1.0  \n",
       "2  Raleigh/Durham, NC  JFK   New York, NY        0.0        0.0  \n",
       "3       Cleveland, OH  BOS     Boston, MA        0.0        0.0  \n",
       "4         Atlanta, GA  MOB     Mobile, AL        0.0        0.0  "
      ]
     },
     "execution_count": 10,
     "metadata": {},
     "output_type": "execute_result"
    }
   ],
   "source": [
    "# Data checkpoint\n",
    "updated_df.head(5)"
   ]
  },
  {
   "cell_type": "markdown",
   "id": "f9acf8e4-189d-4642-b182-1b764b75a984",
   "metadata": {},
   "source": [
    "### Column Definitions\n",
    "\n",
    "* YEAR = Year of Flight\n",
    "* MONTH = Month of Flight\n",
    "* DAY_OF_MONTH = Day of Month\n",
    "* DAY_OF_WEEK = Day of Week\n",
    "* OP_CARRIER = Carrier Name\n",
    "* ORIGIN = Origin Airport Code\n",
    "* ORIGIN_CITY_NAME = Origin City and State\n",
    "* DEST = Destination Airport Code\n",
    "* DEST_CITY_NAME = Destination City and State\n",
    "* DEP_DEL15 = Departure Delay (0 = No, 1 = Yes)\n",
    "* ARR_DEL15 = Arrival Delay (0 = No, 1 = Yes)"
   ]
  },
  {
   "cell_type": "code",
   "execution_count": 11,
   "id": "5f94ec8d-a5c7-410a-89a1-11ab07df34a3",
   "metadata": {},
   "outputs": [],
   "source": [
    "# Drop NA entries\n",
    "cleaned_df = updated_df.dropna()"
   ]
  },
  {
   "cell_type": "code",
   "execution_count": 12,
   "id": "d163af53-439c-4b9b-9697-9dc65abf4441",
   "metadata": {},
   "outputs": [
    {
     "data": {
      "text/plain": [
       "YEAR                0\n",
       "MONTH               0\n",
       "DAY_OF_MONTH        0\n",
       "DAY_OF_WEEK         0\n",
       "OP_CARRIER          0\n",
       "ORIGIN              0\n",
       "ORIGIN_CITY_NAME    0\n",
       "DEST                0\n",
       "DEST_CITY_NAME      0\n",
       "DEP_DEL15           0\n",
       "ARR_DEL15           0\n",
       "dtype: int64"
      ]
     },
     "execution_count": 12,
     "metadata": {},
     "output_type": "execute_result"
    }
   ],
   "source": [
    "# Data checkpoint\n",
    "cleaned_df.isna().sum()"
   ]
  },
  {
   "cell_type": "code",
   "execution_count": 13,
   "id": "597572a4-c398-4bd0-805a-fdbecc885a7f",
   "metadata": {},
   "outputs": [
    {
     "data": {
      "text/plain": [
       "(6575257, 11)"
      ]
     },
     "execution_count": 13,
     "metadata": {},
     "output_type": "execute_result"
    }
   ],
   "source": [
    "# Data checkpoint\n",
    "cleaned_df.shape"
   ]
  },
  {
   "cell_type": "code",
   "execution_count": 14,
   "id": "6c5dcd4f-6878-47c3-95ad-3564dad72cbf",
   "metadata": {},
   "outputs": [],
   "source": [
    "# Remap DAY_OF_WEEK values\n",
    "day_dict = {1 : 'Monday', \n",
    "            2 : 'Tuesday', \n",
    "            3 : 'Wednesday', \n",
    "            4 : 'Thursday', \n",
    "            5 : 'Friday', \n",
    "            6 : 'Saturday',\n",
    "            7 : 'Sunday'\n",
    "           }\n",
    " \n",
    "cleaned_df = cleaned_df.replace({\"DAY_OF_WEEK\": day_dict})"
   ]
  },
  {
   "cell_type": "code",
   "execution_count": 15,
   "id": "49982418-0685-49cf-b8df-d7ce49688b7a",
   "metadata": {},
   "outputs": [],
   "source": [
    "# Remap OP_CARRIER values\n",
    "carrier_dict = {'WN' : 'Southwest Airlines',\n",
    "                'DL' : 'Delta Air Lines',\n",
    "                'AA' : 'American Airlines',\n",
    "                'UA' : 'United Air Lines',\n",
    "                'OO' : 'SkyWest Airlines',\n",
    "                'YX' : 'Republic Airline',\n",
    "                'B6' : 'JetBlue Airways',\n",
    "                'NK' : 'Spirit Air Lines',\n",
    "                'AS' : 'Alaska Airlines',\n",
    "                'MQ' : 'Envoy Air',\n",
    "                '9E' : 'Endeavor Air',\n",
    "                'OH' : 'PSA Airlines',\n",
    "                'F9' : 'Frontier Airlines',\n",
    "                'G4' : 'Allegiant Air',\n",
    "                'HA' : 'Hawaiian Airlines',\n",
    "                'YV' : 'Mesa Airlines',\n",
    "                'QX' : 'Horizon Air'\n",
    "               }\n",
    "\n",
    "cleaned_df = cleaned_df.replace({\"OP_CARRIER\": carrier_dict})"
   ]
  },
  {
   "cell_type": "code",
   "execution_count": 16,
   "id": "9f9f25a8-a0c2-4e97-b07b-c4ebf1a9dd16",
   "metadata": {},
   "outputs": [
    {
     "data": {
      "text/plain": [
       "YEAR                   int64\n",
       "MONTH                  int32\n",
       "DAY_OF_MONTH           int64\n",
       "DAY_OF_WEEK         category\n",
       "OP_CARRIER          category\n",
       "ORIGIN              category\n",
       "ORIGIN_CITY_NAME    category\n",
       "DEST                category\n",
       "DEST_CITY_NAME      category\n",
       "DEP_DEL15              int32\n",
       "ARR_DEL15              int32\n",
       "dtype: object"
      ]
     },
     "execution_count": 16,
     "metadata": {},
     "output_type": "execute_result"
    }
   ],
   "source": [
    "# Convert data types\n",
    "cleaned_df['ARR_DEL15'] = cleaned_df['ARR_DEL15'].astype(int) \n",
    "cleaned_df['DEP_DEL15'] = cleaned_df['DEP_DEL15'].astype(int) \n",
    "cleaned_df['MONTH'] = cleaned_df['MONTH'].astype(int) \n",
    "cleaned_df['DAY_OF_WEEK'] = cleaned_df['DAY_OF_WEEK'].astype('category') \n",
    "cleaned_df['OP_CARRIER'] = cleaned_df['OP_CARRIER'].astype('category') \n",
    "cleaned_df['ORIGIN'] = cleaned_df['ORIGIN'].astype('category') \n",
    "cleaned_df['ORIGIN_CITY_NAME'] = cleaned_df['ORIGIN_CITY_NAME'].astype('category') \n",
    "cleaned_df['DEST'] = cleaned_df['DEST'].astype('category') \n",
    "cleaned_df['DEST_CITY_NAME'] = cleaned_df['DEST_CITY_NAME'].astype('category') \n",
    "\n",
    "cleaned_df.dtypes"
   ]
  },
  {
   "cell_type": "code",
   "execution_count": 17,
   "id": "4a51e597-3309-40c6-9a71-2d5a8e3f37d3",
   "metadata": {},
   "outputs": [],
   "source": [
    "# Remap DEP_DEL15 values\n",
    "dep_dict = {0.0 : 0, \n",
    "            1.0 : 1\n",
    "           }\n",
    " \n",
    "cleaned_df = cleaned_df.replace({\"DEP_DEL15\": dep_dict})"
   ]
  },
  {
   "cell_type": "code",
   "execution_count": 18,
   "id": "73c386b9-bee0-4742-b87b-df009f376a0d",
   "metadata": {},
   "outputs": [],
   "source": [
    "# Remap ARR_DEL15 values\n",
    "arr_dict = {0.0 : 0, \n",
    "            1.0 : 1\n",
    "           }\n",
    " \n",
    "cleaned_df = cleaned_df.replace({\"ARR_DEL15\": arr_dict})"
   ]
  },
  {
   "cell_type": "code",
   "execution_count": 19,
   "id": "38a30de0-70c5-4287-a00b-5b228f03e443",
   "metadata": {},
   "outputs": [
    {
     "data": {
      "text/plain": [
       "OP_CARRIER\n",
       "Southwest Airlines    1361355\n",
       "Delta Air Lines        943994\n",
       "American Airlines      914925\n",
       "United Air Lines       690580\n",
       "SkyWest Airlines       624045\n",
       "Republic Airline       286677\n",
       "JetBlue Airways        273596\n",
       "Spirit Air Lines       250084\n",
       "Alaska Airlines        231927\n",
       "Envoy Air              218313\n",
       "Endeavor Air           191719\n",
       "PSA Airlines           185906\n",
       "Frontier Airlines      162340\n",
       "Allegiant Air          106004\n",
       "Hawaiian Airlines       77908\n",
       "Mesa Airlines           33343\n",
       "Horizon Air             22541\n",
       "dtype: int64"
      ]
     },
     "execution_count": 19,
     "metadata": {},
     "output_type": "execute_result"
    }
   ],
   "source": [
    "# Data checkpoint\n",
    "cleaned_df.value_counts('OP_CARRIER')"
   ]
  },
  {
   "cell_type": "code",
   "execution_count": 20,
   "id": "9bd57d53-4595-4879-809e-45729faa4b8b",
   "metadata": {},
   "outputs": [
    {
     "data": {
      "text/plain": [
       "DAY_OF_WEEK\n",
       "Thursday     988107\n",
       "Friday       974321\n",
       "Monday       973533\n",
       "Sunday       944912\n",
       "Wednesday    928477\n",
       "Tuesday      920372\n",
       "Saturday     845535\n",
       "dtype: int64"
      ]
     },
     "execution_count": 20,
     "metadata": {},
     "output_type": "execute_result"
    }
   ],
   "source": [
    "# Data checkpoint\n",
    "cleaned_df.value_counts('DAY_OF_WEEK')"
   ]
  },
  {
   "cell_type": "code",
   "execution_count": 21,
   "id": "15b63c25-4337-4118-9e3f-e6a6cce9507f",
   "metadata": {},
   "outputs": [
    {
     "data": {
      "text/plain": [
       "MONTH\n",
       "8     587309\n",
       "7     580054\n",
       "5     570645\n",
       "3     566347\n",
       "10    560610\n",
       "6     558026\n",
       "4     545473\n",
       "9     541661\n",
       "11    534106\n",
       "1     522397\n",
       "12    520450\n",
       "2     488179\n",
       "dtype: int64"
      ]
     },
     "execution_count": 21,
     "metadata": {},
     "output_type": "execute_result"
    }
   ],
   "source": [
    "# Data checkpoint\n",
    "cleaned_df.value_counts('MONTH')"
   ]
  },
  {
   "cell_type": "code",
   "execution_count": 22,
   "id": "fb57364f-1f63-461d-81d0-a02256b24820",
   "metadata": {},
   "outputs": [
    {
     "data": {
      "text/plain": [
       "DEP_DEL15\n",
       "0    5147830\n",
       "1    1427427\n",
       "dtype: int64"
      ]
     },
     "execution_count": 22,
     "metadata": {},
     "output_type": "execute_result"
    }
   ],
   "source": [
    "# Data checkpoint\n",
    "cleaned_df.value_counts('DEP_DEL15')"
   ]
  },
  {
   "cell_type": "code",
   "execution_count": 23,
   "id": "3e5fb946-9d69-4ab0-94d1-cda0c442d1cd",
   "metadata": {},
   "outputs": [
    {
     "data": {
      "text/plain": [
       "ARR_DEL15\n",
       "0    5136898\n",
       "1    1438359\n",
       "dtype: int64"
      ]
     },
     "execution_count": 23,
     "metadata": {},
     "output_type": "execute_result"
    }
   ],
   "source": [
    "# Data checkpoint\n",
    "cleaned_df.value_counts('ARR_DEL15')"
   ]
  },
  {
   "cell_type": "code",
   "execution_count": 24,
   "id": "fb0eed74-6bb8-4579-89be-8e4e2ae0e905",
   "metadata": {},
   "outputs": [
    {
     "name": "stdout",
     "output_type": "stream",
     "text": [
      "\n",
      "Shuffled DataFrame:\n",
      "         YEAR  MONTH  DAY_OF_MONTH DAY_OF_WEEK          OP_CARRIER ORIGIN  \\\n",
      "0        2022      9             3    Saturday     Delta Air Lines    LIH   \n",
      "1        2023      3             8   Wednesday   Frontier Airlines    MCO   \n",
      "2        2023      4             8    Saturday   Hawaiian Airlines    KOA   \n",
      "3        2023      6             4      Sunday        PSA Airlines    CLT   \n",
      "4        2022     10             7      Friday    United Air Lines    LGA   \n",
      "...       ...    ...           ...         ...                 ...    ...   \n",
      "6575252  2022      9             3    Saturday     Delta Air Lines    ATL   \n",
      "6575253  2023      7             8    Saturday    United Air Lines    ORD   \n",
      "6575254  2023      2            19      Sunday        Endeavor Air    JFK   \n",
      "6575255  2023      4             8    Saturday  Southwest Airlines    OAK   \n",
      "6575256  2022     12            28   Wednesday   American Airlines    SRQ   \n",
      "\n",
      "               ORIGIN_CITY_NAME DEST      DEST_CITY_NAME  DEP_DEL15  ARR_DEL15  \n",
      "0                     Lihue, HI  LAX     Los Angeles, CA          0          0  \n",
      "1                   Orlando, FL  SJU        San Juan, PR          0          0  \n",
      "2                      Kona, HI  HNL        Honolulu, HI          0          0  \n",
      "3                 Charlotte, NC  CAK           Akron, OH          1          1  \n",
      "4                  New York, NY  DEN          Denver, CO          1          1  \n",
      "...                         ...  ...                 ...        ...        ...  \n",
      "6575252             Atlanta, GA  RSW      Fort Myers, FL          0          0  \n",
      "6575253             Chicago, IL  BDL        Hartford, CT          0          0  \n",
      "6575254            New York, NY  RDU  Raleigh/Durham, NC          0          0  \n",
      "6575255             Oakland, CA  LAX     Los Angeles, CA          0          0  \n",
      "6575256  Sarasota/Bradenton, FL  CLT       Charlotte, NC          0          1  \n",
      "\n",
      "[6575257 rows x 11 columns]\n"
     ]
    }
   ],
   "source": [
    "# Shuffle the dataset\n",
    "cleaned_shuffled_df = cleaned_df.sample(frac=1).reset_index(drop=True)\n",
    "\n",
    "# Print the shuffled DataFrame\n",
    "print(\"\\nShuffled DataFrame:\")\n",
    "print(cleaned_shuffled_df)"
   ]
  },
  {
   "cell_type": "code",
   "execution_count": 25,
   "id": "a59b14f7-2abe-4cd6-83ec-80e260f526f8",
   "metadata": {},
   "outputs": [
    {
     "data": {
      "text/html": [
       "<div>\n",
       "<style scoped>\n",
       "    .dataframe tbody tr th:only-of-type {\n",
       "        vertical-align: middle;\n",
       "    }\n",
       "\n",
       "    .dataframe tbody tr th {\n",
       "        vertical-align: top;\n",
       "    }\n",
       "\n",
       "    .dataframe thead th {\n",
       "        text-align: right;\n",
       "    }\n",
       "</style>\n",
       "<table border=\"1\" class=\"dataframe\">\n",
       "  <thead>\n",
       "    <tr style=\"text-align: right;\">\n",
       "      <th></th>\n",
       "      <th>YEAR</th>\n",
       "      <th>MONTH</th>\n",
       "      <th>DAY_OF_MONTH</th>\n",
       "      <th>DAY_OF_WEEK</th>\n",
       "      <th>OP_CARRIER</th>\n",
       "      <th>ORIGIN</th>\n",
       "      <th>ORIGIN_CITY_NAME</th>\n",
       "      <th>DEST</th>\n",
       "      <th>DEST_CITY_NAME</th>\n",
       "      <th>DEP_DEL15</th>\n",
       "      <th>ARR_DEL15</th>\n",
       "    </tr>\n",
       "  </thead>\n",
       "  <tbody>\n",
       "    <tr>\n",
       "      <th>0</th>\n",
       "      <td>2022</td>\n",
       "      <td>9</td>\n",
       "      <td>3</td>\n",
       "      <td>Saturday</td>\n",
       "      <td>Delta Air Lines</td>\n",
       "      <td>LIH</td>\n",
       "      <td>Lihue, HI</td>\n",
       "      <td>LAX</td>\n",
       "      <td>Los Angeles, CA</td>\n",
       "      <td>0</td>\n",
       "      <td>0</td>\n",
       "    </tr>\n",
       "    <tr>\n",
       "      <th>1</th>\n",
       "      <td>2023</td>\n",
       "      <td>3</td>\n",
       "      <td>8</td>\n",
       "      <td>Wednesday</td>\n",
       "      <td>Frontier Airlines</td>\n",
       "      <td>MCO</td>\n",
       "      <td>Orlando, FL</td>\n",
       "      <td>SJU</td>\n",
       "      <td>San Juan, PR</td>\n",
       "      <td>0</td>\n",
       "      <td>0</td>\n",
       "    </tr>\n",
       "    <tr>\n",
       "      <th>602985</th>\n",
       "      <td>2023</td>\n",
       "      <td>8</td>\n",
       "      <td>31</td>\n",
       "      <td>Thursday</td>\n",
       "      <td>Republic Airline</td>\n",
       "      <td>ACK</td>\n",
       "      <td>Nantucket, MA</td>\n",
       "      <td>JFK</td>\n",
       "      <td>New York, NY</td>\n",
       "      <td>0</td>\n",
       "      <td>0</td>\n",
       "    </tr>\n",
       "    <tr>\n",
       "      <th>602986</th>\n",
       "      <td>2023</td>\n",
       "      <td>8</td>\n",
       "      <td>31</td>\n",
       "      <td>Thursday</td>\n",
       "      <td>Republic Airline</td>\n",
       "      <td>CMH</td>\n",
       "      <td>Columbus, OH</td>\n",
       "      <td>JFK</td>\n",
       "      <td>New York, NY</td>\n",
       "      <td>0</td>\n",
       "      <td>0</td>\n",
       "    </tr>\n",
       "  </tbody>\n",
       "</table>\n",
       "</div>"
      ],
      "text/plain": [
       "        YEAR  MONTH  DAY_OF_MONTH DAY_OF_WEEK         OP_CARRIER ORIGIN  \\\n",
       "0       2022      9             3    Saturday    Delta Air Lines    LIH   \n",
       "1       2023      3             8   Wednesday  Frontier Airlines    MCO   \n",
       "602985  2023      8            31    Thursday   Republic Airline    ACK   \n",
       "602986  2023      8            31    Thursday   Republic Airline    CMH   \n",
       "\n",
       "       ORIGIN_CITY_NAME DEST   DEST_CITY_NAME  DEP_DEL15  ARR_DEL15  \n",
       "0             Lihue, HI  LAX  Los Angeles, CA          0          0  \n",
       "1           Orlando, FL  SJU     San Juan, PR          0          0  \n",
       "602985    Nantucket, MA  JFK     New York, NY          0          0  \n",
       "602986     Columbus, OH  JFK     New York, NY          0          0  "
      ]
     },
     "execution_count": 25,
     "metadata": {},
     "output_type": "execute_result"
    }
   ],
   "source": [
    "# Data checkpoint\n",
    "cleaned_shuffled_df.head(2).append(cleaned_df.tail(2))"
   ]
  },
  {
   "cell_type": "code",
   "execution_count": 26,
   "id": "d99536f1-ba52-4b74-b84d-615a4c0a6498",
   "metadata": {},
   "outputs": [],
   "source": [
    "# Save new CSVs\n",
    "# Selected arbitrary limit to reduce dataset for analysis\n",
    "cleaned_shuffled_df.loc[0:150000].to_csv('Resources/prepared_dataset.csv', index= False)\n",
    "\n",
    "# Keeping one full set for personal reference\n",
    "#cleaned_df.to_csv(\"Resources/supplemental_dataset.csv\", index= False)"
   ]
  },
  {
   "cell_type": "markdown",
   "id": "8098a3a2-17ae-42a1-9768-20b449697758",
   "metadata": {},
   "source": [
    "## Part 2: Preparing dataset for modelling analysis"
   ]
  },
  {
   "cell_type": "code",
   "execution_count": 27,
   "id": "808e2d0d-d543-4847-9adb-98f2ce09b8d8",
   "metadata": {},
   "outputs": [],
   "source": [
    "# Read the CSV file from the Resources folder into a Pandas DataFrame\n",
    "\n",
    "analysis_df = pd.read_csv(\"Resources/prepared_dataset.csv\")\n",
    "\n",
    "# Remove additional columns\n",
    "analysis_df = analysis_df.drop(columns=['ORIGIN_CITY_NAME', \n",
    "                                       'DEST_CITY_NAME', \n",
    "                                        'ARR_DEL15',\n",
    "                                        \"YEAR\",\n",
    "                                        \"DEST\"\n",
    "                                       ])"
   ]
  },
  {
   "cell_type": "code",
   "execution_count": 28,
   "id": "c44eb043-ffa0-4d82-b751-1d2df6271700",
   "metadata": {},
   "outputs": [
    {
     "data": {
      "text/html": [
       "<div>\n",
       "<style scoped>\n",
       "    .dataframe tbody tr th:only-of-type {\n",
       "        vertical-align: middle;\n",
       "    }\n",
       "\n",
       "    .dataframe tbody tr th {\n",
       "        vertical-align: top;\n",
       "    }\n",
       "\n",
       "    .dataframe thead th {\n",
       "        text-align: right;\n",
       "    }\n",
       "</style>\n",
       "<table border=\"1\" class=\"dataframe\">\n",
       "  <thead>\n",
       "    <tr style=\"text-align: right;\">\n",
       "      <th></th>\n",
       "      <th>MONTH</th>\n",
       "      <th>DAY_OF_MONTH</th>\n",
       "      <th>DAY_OF_WEEK</th>\n",
       "      <th>OP_CARRIER</th>\n",
       "      <th>ORIGIN</th>\n",
       "      <th>DEP_DEL15</th>\n",
       "    </tr>\n",
       "  </thead>\n",
       "  <tbody>\n",
       "    <tr>\n",
       "      <th>0</th>\n",
       "      <td>9</td>\n",
       "      <td>3</td>\n",
       "      <td>Saturday</td>\n",
       "      <td>Delta Air Lines</td>\n",
       "      <td>LIH</td>\n",
       "      <td>0</td>\n",
       "    </tr>\n",
       "    <tr>\n",
       "      <th>1</th>\n",
       "      <td>3</td>\n",
       "      <td>8</td>\n",
       "      <td>Wednesday</td>\n",
       "      <td>Frontier Airlines</td>\n",
       "      <td>MCO</td>\n",
       "      <td>0</td>\n",
       "    </tr>\n",
       "    <tr>\n",
       "      <th>149999</th>\n",
       "      <td>9</td>\n",
       "      <td>7</td>\n",
       "      <td>Wednesday</td>\n",
       "      <td>United Air Lines</td>\n",
       "      <td>IAH</td>\n",
       "      <td>1</td>\n",
       "    </tr>\n",
       "    <tr>\n",
       "      <th>150000</th>\n",
       "      <td>1</td>\n",
       "      <td>27</td>\n",
       "      <td>Friday</td>\n",
       "      <td>United Air Lines</td>\n",
       "      <td>SNA</td>\n",
       "      <td>0</td>\n",
       "    </tr>\n",
       "  </tbody>\n",
       "</table>\n",
       "</div>"
      ],
      "text/plain": [
       "        MONTH  DAY_OF_MONTH DAY_OF_WEEK         OP_CARRIER ORIGIN  DEP_DEL15\n",
       "0           9             3    Saturday    Delta Air Lines    LIH          0\n",
       "1           3             8   Wednesday  Frontier Airlines    MCO          0\n",
       "149999      9             7   Wednesday   United Air Lines    IAH          1\n",
       "150000      1            27      Friday   United Air Lines    SNA          0"
      ]
     },
     "execution_count": 28,
     "metadata": {},
     "output_type": "execute_result"
    }
   ],
   "source": [
    "# Data checkpoint\n",
    "analysis_df.head(2).append(analysis_df.tail(2))"
   ]
  },
  {
   "cell_type": "code",
   "execution_count": 29,
   "id": "c2117ef3-0720-46f1-9d02-b0bc77fae53a",
   "metadata": {},
   "outputs": [
    {
     "data": {
      "text/plain": [
       "(150001, 6)"
      ]
     },
     "execution_count": 29,
     "metadata": {},
     "output_type": "execute_result"
    }
   ],
   "source": [
    "analysis_df.shape"
   ]
  },
  {
   "cell_type": "code",
   "execution_count": 30,
   "id": "832b1727-39d6-4159-b944-013e36c8a5da",
   "metadata": {},
   "outputs": [],
   "source": [
    "# Save to new CSV\n",
    "analysis_df.to_csv(\"Resources/analysis_df.csv\", index= False)"
   ]
  }
 ],
 "metadata": {
  "kernelspec": {
   "display_name": "Python 3 (ipykernel)",
   "language": "python",
   "name": "python3"
  },
  "language_info": {
   "codemirror_mode": {
    "name": "ipython",
    "version": 3
   },
   "file_extension": ".py",
   "mimetype": "text/x-python",
   "name": "python",
   "nbconvert_exporter": "python",
   "pygments_lexer": "ipython3",
   "version": "3.10.11"
  }
 },
 "nbformat": 4,
 "nbformat_minor": 5
}
