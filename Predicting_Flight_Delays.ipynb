{
 "cells": [
  {
   "cell_type": "code",
   "execution_count": 1,
   "id": "c4df26a5-3ea4-4ad9-a3c6-6f7dd6fafa9f",
   "metadata": {},
   "outputs": [],
   "source": [
    "# plt.figure(figsize=(20,14))\n",
    "# ax = sns.heatmap(dfm.corr(), cmap='viridis', center=0, annot=True)\n",
    "# bottom, top = ax.get_ylim()\n",
    "# plt.text(0,-0.6, \"df2 - Heat Map\", fontsize = 30, color='Black', fontstyle='normal')\n",
    "# ax.set_ylim(bottom + 0.5, top - 0.5)\n",
    "# plt.yticks(rotation=0, fontsize=14)\n",
    "# plt.xticks(rotation=90, fontsize=14)\n",
    "# plt.show()"
   ]
  },
  {
   "cell_type": "code",
   "execution_count": 4,
   "id": "03ddd519-174c-4b3f-82c9-802d9e127b48",
   "metadata": {},
   "outputs": [],
   "source": [
    "# Import the modules\n",
    "import numpy as np\n",
    "import pandas as pd\n",
    "from pathlib import Path\n",
    "from sklearn.metrics import balanced_accuracy_score, confusion_matrix, classification_report\n",
    "import csv\n",
    "import os\n",
    "import warnings\n",
    "warnings.simplefilter(action='ignore', category=FutureWarning)"
   ]
  },
  {
   "cell_type": "code",
   "execution_count": 6,
   "id": "e1096817-c97a-466b-be0f-6e9c95498133",
   "metadata": {},
   "outputs": [
    {
     "name": "stdout",
     "output_type": "stream",
     "text": [
      "\n",
      "Shuffled DataFrame:\n",
      "      YEAR MONTH  DAY_OF_MONTH DAY_OF_WEEK          OP_CARRIER ORIGIN DEST  \\\n",
      "368   2023   AUG             6      Sunday    United Air Lines    DEN  IAH   \n",
      "1729  2022   AUG            19      Friday   American Airlines    DFW  MCI   \n",
      "4268  2022   OCT            29    Saturday  Southwest Airlines    BWI  ISP   \n",
      "231   2023   MAY            18    Thursday   Frontier Airlines    RDU  ATL   \n",
      "1919  2022   NOV            28      Monday        PSA Airlines    PHL  PVD   \n",
      "...    ...   ...           ...         ...                 ...    ...  ...   \n",
      "4437  2022   DEC            15    Thursday  Southwest Airlines    ATL  MCO   \n",
      "255   2023   JAN            15      Sunday    SkyWest Airlines    STS  PDX   \n",
      "3516  2023   FEB            17      Friday    SkyWest Airlines    BOI  SEA   \n",
      "3260  2022   AUG            24   Wednesday        Endeavor Air    ACK  JFK   \n",
      "2316  2023   MAR             1   Wednesday   American Airlines    MEM  DFW   \n",
      "\n",
      "      DEP_DEL15  \n",
      "368           0  \n",
      "1729          0  \n",
      "4268          1  \n",
      "231           0  \n",
      "1919          0  \n",
      "...         ...  \n",
      "4437          0  \n",
      "255           1  \n",
      "3516          0  \n",
      "3260          0  \n",
      "2316          1  \n",
      "\n",
      "[5002 rows x 8 columns]\n"
     ]
    }
   ],
   "source": [
    "# Read the CSV file from the Resources folder into a Pandas DataFrame\n",
    "prediction_df = pd.read_csv(\"Resources/analysis_df.csv\")\n",
    "\n",
    "# Reshuffling the data for good measure\n",
    "prediction_df = prediction_df.sample(frac = 1)\n",
    " \n",
    "# Print the shuffled DataFrame\n",
    "print(\"\\nShuffled DataFrame:\")\n",
    "print(prediction_df)"
   ]
  },
  {
   "cell_type": "code",
   "execution_count": 7,
   "id": "50dae4e2-c114-4464-9561-a9367a8c9577",
   "metadata": {},
   "outputs": [
    {
     "data": {
      "text/plain": [
       "(5002, 8)"
      ]
     },
     "execution_count": 7,
     "metadata": {},
     "output_type": "execute_result"
    }
   ],
   "source": [
    "# Checkpoint\n",
    "prediction_df.shape"
   ]
  },
  {
   "cell_type": "code",
   "execution_count": 8,
   "id": "0438663b-1b81-4ca7-aaf9-c83fb52dde0f",
   "metadata": {},
   "outputs": [
    {
     "data": {
      "text/html": [
       "<div>\n",
       "<style scoped>\n",
       "    .dataframe tbody tr th:only-of-type {\n",
       "        vertical-align: middle;\n",
       "    }\n",
       "\n",
       "    .dataframe tbody tr th {\n",
       "        vertical-align: top;\n",
       "    }\n",
       "\n",
       "    .dataframe thead th {\n",
       "        text-align: right;\n",
       "    }\n",
       "</style>\n",
       "<table border=\"1\" class=\"dataframe\">\n",
       "  <thead>\n",
       "    <tr style=\"text-align: right;\">\n",
       "      <th></th>\n",
       "      <th>YEAR</th>\n",
       "      <th>MONTH</th>\n",
       "      <th>DAY_OF_MONTH</th>\n",
       "      <th>DAY_OF_WEEK</th>\n",
       "      <th>OP_CARRIER</th>\n",
       "      <th>ORIGIN</th>\n",
       "      <th>DEST</th>\n",
       "      <th>DEP_DEL15</th>\n",
       "    </tr>\n",
       "  </thead>\n",
       "  <tbody>\n",
       "    <tr>\n",
       "      <th>368</th>\n",
       "      <td>2023</td>\n",
       "      <td>AUG</td>\n",
       "      <td>6</td>\n",
       "      <td>Sunday</td>\n",
       "      <td>United Air Lines</td>\n",
       "      <td>DEN</td>\n",
       "      <td>IAH</td>\n",
       "      <td>0</td>\n",
       "    </tr>\n",
       "    <tr>\n",
       "      <th>1729</th>\n",
       "      <td>2022</td>\n",
       "      <td>AUG</td>\n",
       "      <td>19</td>\n",
       "      <td>Friday</td>\n",
       "      <td>American Airlines</td>\n",
       "      <td>DFW</td>\n",
       "      <td>MCI</td>\n",
       "      <td>0</td>\n",
       "    </tr>\n",
       "  </tbody>\n",
       "</table>\n",
       "</div>"
      ],
      "text/plain": [
       "      YEAR MONTH  DAY_OF_MONTH DAY_OF_WEEK         OP_CARRIER ORIGIN DEST  \\\n",
       "368   2023   AUG             6      Sunday   United Air Lines    DEN  IAH   \n",
       "1729  2022   AUG            19      Friday  American Airlines    DFW  MCI   \n",
       "\n",
       "      DEP_DEL15  \n",
       "368           0  \n",
       "1729          0  "
      ]
     },
     "metadata": {},
     "output_type": "display_data"
    },
    {
     "data": {
      "text/html": [
       "<div>\n",
       "<style scoped>\n",
       "    .dataframe tbody tr th:only-of-type {\n",
       "        vertical-align: middle;\n",
       "    }\n",
       "\n",
       "    .dataframe tbody tr th {\n",
       "        vertical-align: top;\n",
       "    }\n",
       "\n",
       "    .dataframe thead th {\n",
       "        text-align: right;\n",
       "    }\n",
       "</style>\n",
       "<table border=\"1\" class=\"dataframe\">\n",
       "  <thead>\n",
       "    <tr style=\"text-align: right;\">\n",
       "      <th></th>\n",
       "      <th>YEAR</th>\n",
       "      <th>MONTH</th>\n",
       "      <th>DAY_OF_MONTH</th>\n",
       "      <th>DAY_OF_WEEK</th>\n",
       "      <th>OP_CARRIER</th>\n",
       "      <th>ORIGIN</th>\n",
       "      <th>DEST</th>\n",
       "      <th>DEP_DEL15</th>\n",
       "    </tr>\n",
       "  </thead>\n",
       "  <tbody>\n",
       "    <tr>\n",
       "      <th>4437</th>\n",
       "      <td>2022</td>\n",
       "      <td>DEC</td>\n",
       "      <td>15</td>\n",
       "      <td>Thursday</td>\n",
       "      <td>Southwest Airlines</td>\n",
       "      <td>ATL</td>\n",
       "      <td>MCO</td>\n",
       "      <td>0</td>\n",
       "    </tr>\n",
       "    <tr>\n",
       "      <th>255</th>\n",
       "      <td>2023</td>\n",
       "      <td>JAN</td>\n",
       "      <td>15</td>\n",
       "      <td>Sunday</td>\n",
       "      <td>SkyWest Airlines</td>\n",
       "      <td>STS</td>\n",
       "      <td>PDX</td>\n",
       "      <td>1</td>\n",
       "    </tr>\n",
       "    <tr>\n",
       "      <th>3516</th>\n",
       "      <td>2023</td>\n",
       "      <td>FEB</td>\n",
       "      <td>17</td>\n",
       "      <td>Friday</td>\n",
       "      <td>SkyWest Airlines</td>\n",
       "      <td>BOI</td>\n",
       "      <td>SEA</td>\n",
       "      <td>0</td>\n",
       "    </tr>\n",
       "    <tr>\n",
       "      <th>3260</th>\n",
       "      <td>2022</td>\n",
       "      <td>AUG</td>\n",
       "      <td>24</td>\n",
       "      <td>Wednesday</td>\n",
       "      <td>Endeavor Air</td>\n",
       "      <td>ACK</td>\n",
       "      <td>JFK</td>\n",
       "      <td>0</td>\n",
       "    </tr>\n",
       "    <tr>\n",
       "      <th>2316</th>\n",
       "      <td>2023</td>\n",
       "      <td>MAR</td>\n",
       "      <td>1</td>\n",
       "      <td>Wednesday</td>\n",
       "      <td>American Airlines</td>\n",
       "      <td>MEM</td>\n",
       "      <td>DFW</td>\n",
       "      <td>1</td>\n",
       "    </tr>\n",
       "  </tbody>\n",
       "</table>\n",
       "</div>"
      ],
      "text/plain": [
       "      YEAR MONTH  DAY_OF_MONTH DAY_OF_WEEK          OP_CARRIER ORIGIN DEST  \\\n",
       "4437  2022   DEC            15    Thursday  Southwest Airlines    ATL  MCO   \n",
       "255   2023   JAN            15      Sunday    SkyWest Airlines    STS  PDX   \n",
       "3516  2023   FEB            17      Friday    SkyWest Airlines    BOI  SEA   \n",
       "3260  2022   AUG            24   Wednesday        Endeavor Air    ACK  JFK   \n",
       "2316  2023   MAR             1   Wednesday   American Airlines    MEM  DFW   \n",
       "\n",
       "      DEP_DEL15  \n",
       "4437          0  \n",
       "255           1  \n",
       "3516          0  \n",
       "3260          0  \n",
       "2316          1  "
      ]
     },
     "metadata": {},
     "output_type": "display_data"
    }
   ],
   "source": [
    "# Review the DataFrame\n",
    "display(prediction_df.head(2))\n",
    "display(prediction_df.tail())"
   ]
  },
  {
   "cell_type": "markdown",
   "id": "da329d63-a860-4eab-b147-8d088aaa99ce",
   "metadata": {},
   "source": [
    "### Column Definitions\n",
    "\n",
    "* YEAR = Year of Flight\n",
    "* MONTH = Month of Flight\n",
    "* DAY_OF_MONTH = Day of Month\n",
    "* DAY_OF_WEEK = Day of Week\n",
    "* OP_CARRIER = Carrier Name\n",
    "* ORIGIN = Origin Airport Code\n",
    "* DEST = Destination Airport Code\n",
    "* DEP_DEL15 = Departure Delay (0 = No, 1 = Yes)"
   ]
  },
  {
   "cell_type": "code",
   "execution_count": 9,
   "id": "674cc04e-6530-4b52-97ac-745661eab984",
   "metadata": {},
   "outputs": [],
   "source": [
    "# Transforming the data using get_dummies\n",
    "month_dummies = pd.get_dummies(prediction_df[\"MONTH\"])\n",
    "day_dummies = pd.get_dummies(prediction_df[\"DAY_OF_WEEK\"])\n",
    "date_dummies = pd.get_dummies(prediction_df[\"DAY_OF_MONTH\"])\n",
    "carrier_dummies = pd.get_dummies(prediction_df[\"OP_CARRIER\"])\n",
    "origin_dummies = pd.get_dummies(prediction_df[\"ORIGIN\"])\n",
    "dest_dummies = pd.get_dummies(prediction_df[\"DEST\"])"
   ]
  },
  {
   "cell_type": "code",
   "execution_count": 10,
   "id": "eda209af-ba08-4664-868d-e0d4fd88540c",
   "metadata": {},
   "outputs": [
    {
     "data": {
      "text/html": [
       "<div>\n",
       "<style scoped>\n",
       "    .dataframe tbody tr th:only-of-type {\n",
       "        vertical-align: middle;\n",
       "    }\n",
       "\n",
       "    .dataframe tbody tr th {\n",
       "        vertical-align: top;\n",
       "    }\n",
       "\n",
       "    .dataframe thead th {\n",
       "        text-align: right;\n",
       "    }\n",
       "</style>\n",
       "<table border=\"1\" class=\"dataframe\">\n",
       "  <thead>\n",
       "    <tr style=\"text-align: right;\">\n",
       "      <th></th>\n",
       "      <th>APR</th>\n",
       "      <th>AUG</th>\n",
       "      <th>DEC</th>\n",
       "      <th>FEB</th>\n",
       "      <th>JAN</th>\n",
       "      <th>JUL</th>\n",
       "      <th>JUN</th>\n",
       "      <th>MAR</th>\n",
       "      <th>MAY</th>\n",
       "      <th>NOV</th>\n",
       "      <th>OCT</th>\n",
       "      <th>SEP</th>\n",
       "    </tr>\n",
       "  </thead>\n",
       "  <tbody>\n",
       "    <tr>\n",
       "      <th>4437</th>\n",
       "      <td>0</td>\n",
       "      <td>0</td>\n",
       "      <td>1</td>\n",
       "      <td>0</td>\n",
       "      <td>0</td>\n",
       "      <td>0</td>\n",
       "      <td>0</td>\n",
       "      <td>0</td>\n",
       "      <td>0</td>\n",
       "      <td>0</td>\n",
       "      <td>0</td>\n",
       "      <td>0</td>\n",
       "    </tr>\n",
       "    <tr>\n",
       "      <th>255</th>\n",
       "      <td>0</td>\n",
       "      <td>0</td>\n",
       "      <td>0</td>\n",
       "      <td>0</td>\n",
       "      <td>1</td>\n",
       "      <td>0</td>\n",
       "      <td>0</td>\n",
       "      <td>0</td>\n",
       "      <td>0</td>\n",
       "      <td>0</td>\n",
       "      <td>0</td>\n",
       "      <td>0</td>\n",
       "    </tr>\n",
       "    <tr>\n",
       "      <th>3516</th>\n",
       "      <td>0</td>\n",
       "      <td>0</td>\n",
       "      <td>0</td>\n",
       "      <td>1</td>\n",
       "      <td>0</td>\n",
       "      <td>0</td>\n",
       "      <td>0</td>\n",
       "      <td>0</td>\n",
       "      <td>0</td>\n",
       "      <td>0</td>\n",
       "      <td>0</td>\n",
       "      <td>0</td>\n",
       "    </tr>\n",
       "    <tr>\n",
       "      <th>3260</th>\n",
       "      <td>0</td>\n",
       "      <td>1</td>\n",
       "      <td>0</td>\n",
       "      <td>0</td>\n",
       "      <td>0</td>\n",
       "      <td>0</td>\n",
       "      <td>0</td>\n",
       "      <td>0</td>\n",
       "      <td>0</td>\n",
       "      <td>0</td>\n",
       "      <td>0</td>\n",
       "      <td>0</td>\n",
       "    </tr>\n",
       "    <tr>\n",
       "      <th>2316</th>\n",
       "      <td>0</td>\n",
       "      <td>0</td>\n",
       "      <td>0</td>\n",
       "      <td>0</td>\n",
       "      <td>0</td>\n",
       "      <td>0</td>\n",
       "      <td>0</td>\n",
       "      <td>1</td>\n",
       "      <td>0</td>\n",
       "      <td>0</td>\n",
       "      <td>0</td>\n",
       "      <td>0</td>\n",
       "    </tr>\n",
       "  </tbody>\n",
       "</table>\n",
       "</div>"
      ],
      "text/plain": [
       "      APR  AUG  DEC  FEB  JAN  JUL  JUN  MAR  MAY  NOV  OCT  SEP\n",
       "4437    0    0    1    0    0    0    0    0    0    0    0    0\n",
       "255     0    0    0    0    1    0    0    0    0    0    0    0\n",
       "3516    0    0    0    1    0    0    0    0    0    0    0    0\n",
       "3260    0    1    0    0    0    0    0    0    0    0    0    0\n",
       "2316    0    0    0    0    0    0    0    1    0    0    0    0"
      ]
     },
     "execution_count": 10,
     "metadata": {},
     "output_type": "execute_result"
    }
   ],
   "source": [
    "# Display the transformed data\n",
    "month_dummies.tail()\n",
    "#day_dummies.tail()\n",
    "#date_dummies.tail()\n",
    "#carrier_dummies.tail()\n",
    "#origin_dummies.tail()\n",
    "#dest_dummies.tail()"
   ]
  },
  {
   "cell_type": "code",
   "execution_count": 11,
   "id": "34013b67-50f1-4e76-a225-e96a98abd58d",
   "metadata": {},
   "outputs": [
    {
     "data": {
      "text/html": [
       "<div>\n",
       "<style scoped>\n",
       "    .dataframe tbody tr th:only-of-type {\n",
       "        vertical-align: middle;\n",
       "    }\n",
       "\n",
       "    .dataframe tbody tr th {\n",
       "        vertical-align: top;\n",
       "    }\n",
       "\n",
       "    .dataframe thead th {\n",
       "        text-align: right;\n",
       "    }\n",
       "</style>\n",
       "<table border=\"1\" class=\"dataframe\">\n",
       "  <thead>\n",
       "    <tr style=\"text-align: right;\">\n",
       "      <th></th>\n",
       "      <th>YEAR</th>\n",
       "      <th>DEP_DEL15</th>\n",
       "      <th>APR</th>\n",
       "      <th>AUG</th>\n",
       "      <th>DEC</th>\n",
       "      <th>FEB</th>\n",
       "      <th>JAN</th>\n",
       "      <th>JUL</th>\n",
       "      <th>JUN</th>\n",
       "      <th>MAR</th>\n",
       "      <th>...</th>\n",
       "      <th>TVC</th>\n",
       "      <th>TYR</th>\n",
       "      <th>TYS</th>\n",
       "      <th>USA</th>\n",
       "      <th>VEL</th>\n",
       "      <th>VPS</th>\n",
       "      <th>WRG</th>\n",
       "      <th>XNA</th>\n",
       "      <th>XWA</th>\n",
       "      <th>YUM</th>\n",
       "    </tr>\n",
       "  </thead>\n",
       "  <tbody>\n",
       "    <tr>\n",
       "      <th>368</th>\n",
       "      <td>2023</td>\n",
       "      <td>0</td>\n",
       "      <td>0</td>\n",
       "      <td>1</td>\n",
       "      <td>0</td>\n",
       "      <td>0</td>\n",
       "      <td>0</td>\n",
       "      <td>0</td>\n",
       "      <td>0</td>\n",
       "      <td>0</td>\n",
       "      <td>...</td>\n",
       "      <td>0</td>\n",
       "      <td>0</td>\n",
       "      <td>0</td>\n",
       "      <td>0</td>\n",
       "      <td>0</td>\n",
       "      <td>0</td>\n",
       "      <td>0</td>\n",
       "      <td>0</td>\n",
       "      <td>0</td>\n",
       "      <td>0</td>\n",
       "    </tr>\n",
       "    <tr>\n",
       "      <th>1729</th>\n",
       "      <td>2022</td>\n",
       "      <td>0</td>\n",
       "      <td>0</td>\n",
       "      <td>1</td>\n",
       "      <td>0</td>\n",
       "      <td>0</td>\n",
       "      <td>0</td>\n",
       "      <td>0</td>\n",
       "      <td>0</td>\n",
       "      <td>0</td>\n",
       "      <td>...</td>\n",
       "      <td>0</td>\n",
       "      <td>0</td>\n",
       "      <td>0</td>\n",
       "      <td>0</td>\n",
       "      <td>0</td>\n",
       "      <td>0</td>\n",
       "      <td>0</td>\n",
       "      <td>0</td>\n",
       "      <td>0</td>\n",
       "      <td>0</td>\n",
       "    </tr>\n",
       "    <tr>\n",
       "      <th>4268</th>\n",
       "      <td>2022</td>\n",
       "      <td>1</td>\n",
       "      <td>0</td>\n",
       "      <td>0</td>\n",
       "      <td>0</td>\n",
       "      <td>0</td>\n",
       "      <td>0</td>\n",
       "      <td>0</td>\n",
       "      <td>0</td>\n",
       "      <td>0</td>\n",
       "      <td>...</td>\n",
       "      <td>0</td>\n",
       "      <td>0</td>\n",
       "      <td>0</td>\n",
       "      <td>0</td>\n",
       "      <td>0</td>\n",
       "      <td>0</td>\n",
       "      <td>0</td>\n",
       "      <td>0</td>\n",
       "      <td>0</td>\n",
       "      <td>0</td>\n",
       "    </tr>\n",
       "    <tr>\n",
       "      <th>231</th>\n",
       "      <td>2023</td>\n",
       "      <td>0</td>\n",
       "      <td>0</td>\n",
       "      <td>0</td>\n",
       "      <td>0</td>\n",
       "      <td>0</td>\n",
       "      <td>0</td>\n",
       "      <td>0</td>\n",
       "      <td>0</td>\n",
       "      <td>0</td>\n",
       "      <td>...</td>\n",
       "      <td>0</td>\n",
       "      <td>0</td>\n",
       "      <td>0</td>\n",
       "      <td>0</td>\n",
       "      <td>0</td>\n",
       "      <td>0</td>\n",
       "      <td>0</td>\n",
       "      <td>0</td>\n",
       "      <td>0</td>\n",
       "      <td>0</td>\n",
       "    </tr>\n",
       "    <tr>\n",
       "      <th>1919</th>\n",
       "      <td>2022</td>\n",
       "      <td>0</td>\n",
       "      <td>0</td>\n",
       "      <td>0</td>\n",
       "      <td>0</td>\n",
       "      <td>0</td>\n",
       "      <td>0</td>\n",
       "      <td>0</td>\n",
       "      <td>0</td>\n",
       "      <td>0</td>\n",
       "      <td>...</td>\n",
       "      <td>0</td>\n",
       "      <td>0</td>\n",
       "      <td>0</td>\n",
       "      <td>0</td>\n",
       "      <td>0</td>\n",
       "      <td>0</td>\n",
       "      <td>0</td>\n",
       "      <td>0</td>\n",
       "      <td>0</td>\n",
       "      <td>0</td>\n",
       "    </tr>\n",
       "  </tbody>\n",
       "</table>\n",
       "<p>5 rows × 577 columns</p>\n",
       "</div>"
      ],
      "text/plain": [
       "      YEAR  DEP_DEL15  APR  AUG  DEC  FEB  JAN  JUL  JUN  MAR  ...  TVC  TYR  \\\n",
       "368   2023          0    0    1    0    0    0    0    0    0  ...    0    0   \n",
       "1729  2022          0    0    1    0    0    0    0    0    0  ...    0    0   \n",
       "4268  2022          1    0    0    0    0    0    0    0    0  ...    0    0   \n",
       "231   2023          0    0    0    0    0    0    0    0    0  ...    0    0   \n",
       "1919  2022          0    0    0    0    0    0    0    0    0  ...    0    0   \n",
       "\n",
       "      TYS  USA  VEL  VPS  WRG  XNA  XWA  YUM  \n",
       "368     0    0    0    0    0    0    0    0  \n",
       "1729    0    0    0    0    0    0    0    0  \n",
       "4268    0    0    0    0    0    0    0    0  \n",
       "231     0    0    0    0    0    0    0    0  \n",
       "1919    0    0    0    0    0    0    0    0  \n",
       "\n",
       "[5 rows x 577 columns]"
      ]
     },
     "execution_count": 11,
     "metadata": {},
     "output_type": "execute_result"
    }
   ],
   "source": [
    "# Concatenate prediction_df and the created dummies DataFrames\n",
    "tranformed_pred_df = pd.concat([prediction_df, \n",
    "                       month_dummies, \n",
    "                       day_dummies,\n",
    "                       date_dummies, \n",
    "                       carrier_dummies,\n",
    "                       origin_dummies,\n",
    "                       dest_dummies                      \n",
    "                      ], \n",
    "                      axis=1)\n",
    "\n",
    "# Drop the originating dummies columns\n",
    "tranformed_pred_df = tranformed_pred_df.drop(columns=[\"MONTH\",\n",
    "                                            \"DAY_OF_MONTH\", \n",
    "                                            \"DAY_OF_WEEK\", \n",
    "                                            \"OP_CARRIER\",\n",
    "                                            \"ORIGIN\", \n",
    "                                            \"DEST\"\n",
    "                                           ])\n",
    "\n",
    "# Display the DataFrame\n",
    "tranformed_pred_df.head()"
   ]
  },
  {
   "cell_type": "code",
   "execution_count": 12,
   "id": "86461ea8-21b0-4d0a-8a6e-1d1e0cc8f3f4",
   "metadata": {},
   "outputs": [],
   "source": [
    "# # Encoding the YEAR column using a custom function\n",
    "# def encode_year(YEAR):\n",
    "#     \"\"\"\n",
    "#     This function encodes data set years by setting 2022 as 0 and 2023 as 1.\n",
    "#     \"\"\"\n",
    "#     if YEAR == 2022:\n",
    "#         return 0\n",
    "#     else:\n",
    "#         return 1\n",
    "\n",
    "# # Call the encode_marriage function on the marriage column\n",
    "# tranformed_pred_df[\"YEAR\"] = tranformed_pred_df[\"YEAR\"].apply(encode_year)\n",
    "\n",
    "# # Review the DataFrame \n",
    "# tranformed_pred_df.tail()"
   ]
  },
  {
   "cell_type": "code",
   "execution_count": 13,
   "id": "2a439ac9-df6c-4436-98ff-f00259f74f77",
   "metadata": {},
   "outputs": [
    {
     "data": {
      "text/plain": [
       "YEAR\n",
       "2023    3075\n",
       "2022    1927\n",
       "dtype: int64"
      ]
     },
     "execution_count": 13,
     "metadata": {},
     "output_type": "execute_result"
    }
   ],
   "source": [
    "tranformed_pred_df.value_counts('YEAR')"
   ]
  },
  {
   "cell_type": "code",
   "execution_count": 14,
   "id": "cf803f24-27b9-4454-9e06-e6524d8adf0f",
   "metadata": {},
   "outputs": [],
   "source": [
    "# Separate the data into labels and features\n",
    "\n",
    "# Separate the y variable, the labels\n",
    "y = tranformed_pred_df['DEP_DEL15']\n",
    "\n",
    "# Separate the X variable, the features\n",
    "X = tranformed_pred_df.drop(columns=['DEP_DEL15'])"
   ]
  },
  {
   "cell_type": "code",
   "execution_count": 15,
   "id": "d4c6eecb-121a-4888-8443-acf2016931df",
   "metadata": {},
   "outputs": [
    {
     "data": {
      "text/plain": [
       "YEAR         int64\n",
       "DEP_DEL15    int64\n",
       "APR          uint8\n",
       "AUG          uint8\n",
       "DEC          uint8\n",
       "             ...  \n",
       "VPS          uint8\n",
       "WRG          uint8\n",
       "XNA          uint8\n",
       "XWA          uint8\n",
       "YUM          uint8\n",
       "Length: 577, dtype: object"
      ]
     },
     "execution_count": 15,
     "metadata": {},
     "output_type": "execute_result"
    }
   ],
   "source": [
    "tranformed_pred_df.dtypes"
   ]
  },
  {
   "cell_type": "code",
   "execution_count": 26,
   "id": "09f0825e-9b4b-42d0-ae54-0c338ca84d41",
   "metadata": {},
   "outputs": [],
   "source": [
    "# X =  X.astype(str)\n",
    "# X.columns = X.columns.astype(str)\n",
    "tranformed_pred_df = tranformed_pred_df.astype(str)"
   ]
  },
  {
   "cell_type": "code",
   "execution_count": 27,
   "id": "ac9b13d8-37ea-4859-980c-a95ebce420c4",
   "metadata": {},
   "outputs": [
    {
     "data": {
      "text/plain": [
       "368     0\n",
       "1729    0\n",
       "4268    1\n",
       "231     0\n",
       "1919    0\n",
       "Name: DEP_DEL15, dtype: int64"
      ]
     },
     "metadata": {},
     "output_type": "display_data"
    },
    {
     "data": {
      "text/plain": [
       "4437    0\n",
       "255     1\n",
       "3516    0\n",
       "3260    0\n",
       "2316    1\n",
       "Name: DEP_DEL15, dtype: int64"
      ]
     },
     "metadata": {},
     "output_type": "display_data"
    }
   ],
   "source": [
    "# Review the y variable Series\n",
    "display(y.head())\n",
    "display(y.tail())"
   ]
  },
  {
   "cell_type": "code",
   "execution_count": 28,
   "id": "b7b88fcc-024f-4c94-8b2f-36e55b3b6075",
   "metadata": {},
   "outputs": [
    {
     "data": {
      "text/plain": [
       "0    3916\n",
       "1    1086\n",
       "Name: DEP_DEL15, dtype: int64"
      ]
     },
     "execution_count": 28,
     "metadata": {},
     "output_type": "execute_result"
    }
   ],
   "source": [
    "# Check the balance of our target values\n",
    "y.value_counts()"
   ]
  },
  {
   "cell_type": "code",
   "execution_count": 29,
   "id": "b070403a-c097-4674-81d4-591c10d47ebd",
   "metadata": {},
   "outputs": [
    {
     "data": {
      "text/html": [
       "<div>\n",
       "<style scoped>\n",
       "    .dataframe tbody tr th:only-of-type {\n",
       "        vertical-align: middle;\n",
       "    }\n",
       "\n",
       "    .dataframe tbody tr th {\n",
       "        vertical-align: top;\n",
       "    }\n",
       "\n",
       "    .dataframe thead th {\n",
       "        text-align: right;\n",
       "    }\n",
       "</style>\n",
       "<table border=\"1\" class=\"dataframe\">\n",
       "  <thead>\n",
       "    <tr style=\"text-align: right;\">\n",
       "      <th></th>\n",
       "      <th>YEAR</th>\n",
       "      <th>APR</th>\n",
       "      <th>AUG</th>\n",
       "      <th>DEC</th>\n",
       "      <th>FEB</th>\n",
       "      <th>JAN</th>\n",
       "      <th>JUL</th>\n",
       "      <th>JUN</th>\n",
       "      <th>MAR</th>\n",
       "      <th>MAY</th>\n",
       "      <th>...</th>\n",
       "      <th>TVC</th>\n",
       "      <th>TYR</th>\n",
       "      <th>TYS</th>\n",
       "      <th>USA</th>\n",
       "      <th>VEL</th>\n",
       "      <th>VPS</th>\n",
       "      <th>WRG</th>\n",
       "      <th>XNA</th>\n",
       "      <th>XWA</th>\n",
       "      <th>YUM</th>\n",
       "    </tr>\n",
       "  </thead>\n",
       "  <tbody>\n",
       "    <tr>\n",
       "      <th>368</th>\n",
       "      <td>2023</td>\n",
       "      <td>0</td>\n",
       "      <td>1</td>\n",
       "      <td>0</td>\n",
       "      <td>0</td>\n",
       "      <td>0</td>\n",
       "      <td>0</td>\n",
       "      <td>0</td>\n",
       "      <td>0</td>\n",
       "      <td>0</td>\n",
       "      <td>...</td>\n",
       "      <td>0</td>\n",
       "      <td>0</td>\n",
       "      <td>0</td>\n",
       "      <td>0</td>\n",
       "      <td>0</td>\n",
       "      <td>0</td>\n",
       "      <td>0</td>\n",
       "      <td>0</td>\n",
       "      <td>0</td>\n",
       "      <td>0</td>\n",
       "    </tr>\n",
       "    <tr>\n",
       "      <th>1729</th>\n",
       "      <td>2022</td>\n",
       "      <td>0</td>\n",
       "      <td>1</td>\n",
       "      <td>0</td>\n",
       "      <td>0</td>\n",
       "      <td>0</td>\n",
       "      <td>0</td>\n",
       "      <td>0</td>\n",
       "      <td>0</td>\n",
       "      <td>0</td>\n",
       "      <td>...</td>\n",
       "      <td>0</td>\n",
       "      <td>0</td>\n",
       "      <td>0</td>\n",
       "      <td>0</td>\n",
       "      <td>0</td>\n",
       "      <td>0</td>\n",
       "      <td>0</td>\n",
       "      <td>0</td>\n",
       "      <td>0</td>\n",
       "      <td>0</td>\n",
       "    </tr>\n",
       "  </tbody>\n",
       "</table>\n",
       "<p>2 rows × 576 columns</p>\n",
       "</div>"
      ],
      "text/plain": [
       "      YEAR APR AUG DEC FEB JAN JUL JUN MAR MAY  ... TVC TYR TYS USA VEL VPS  \\\n",
       "368   2023   0   1   0   0   0   0   0   0   0  ...   0   0   0   0   0   0   \n",
       "1729  2022   0   1   0   0   0   0   0   0   0  ...   0   0   0   0   0   0   \n",
       "\n",
       "     WRG XNA XWA YUM  \n",
       "368    0   0   0   0  \n",
       "1729   0   0   0   0  \n",
       "\n",
       "[2 rows x 576 columns]"
      ]
     },
     "metadata": {},
     "output_type": "display_data"
    },
    {
     "data": {
      "text/html": [
       "<div>\n",
       "<style scoped>\n",
       "    .dataframe tbody tr th:only-of-type {\n",
       "        vertical-align: middle;\n",
       "    }\n",
       "\n",
       "    .dataframe tbody tr th {\n",
       "        vertical-align: top;\n",
       "    }\n",
       "\n",
       "    .dataframe thead th {\n",
       "        text-align: right;\n",
       "    }\n",
       "</style>\n",
       "<table border=\"1\" class=\"dataframe\">\n",
       "  <thead>\n",
       "    <tr style=\"text-align: right;\">\n",
       "      <th></th>\n",
       "      <th>YEAR</th>\n",
       "      <th>APR</th>\n",
       "      <th>AUG</th>\n",
       "      <th>DEC</th>\n",
       "      <th>FEB</th>\n",
       "      <th>JAN</th>\n",
       "      <th>JUL</th>\n",
       "      <th>JUN</th>\n",
       "      <th>MAR</th>\n",
       "      <th>MAY</th>\n",
       "      <th>...</th>\n",
       "      <th>TVC</th>\n",
       "      <th>TYR</th>\n",
       "      <th>TYS</th>\n",
       "      <th>USA</th>\n",
       "      <th>VEL</th>\n",
       "      <th>VPS</th>\n",
       "      <th>WRG</th>\n",
       "      <th>XNA</th>\n",
       "      <th>XWA</th>\n",
       "      <th>YUM</th>\n",
       "    </tr>\n",
       "  </thead>\n",
       "  <tbody>\n",
       "    <tr>\n",
       "      <th>3260</th>\n",
       "      <td>2022</td>\n",
       "      <td>0</td>\n",
       "      <td>1</td>\n",
       "      <td>0</td>\n",
       "      <td>0</td>\n",
       "      <td>0</td>\n",
       "      <td>0</td>\n",
       "      <td>0</td>\n",
       "      <td>0</td>\n",
       "      <td>0</td>\n",
       "      <td>...</td>\n",
       "      <td>0</td>\n",
       "      <td>0</td>\n",
       "      <td>0</td>\n",
       "      <td>0</td>\n",
       "      <td>0</td>\n",
       "      <td>0</td>\n",
       "      <td>0</td>\n",
       "      <td>0</td>\n",
       "      <td>0</td>\n",
       "      <td>0</td>\n",
       "    </tr>\n",
       "    <tr>\n",
       "      <th>2316</th>\n",
       "      <td>2023</td>\n",
       "      <td>0</td>\n",
       "      <td>0</td>\n",
       "      <td>0</td>\n",
       "      <td>0</td>\n",
       "      <td>0</td>\n",
       "      <td>0</td>\n",
       "      <td>0</td>\n",
       "      <td>1</td>\n",
       "      <td>0</td>\n",
       "      <td>...</td>\n",
       "      <td>0</td>\n",
       "      <td>0</td>\n",
       "      <td>0</td>\n",
       "      <td>0</td>\n",
       "      <td>0</td>\n",
       "      <td>0</td>\n",
       "      <td>0</td>\n",
       "      <td>0</td>\n",
       "      <td>0</td>\n",
       "      <td>0</td>\n",
       "    </tr>\n",
       "  </tbody>\n",
       "</table>\n",
       "<p>2 rows × 576 columns</p>\n",
       "</div>"
      ],
      "text/plain": [
       "      YEAR APR AUG DEC FEB JAN JUL JUN MAR MAY  ... TVC TYR TYS USA VEL VPS  \\\n",
       "3260  2022   0   1   0   0   0   0   0   0   0  ...   0   0   0   0   0   0   \n",
       "2316  2023   0   0   0   0   0   0   0   1   0  ...   0   0   0   0   0   0   \n",
       "\n",
       "     WRG XNA XWA YUM  \n",
       "3260   0   0   0   0  \n",
       "2316   0   0   0   0  \n",
       "\n",
       "[2 rows x 576 columns]"
      ]
     },
     "metadata": {},
     "output_type": "display_data"
    }
   ],
   "source": [
    "# Review the X variable DataFrame\n",
    "display(X.head(2))\n",
    "display(X.tail(2))"
   ]
  },
  {
   "cell_type": "code",
   "execution_count": 30,
   "id": "e0501a8b-675c-42c1-8bd7-1ff5b02787c2",
   "metadata": {},
   "outputs": [],
   "source": [
    "# Import the train_test_learn module\n",
    "from sklearn.model_selection import train_test_split\n",
    "\n",
    "# Split the data using train_test_split\n",
    "# Assign a random_state of 1 to the function\n",
    "X_train, X_test, y_train, y_test = train_test_split(X, y, random_state=1)"
   ]
  },
  {
   "cell_type": "code",
   "execution_count": 31,
   "id": "21853247-eff9-4498-aefc-dee966aec97a",
   "metadata": {},
   "outputs": [
    {
     "name": "stderr",
     "output_type": "stream",
     "text": [
      "C:\\Users\\Junk\\anaconda3\\envs\\dev\\lib\\site-packages\\sklearn\\linear_model\\_logistic.py:460: ConvergenceWarning: lbfgs failed to converge (status=1):\n",
      "STOP: TOTAL NO. of ITERATIONS REACHED LIMIT.\n",
      "\n",
      "Increase the number of iterations (max_iter) or scale the data as shown in:\n",
      "    https://scikit-learn.org/stable/modules/preprocessing.html\n",
      "Please also refer to the documentation for alternative solver options:\n",
      "    https://scikit-learn.org/stable/modules/linear_model.html#logistic-regression\n",
      "  n_iter_i = _check_optimize_result(\n"
     ]
    }
   ],
   "source": [
    "# Import the LogisticRegression module from SKLearn\n",
    "from sklearn.linear_model import LogisticRegression\n",
    "\n",
    "# Instantiate the Logistic Regression model\n",
    "# Assign a random_state parameter of 1 to the model\n",
    "logistic_regression_model = LogisticRegression(random_state=1)\n",
    "\n",
    "# Fit the model using training data\n",
    "lr_model = logistic_regression_model.fit(X_train, y_train)"
   ]
  },
  {
   "cell_type": "code",
   "execution_count": 32,
   "id": "a90b252f-d8dd-4c78-b30d-8448a74755bb",
   "metadata": {},
   "outputs": [],
   "source": [
    "# Make a prediction using the testing data\n",
    "testing_predictions = logistic_regression_model.predict(X_test)"
   ]
  },
  {
   "cell_type": "code",
   "execution_count": 33,
   "id": "1e656a8b-0e26-457a-8dbb-27375e35d091",
   "metadata": {},
   "outputs": [
    {
     "data": {
      "text/plain": [
       "0.5164507869568491"
      ]
     },
     "execution_count": 33,
     "metadata": {},
     "output_type": "execute_result"
    }
   ],
   "source": [
    "# Print the balanced_accuracy score of the model\n",
    "acc_score = balanced_accuracy_score(y_test, testing_predictions)\n",
    "acc_score"
   ]
  },
  {
   "cell_type": "code",
   "execution_count": 34,
   "id": "bb2ccf4a-cebb-43ad-a5ee-2f2df98346cf",
   "metadata": {},
   "outputs": [],
   "source": [
    "# Generate a confusion matrix for the model\n",
    "cm = confusion_matrix(y_test, testing_predictions)\n",
    "cm_df = pd.DataFrame(\n",
    "    cm, index=[\"Actual On Time\", \"Actual Delay\"], columns=[\"Predicted On Time\", \"Predicted Delay\"]\n",
    ")\n",
    "\n",
    "\n",
    "# plot_confusion_matrix(tree_clf, X, y, values_format='.3g')\n",
    "# plt.show()"
   ]
  },
  {
   "cell_type": "code",
   "execution_count": 35,
   "id": "5cd04ffe-0d63-49db-81a1-a1c46574a9dd",
   "metadata": {},
   "outputs": [
    {
     "name": "stdout",
     "output_type": "stream",
     "text": [
      "Confusion Matrix\n"
     ]
    },
    {
     "data": {
      "text/html": [
       "<div>\n",
       "<style scoped>\n",
       "    .dataframe tbody tr th:only-of-type {\n",
       "        vertical-align: middle;\n",
       "    }\n",
       "\n",
       "    .dataframe tbody tr th {\n",
       "        vertical-align: top;\n",
       "    }\n",
       "\n",
       "    .dataframe thead th {\n",
       "        text-align: right;\n",
       "    }\n",
       "</style>\n",
       "<table border=\"1\" class=\"dataframe\">\n",
       "  <thead>\n",
       "    <tr style=\"text-align: right;\">\n",
       "      <th></th>\n",
       "      <th>Predicted On Time</th>\n",
       "      <th>Predicted Delay</th>\n",
       "    </tr>\n",
       "  </thead>\n",
       "  <tbody>\n",
       "    <tr>\n",
       "      <th>Actual On Time</th>\n",
       "      <td>958</td>\n",
       "      <td>22</td>\n",
       "    </tr>\n",
       "    <tr>\n",
       "      <th>Actual Delay</th>\n",
       "      <td>256</td>\n",
       "      <td>15</td>\n",
       "    </tr>\n",
       "  </tbody>\n",
       "</table>\n",
       "</div>"
      ],
      "text/plain": [
       "                Predicted On Time  Predicted Delay\n",
       "Actual On Time                958               22\n",
       "Actual Delay                  256               15"
      ]
     },
     "metadata": {},
     "output_type": "display_data"
    },
    {
     "name": "stdout",
     "output_type": "stream",
     "text": [
      "Accuracy Score : 0.5164507869568491\n",
      "Classification Report\n",
      "              precision    recall  f1-score   support\n",
      "\n",
      "           0       0.79      0.98      0.87       980\n",
      "           1       0.41      0.06      0.10       271\n",
      "\n",
      "    accuracy                           0.78      1251\n",
      "   macro avg       0.60      0.52      0.49      1251\n",
      "weighted avg       0.71      0.78      0.71      1251\n",
      "\n"
     ]
    }
   ],
   "source": [
    "# Print the classification report for the model\n",
    "print(\"Confusion Matrix\")\n",
    "display(cm_df)\n",
    "print(f\"Accuracy Score : {acc_score}\")\n",
    "print(\"Classification Report\")\n",
    "print(classification_report(y_test, testing_predictions))"
   ]
  },
  {
   "cell_type": "code",
   "execution_count": 36,
   "id": "c6d0d3fb-6365-46f6-a6fb-8f562f542db9",
   "metadata": {},
   "outputs": [],
   "source": [
    "\n",
    "# Step 1: Use the RandomOverSampler module from the imbalanced-learn library to resample the data. \n",
    "# Be sure to confirm that the labels have an equal number of data points.\n",
    "\n",
    "\n",
    "# Import the RandomOverSampler module form imbalanced-learn\n",
    "# !pip install -U imbalanced-learn\n",
    "from imblearn.over_sampling import RandomOverSampler\n",
    "\n",
    "# Instantiate the random oversampler model\n",
    "# # Assign a random_state parameter of 1 to the model\n",
    "ros = RandomOverSampler(random_state=1)\n",
    "\n",
    "# Fit the original training data to the random_oversampler model\n",
    "X_res, y_res = ros.fit_resample(X_train, y_train)"
   ]
  },
  {
   "cell_type": "code",
   "execution_count": 37,
   "id": "967bfd15-2194-465b-87ba-8956de68fc2b",
   "metadata": {},
   "outputs": [
    {
     "data": {
      "text/plain": [
       "1    2936\n",
       "0    2936\n",
       "Name: DEP_DEL15, dtype: int64"
      ]
     },
     "execution_count": 37,
     "metadata": {},
     "output_type": "execute_result"
    }
   ],
   "source": [
    "# Count the distinct values of the resampled labels data\n",
    "y_res.value_counts()"
   ]
  },
  {
   "cell_type": "code",
   "execution_count": 38,
   "id": "7113e228-2a80-449b-bcb3-b0b51d9cff35",
   "metadata": {},
   "outputs": [
    {
     "name": "stderr",
     "output_type": "stream",
     "text": [
      "C:\\Users\\Junk\\anaconda3\\envs\\dev\\lib\\site-packages\\sklearn\\linear_model\\_logistic.py:460: ConvergenceWarning: lbfgs failed to converge (status=1):\n",
      "STOP: TOTAL NO. of ITERATIONS REACHED LIMIT.\n",
      "\n",
      "Increase the number of iterations (max_iter) or scale the data as shown in:\n",
      "    https://scikit-learn.org/stable/modules/preprocessing.html\n",
      "Please also refer to the documentation for alternative solver options:\n",
      "    https://scikit-learn.org/stable/modules/linear_model.html#logistic-regression\n",
      "  n_iter_i = _check_optimize_result(\n"
     ]
    }
   ],
   "source": [
    "# Instantiate the Logistic Regression model\n",
    "# Assign a random_state parameter of 1 to the model\n",
    "logistic_regression_model_resampled = LogisticRegression(random_state=1)\n",
    "\n",
    "# Fit the model using the resampled training data\n",
    "resampled_lr_model = logistic_regression_model_resampled.fit(X_res, y_res)\n",
    "\n",
    "# Make a prediction using the testing data\n",
    "retesting_predictions = logistic_regression_model_resampled.predict(X_res)"
   ]
  },
  {
   "cell_type": "code",
   "execution_count": 39,
   "id": "c012edc2-b8de-4313-b05e-f355bd67314c",
   "metadata": {},
   "outputs": [
    {
     "data": {
      "text/plain": [
       "0.6600817438692098"
      ]
     },
     "execution_count": 39,
     "metadata": {},
     "output_type": "execute_result"
    }
   ],
   "source": [
    "# Print the balanced_accuracy score of the model \n",
    "acc_rescore = balanced_accuracy_score(y_res, retesting_predictions)\n",
    "acc_rescore"
   ]
  },
  {
   "cell_type": "code",
   "execution_count": 40,
   "id": "036c42a1-9675-4ca5-bbce-f80714cabfd7",
   "metadata": {},
   "outputs": [],
   "source": [
    "# Generate a confusion matrix for the model\n",
    "cm2 = confusion_matrix(y_res, retesting_predictions)\n",
    "cm2_df = pd.DataFrame(\n",
    "    cm2, index=[\"Actual On Time (OS)\", \"Actual Delay (OS)\"], columns=[\"Predicted On Time (OS)\", \"Predicted Delay (OS)\"]\n",
    ")\n",
    "\n",
    "# plot_confusion_matrix(tree_clf, X, y, values_format='.3g')\n",
    "# plt.show()"
   ]
  },
  {
   "cell_type": "code",
   "execution_count": 41,
   "id": "73061839-e5bc-48ae-a106-ec08d026869d",
   "metadata": {},
   "outputs": [
    {
     "name": "stdout",
     "output_type": "stream",
     "text": [
      "Resampled Confusion Matrix\n"
     ]
    },
    {
     "data": {
      "text/html": [
       "<div>\n",
       "<style scoped>\n",
       "    .dataframe tbody tr th:only-of-type {\n",
       "        vertical-align: middle;\n",
       "    }\n",
       "\n",
       "    .dataframe tbody tr th {\n",
       "        vertical-align: top;\n",
       "    }\n",
       "\n",
       "    .dataframe thead th {\n",
       "        text-align: right;\n",
       "    }\n",
       "</style>\n",
       "<table border=\"1\" class=\"dataframe\">\n",
       "  <thead>\n",
       "    <tr style=\"text-align: right;\">\n",
       "      <th></th>\n",
       "      <th>Predicted On Time (OS)</th>\n",
       "      <th>Predicted Delay (OS)</th>\n",
       "    </tr>\n",
       "  </thead>\n",
       "  <tbody>\n",
       "    <tr>\n",
       "      <th>Actual On Time (OS)</th>\n",
       "      <td>1917</td>\n",
       "      <td>1019</td>\n",
       "    </tr>\n",
       "    <tr>\n",
       "      <th>Actual Delay (OS)</th>\n",
       "      <td>977</td>\n",
       "      <td>1959</td>\n",
       "    </tr>\n",
       "  </tbody>\n",
       "</table>\n",
       "</div>"
      ],
      "text/plain": [
       "                     Predicted On Time (OS)  Predicted Delay (OS)\n",
       "Actual On Time (OS)                    1917                  1019\n",
       "Actual Delay (OS)                       977                  1959"
      ]
     },
     "metadata": {},
     "output_type": "display_data"
    },
    {
     "name": "stdout",
     "output_type": "stream",
     "text": [
      "Accuracy Score : 0.6600817438692098\n",
      "Classification Report\n",
      "              precision    recall  f1-score   support\n",
      "\n",
      "           0       0.66      0.65      0.66      2936\n",
      "           1       0.66      0.67      0.66      2936\n",
      "\n",
      "    accuracy                           0.66      5872\n",
      "   macro avg       0.66      0.66      0.66      5872\n",
      "weighted avg       0.66      0.66      0.66      5872\n",
      "\n"
     ]
    }
   ],
   "source": [
    "# Print the classification report for the model\n",
    "print(\"Resampled Confusion Matrix\")\n",
    "display(cm2_df)\n",
    "print(f\"Accuracy Score : {acc_rescore}\")\n",
    "print(\"Classification Report\")\n",
    "print(classification_report(y_res, retesting_predictions))"
   ]
  },
  {
   "cell_type": "code",
   "execution_count": null,
   "id": "5aedfcd1-5d38-4eb6-8bdc-c397bb17519e",
   "metadata": {},
   "outputs": [],
   "source": []
  }
 ],
 "metadata": {
  "kernelspec": {
   "display_name": "Python 3 (ipykernel)",
   "language": "python",
   "name": "python3"
  },
  "language_info": {
   "codemirror_mode": {
    "name": "ipython",
    "version": 3
   },
   "file_extension": ".py",
   "mimetype": "text/x-python",
   "name": "python",
   "nbconvert_exporter": "python",
   "pygments_lexer": "ipython3",
   "version": "3.10.11"
  }
 },
 "nbformat": 4,
 "nbformat_minor": 5
}
