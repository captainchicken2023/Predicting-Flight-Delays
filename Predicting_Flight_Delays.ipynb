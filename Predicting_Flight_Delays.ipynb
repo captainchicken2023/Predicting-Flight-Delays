{
 "cells": [
  {
   "cell_type": "code",
   "execution_count": 2,
   "id": "03ddd519-174c-4b3f-82c9-802d9e127b48",
   "metadata": {},
   "outputs": [],
   "source": [
    "# Import the modules\n",
    "import numpy\n",
    "import numpy as np\n",
    "import pandas as pd\n",
    "from pathlib import Path\n",
    "from imblearn.over_sampling import RandomOverSampler\n",
    "from sklearn.metrics import balanced_accuracy_score, confusion_matrix, classification_report, accuracy_score\n",
    "from sklearn.model_selection import RandomizedSearchCV as RSCV\n",
    "from sklearn.ensemble import RandomForestClassifier\n",
    "from sklearn.preprocessing import StandardScaler\n",
    "from sklearn.model_selection import train_test_split\n",
    "from sklearn import metrics\n",
    "import matplotlib.pyplot as plt \n",
    "%matplotlib inline\n",
    "import csv\n",
    "import os\n",
    "import warnings\n",
    "warnings.simplefilter(action='ignore', category=FutureWarning)"
   ]
  },
  {
   "cell_type": "code",
   "execution_count": 3,
   "id": "e1096817-c97a-466b-be0f-6e9c95498133",
   "metadata": {},
   "outputs": [],
   "source": [
    "# Read the CSV file from the Resources folder into a Pandas DataFrame\n",
    "log_reg_df = pd.read_csv(\"Resources/analysis_df.csv\")\n",
    "\n",
    "# Reshuffling the data for good measure\n",
    "log_reg_df = log_reg_df.sample(frac = 1)"
   ]
  },
  {
   "cell_type": "code",
   "execution_count": 4,
   "id": "50dae4e2-c114-4464-9561-a9367a8c9577",
   "metadata": {},
   "outputs": [
    {
     "data": {
      "text/plain": [
       "(150001, 6)"
      ]
     },
     "execution_count": 4,
     "metadata": {},
     "output_type": "execute_result"
    }
   ],
   "source": [
    "# Checkpoint\n",
    "log_reg_df.shape"
   ]
  },
  {
   "cell_type": "code",
   "execution_count": 5,
   "id": "0438663b-1b81-4ca7-aaf9-c83fb52dde0f",
   "metadata": {},
   "outputs": [
    {
     "data": {
      "text/html": [
       "<div>\n",
       "<style scoped>\n",
       "    .dataframe tbody tr th:only-of-type {\n",
       "        vertical-align: middle;\n",
       "    }\n",
       "\n",
       "    .dataframe tbody tr th {\n",
       "        vertical-align: top;\n",
       "    }\n",
       "\n",
       "    .dataframe thead th {\n",
       "        text-align: right;\n",
       "    }\n",
       "</style>\n",
       "<table border=\"1\" class=\"dataframe\">\n",
       "  <thead>\n",
       "    <tr style=\"text-align: right;\">\n",
       "      <th></th>\n",
       "      <th>MONTH</th>\n",
       "      <th>DAY_OF_MONTH</th>\n",
       "      <th>DAY_OF_WEEK</th>\n",
       "      <th>OP_CARRIER</th>\n",
       "      <th>ORIGIN</th>\n",
       "      <th>DEP_DEL15</th>\n",
       "    </tr>\n",
       "  </thead>\n",
       "  <tbody>\n",
       "    <tr>\n",
       "      <th>4591</th>\n",
       "      <td>11</td>\n",
       "      <td>13</td>\n",
       "      <td>Sunday</td>\n",
       "      <td>Republic Airline</td>\n",
       "      <td>DCA</td>\n",
       "      <td>0</td>\n",
       "    </tr>\n",
       "    <tr>\n",
       "      <th>83503</th>\n",
       "      <td>8</td>\n",
       "      <td>3</td>\n",
       "      <td>Thursday</td>\n",
       "      <td>Southwest Airlines</td>\n",
       "      <td>HOU</td>\n",
       "      <td>0</td>\n",
       "    </tr>\n",
       "    <tr>\n",
       "      <th>23093</th>\n",
       "      <td>11</td>\n",
       "      <td>28</td>\n",
       "      <td>Monday</td>\n",
       "      <td>American Airlines</td>\n",
       "      <td>BOS</td>\n",
       "      <td>0</td>\n",
       "    </tr>\n",
       "    <tr>\n",
       "      <th>142862</th>\n",
       "      <td>11</td>\n",
       "      <td>15</td>\n",
       "      <td>Tuesday</td>\n",
       "      <td>Southwest Airlines</td>\n",
       "      <td>MCO</td>\n",
       "      <td>0</td>\n",
       "    </tr>\n",
       "    <tr>\n",
       "      <th>67246</th>\n",
       "      <td>11</td>\n",
       "      <td>4</td>\n",
       "      <td>Friday</td>\n",
       "      <td>Endeavor Air</td>\n",
       "      <td>LGA</td>\n",
       "      <td>1</td>\n",
       "    </tr>\n",
       "    <tr>\n",
       "      <th>60478</th>\n",
       "      <td>8</td>\n",
       "      <td>29</td>\n",
       "      <td>Tuesday</td>\n",
       "      <td>United Air Lines</td>\n",
       "      <td>LGA</td>\n",
       "      <td>0</td>\n",
       "    </tr>\n",
       "    <tr>\n",
       "      <th>33527</th>\n",
       "      <td>7</td>\n",
       "      <td>7</td>\n",
       "      <td>Friday</td>\n",
       "      <td>Spirit Air Lines</td>\n",
       "      <td>ORD</td>\n",
       "      <td>1</td>\n",
       "    </tr>\n",
       "    <tr>\n",
       "      <th>24760</th>\n",
       "      <td>3</td>\n",
       "      <td>12</td>\n",
       "      <td>Sunday</td>\n",
       "      <td>JetBlue Airways</td>\n",
       "      <td>JFK</td>\n",
       "      <td>1</td>\n",
       "    </tr>\n",
       "    <tr>\n",
       "      <th>52286</th>\n",
       "      <td>10</td>\n",
       "      <td>6</td>\n",
       "      <td>Thursday</td>\n",
       "      <td>United Air Lines</td>\n",
       "      <td>AUS</td>\n",
       "      <td>0</td>\n",
       "    </tr>\n",
       "    <tr>\n",
       "      <th>43455</th>\n",
       "      <td>11</td>\n",
       "      <td>21</td>\n",
       "      <td>Monday</td>\n",
       "      <td>Southwest Airlines</td>\n",
       "      <td>AUS</td>\n",
       "      <td>1</td>\n",
       "    </tr>\n",
       "  </tbody>\n",
       "</table>\n",
       "</div>"
      ],
      "text/plain": [
       "        MONTH  DAY_OF_MONTH DAY_OF_WEEK          OP_CARRIER ORIGIN  DEP_DEL15\n",
       "4591       11            13      Sunday    Republic Airline    DCA          0\n",
       "83503       8             3    Thursday  Southwest Airlines    HOU          0\n",
       "23093      11            28      Monday   American Airlines    BOS          0\n",
       "142862     11            15     Tuesday  Southwest Airlines    MCO          0\n",
       "67246      11             4      Friday        Endeavor Air    LGA          1\n",
       "60478       8            29     Tuesday    United Air Lines    LGA          0\n",
       "33527       7             7      Friday    Spirit Air Lines    ORD          1\n",
       "24760       3            12      Sunday     JetBlue Airways    JFK          1\n",
       "52286      10             6    Thursday    United Air Lines    AUS          0\n",
       "43455      11            21      Monday  Southwest Airlines    AUS          1"
      ]
     },
     "execution_count": 5,
     "metadata": {},
     "output_type": "execute_result"
    }
   ],
   "source": [
    "# Review the DataFrame\n",
    "log_reg_df.head().append(log_reg_df.tail())"
   ]
  },
  {
   "cell_type": "markdown",
   "id": "da329d63-a860-4eab-b147-8d088aaa99ce",
   "metadata": {},
   "source": [
    "### Column Definitions\n",
    "\n",
    "* YEAR = Year of Flight\n",
    "* MONTH = Month of Flight\n",
    "* DAY_OF_MONTH = Day of Month\n",
    "* DAY_OF_WEEK = Day of Week\n",
    "* OP_CARRIER = Carrier Name\n",
    "* ORIGIN = Origin Airport Code\n",
    "* DEP_DEL15 = Departure Delay (0 = No, 1 = Yes)"
   ]
  },
  {
   "cell_type": "code",
   "execution_count": 6,
   "id": "09f0825e-9b4b-42d0-ae54-0c338ca84d41",
   "metadata": {},
   "outputs": [],
   "source": [
    "# Changing data type to string to address regression analysis errors\n",
    "log_reg_df = log_reg_df.astype(str)"
   ]
  },
  {
   "cell_type": "code",
   "execution_count": 7,
   "id": "f1a09684-8781-4e40-8df7-82885fb83b40",
   "metadata": {},
   "outputs": [
    {
     "data": {
      "text/plain": [
       "ATL    7529\n",
       "DEN    6431\n",
       "DFW    6121\n",
       "ORD    5738\n",
       "CLT    4270\n",
       "       ... \n",
       "ROW      21\n",
       "MHK      20\n",
       "TXK      19\n",
       "DEC      18\n",
       "MVY      18\n",
       "Name: ORIGIN, Length: 241, dtype: int64"
      ]
     },
     "execution_count": 7,
     "metadata": {},
     "output_type": "execute_result"
    }
   ],
   "source": [
    "# Checkpoint\n",
    "log_reg_df['ORIGIN'].value_counts()"
   ]
  },
  {
   "cell_type": "code",
   "execution_count": 8,
   "id": "df50ebd1-bdbf-4828-a06a-ed2fdb3652c1",
   "metadata": {},
   "outputs": [
    {
     "data": {
      "text/plain": [
       "ATL    7529\n",
       "DEN    6431\n",
       "DFW    6121\n",
       "ORD    5738\n",
       "CLT    4270\n",
       "LAX    4165\n",
       "LAS    4155\n",
       "SEA    3871\n",
       "PHX    3822\n",
       "LGA    3676\n",
       "MCO    3575\n",
       "DCA    3225\n",
       "BOS    3142\n",
       "JFK    3088\n",
       "EWR    3038\n",
       "SFO    2922\n",
       "MSP    2821\n",
       "DTW    2670\n",
       "IAH    2599\n",
       "MIA    2318\n",
       "SLC    2316\n",
       "BWI    2117\n",
       "SAN    2107\n",
       "BNA    2106\n",
       "AUS    2050\n",
       "FLL    1989\n",
       "PHL    1971\n",
       "MDW    1878\n",
       "TPA    1606\n",
       "DAL    1570\n",
       "HNL    1358\n",
       "STL    1351\n",
       "PDX    1282\n",
       "SJC    1259\n",
       "RDU    1219\n",
       "SMF    1199\n",
       "HOU    1165\n",
       "IAD    1152\n",
       "MSY    1125\n",
       "SNA    1040\n",
       "MCI    1036\n",
       "OAK    1030\n",
       "Name: ORIGIN, dtype: int64"
      ]
     },
     "execution_count": 8,
     "metadata": {},
     "output_type": "execute_result"
    }
   ],
   "source": [
    "# Removing airports with fewer than 1000 flights\n",
    "origin_adjust = log_reg_df['ORIGIN'].value_counts()\n",
    "\n",
    "to_remove = origin_adjust[origin_adjust <= 1000].index\n",
    "\n",
    "log_reg_adjust = log_reg_df[~log_reg_df.ORIGIN.isin(to_remove)]\n",
    "\n",
    "# Checkpoint\n",
    "log_reg_adjust['ORIGIN'].value_counts()"
   ]
  },
  {
   "cell_type": "code",
   "execution_count": 9,
   "id": "919933df-5354-4e0a-8dd4-313aa4bacf04",
   "metadata": {},
   "outputs": [
    {
     "data": {
      "text/plain": [
       "(113102, 6)"
      ]
     },
     "execution_count": 9,
     "metadata": {},
     "output_type": "execute_result"
    }
   ],
   "source": [
    "# Checkpoint\n",
    "log_reg_adjust.shape"
   ]
  },
  {
   "cell_type": "code",
   "execution_count": 10,
   "id": "674cc04e-6530-4b52-97ac-745661eab984",
   "metadata": {},
   "outputs": [],
   "source": [
    "# Transforming the data using get_dummies\n",
    "month_dummies = pd.get_dummies(log_reg_adjust[\"MONTH\"])\n",
    "day_dummies = pd.get_dummies(log_reg_adjust[\"DAY_OF_WEEK\"])\n",
    "carrier_dummies = pd.get_dummies(log_reg_adjust[\"OP_CARRIER\"])\n",
    "origin_dummies = pd.get_dummies(log_reg_adjust[\"ORIGIN\"])"
   ]
  },
  {
   "cell_type": "code",
   "execution_count": 11,
   "id": "eda209af-ba08-4664-868d-e0d4fd88540c",
   "metadata": {},
   "outputs": [
    {
     "data": {
      "text/html": [
       "<div>\n",
       "<style scoped>\n",
       "    .dataframe tbody tr th:only-of-type {\n",
       "        vertical-align: middle;\n",
       "    }\n",
       "\n",
       "    .dataframe tbody tr th {\n",
       "        vertical-align: top;\n",
       "    }\n",
       "\n",
       "    .dataframe thead th {\n",
       "        text-align: right;\n",
       "    }\n",
       "</style>\n",
       "<table border=\"1\" class=\"dataframe\">\n",
       "  <thead>\n",
       "    <tr style=\"text-align: right;\">\n",
       "      <th></th>\n",
       "      <th>1</th>\n",
       "      <th>10</th>\n",
       "      <th>11</th>\n",
       "      <th>12</th>\n",
       "      <th>2</th>\n",
       "      <th>3</th>\n",
       "      <th>4</th>\n",
       "      <th>5</th>\n",
       "      <th>6</th>\n",
       "      <th>7</th>\n",
       "      <th>8</th>\n",
       "      <th>9</th>\n",
       "    </tr>\n",
       "  </thead>\n",
       "  <tbody>\n",
       "    <tr>\n",
       "      <th>60478</th>\n",
       "      <td>0</td>\n",
       "      <td>0</td>\n",
       "      <td>0</td>\n",
       "      <td>0</td>\n",
       "      <td>0</td>\n",
       "      <td>0</td>\n",
       "      <td>0</td>\n",
       "      <td>0</td>\n",
       "      <td>0</td>\n",
       "      <td>0</td>\n",
       "      <td>1</td>\n",
       "      <td>0</td>\n",
       "    </tr>\n",
       "    <tr>\n",
       "      <th>33527</th>\n",
       "      <td>0</td>\n",
       "      <td>0</td>\n",
       "      <td>0</td>\n",
       "      <td>0</td>\n",
       "      <td>0</td>\n",
       "      <td>0</td>\n",
       "      <td>0</td>\n",
       "      <td>0</td>\n",
       "      <td>0</td>\n",
       "      <td>1</td>\n",
       "      <td>0</td>\n",
       "      <td>0</td>\n",
       "    </tr>\n",
       "    <tr>\n",
       "      <th>24760</th>\n",
       "      <td>0</td>\n",
       "      <td>0</td>\n",
       "      <td>0</td>\n",
       "      <td>0</td>\n",
       "      <td>0</td>\n",
       "      <td>1</td>\n",
       "      <td>0</td>\n",
       "      <td>0</td>\n",
       "      <td>0</td>\n",
       "      <td>0</td>\n",
       "      <td>0</td>\n",
       "      <td>0</td>\n",
       "    </tr>\n",
       "    <tr>\n",
       "      <th>52286</th>\n",
       "      <td>0</td>\n",
       "      <td>1</td>\n",
       "      <td>0</td>\n",
       "      <td>0</td>\n",
       "      <td>0</td>\n",
       "      <td>0</td>\n",
       "      <td>0</td>\n",
       "      <td>0</td>\n",
       "      <td>0</td>\n",
       "      <td>0</td>\n",
       "      <td>0</td>\n",
       "      <td>0</td>\n",
       "    </tr>\n",
       "    <tr>\n",
       "      <th>43455</th>\n",
       "      <td>0</td>\n",
       "      <td>0</td>\n",
       "      <td>1</td>\n",
       "      <td>0</td>\n",
       "      <td>0</td>\n",
       "      <td>0</td>\n",
       "      <td>0</td>\n",
       "      <td>0</td>\n",
       "      <td>0</td>\n",
       "      <td>0</td>\n",
       "      <td>0</td>\n",
       "      <td>0</td>\n",
       "    </tr>\n",
       "  </tbody>\n",
       "</table>\n",
       "</div>"
      ],
      "text/plain": [
       "       1  10  11  12  2  3  4  5  6  7  8  9\n",
       "60478  0   0   0   0  0  0  0  0  0  0  1  0\n",
       "33527  0   0   0   0  0  0  0  0  0  1  0  0\n",
       "24760  0   0   0   0  0  1  0  0  0  0  0  0\n",
       "52286  0   1   0   0  0  0  0  0  0  0  0  0\n",
       "43455  0   0   1   0  0  0  0  0  0  0  0  0"
      ]
     },
     "execution_count": 11,
     "metadata": {},
     "output_type": "execute_result"
    }
   ],
   "source": [
    "# Display the transformed data\n",
    "month_dummies.tail()\n",
    "#day_dummies.tail()\n",
    "#carrier_dummies.tail()\n",
    "#origin_dummies.tail()"
   ]
  },
  {
   "cell_type": "code",
   "execution_count": 12,
   "id": "34013b67-50f1-4e76-a225-e96a98abd58d",
   "metadata": {},
   "outputs": [
    {
     "data": {
      "text/html": [
       "<div>\n",
       "<style scoped>\n",
       "    .dataframe tbody tr th:only-of-type {\n",
       "        vertical-align: middle;\n",
       "    }\n",
       "\n",
       "    .dataframe tbody tr th {\n",
       "        vertical-align: top;\n",
       "    }\n",
       "\n",
       "    .dataframe thead th {\n",
       "        text-align: right;\n",
       "    }\n",
       "</style>\n",
       "<table border=\"1\" class=\"dataframe\">\n",
       "  <thead>\n",
       "    <tr style=\"text-align: right;\">\n",
       "      <th></th>\n",
       "      <th>DEP_DEL15</th>\n",
       "      <th>1</th>\n",
       "      <th>10</th>\n",
       "      <th>11</th>\n",
       "      <th>12</th>\n",
       "      <th>2</th>\n",
       "      <th>3</th>\n",
       "      <th>5</th>\n",
       "      <th>6</th>\n",
       "      <th>7</th>\n",
       "      <th>...</th>\n",
       "      <th>RDU</th>\n",
       "      <th>SAN</th>\n",
       "      <th>SEA</th>\n",
       "      <th>SFO</th>\n",
       "      <th>SJC</th>\n",
       "      <th>SLC</th>\n",
       "      <th>SMF</th>\n",
       "      <th>SNA</th>\n",
       "      <th>STL</th>\n",
       "      <th>TPA</th>\n",
       "    </tr>\n",
       "  </thead>\n",
       "  <tbody>\n",
       "    <tr>\n",
       "      <th>4591</th>\n",
       "      <td>0</td>\n",
       "      <td>0</td>\n",
       "      <td>0</td>\n",
       "      <td>1</td>\n",
       "      <td>0</td>\n",
       "      <td>0</td>\n",
       "      <td>0</td>\n",
       "      <td>0</td>\n",
       "      <td>0</td>\n",
       "      <td>0</td>\n",
       "      <td>...</td>\n",
       "      <td>0</td>\n",
       "      <td>0</td>\n",
       "      <td>0</td>\n",
       "      <td>0</td>\n",
       "      <td>0</td>\n",
       "      <td>0</td>\n",
       "      <td>0</td>\n",
       "      <td>0</td>\n",
       "      <td>0</td>\n",
       "      <td>0</td>\n",
       "    </tr>\n",
       "    <tr>\n",
       "      <th>83503</th>\n",
       "      <td>0</td>\n",
       "      <td>0</td>\n",
       "      <td>0</td>\n",
       "      <td>0</td>\n",
       "      <td>0</td>\n",
       "      <td>0</td>\n",
       "      <td>0</td>\n",
       "      <td>0</td>\n",
       "      <td>0</td>\n",
       "      <td>0</td>\n",
       "      <td>...</td>\n",
       "      <td>0</td>\n",
       "      <td>0</td>\n",
       "      <td>0</td>\n",
       "      <td>0</td>\n",
       "      <td>0</td>\n",
       "      <td>0</td>\n",
       "      <td>0</td>\n",
       "      <td>0</td>\n",
       "      <td>0</td>\n",
       "      <td>0</td>\n",
       "    </tr>\n",
       "    <tr>\n",
       "      <th>23093</th>\n",
       "      <td>0</td>\n",
       "      <td>0</td>\n",
       "      <td>0</td>\n",
       "      <td>1</td>\n",
       "      <td>0</td>\n",
       "      <td>0</td>\n",
       "      <td>0</td>\n",
       "      <td>0</td>\n",
       "      <td>0</td>\n",
       "      <td>0</td>\n",
       "      <td>...</td>\n",
       "      <td>0</td>\n",
       "      <td>0</td>\n",
       "      <td>0</td>\n",
       "      <td>0</td>\n",
       "      <td>0</td>\n",
       "      <td>0</td>\n",
       "      <td>0</td>\n",
       "      <td>0</td>\n",
       "      <td>0</td>\n",
       "      <td>0</td>\n",
       "    </tr>\n",
       "    <tr>\n",
       "      <th>142862</th>\n",
       "      <td>0</td>\n",
       "      <td>0</td>\n",
       "      <td>0</td>\n",
       "      <td>1</td>\n",
       "      <td>0</td>\n",
       "      <td>0</td>\n",
       "      <td>0</td>\n",
       "      <td>0</td>\n",
       "      <td>0</td>\n",
       "      <td>0</td>\n",
       "      <td>...</td>\n",
       "      <td>0</td>\n",
       "      <td>0</td>\n",
       "      <td>0</td>\n",
       "      <td>0</td>\n",
       "      <td>0</td>\n",
       "      <td>0</td>\n",
       "      <td>0</td>\n",
       "      <td>0</td>\n",
       "      <td>0</td>\n",
       "      <td>0</td>\n",
       "    </tr>\n",
       "    <tr>\n",
       "      <th>67246</th>\n",
       "      <td>1</td>\n",
       "      <td>0</td>\n",
       "      <td>0</td>\n",
       "      <td>1</td>\n",
       "      <td>0</td>\n",
       "      <td>0</td>\n",
       "      <td>0</td>\n",
       "      <td>0</td>\n",
       "      <td>0</td>\n",
       "      <td>0</td>\n",
       "      <td>...</td>\n",
       "      <td>0</td>\n",
       "      <td>0</td>\n",
       "      <td>0</td>\n",
       "      <td>0</td>\n",
       "      <td>0</td>\n",
       "      <td>0</td>\n",
       "      <td>0</td>\n",
       "      <td>0</td>\n",
       "      <td>0</td>\n",
       "      <td>0</td>\n",
       "    </tr>\n",
       "  </tbody>\n",
       "</table>\n",
       "<p>5 rows × 76 columns</p>\n",
       "</div>"
      ],
      "text/plain": [
       "       DEP_DEL15  1  10  11  12  2  3  5  6  7  ...  RDU  SAN  SEA  SFO  SJC  \\\n",
       "4591           0  0   0   1   0  0  0  0  0  0  ...    0    0    0    0    0   \n",
       "83503          0  0   0   0   0  0  0  0  0  0  ...    0    0    0    0    0   \n",
       "23093          0  0   0   1   0  0  0  0  0  0  ...    0    0    0    0    0   \n",
       "142862         0  0   0   1   0  0  0  0  0  0  ...    0    0    0    0    0   \n",
       "67246          1  0   0   1   0  0  0  0  0  0  ...    0    0    0    0    0   \n",
       "\n",
       "        SLC  SMF  SNA  STL  TPA  \n",
       "4591      0    0    0    0    0  \n",
       "83503     0    0    0    0    0  \n",
       "23093     0    0    0    0    0  \n",
       "142862    0    0    0    0    0  \n",
       "67246     0    0    0    0    0  \n",
       "\n",
       "[5 rows x 76 columns]"
      ]
     },
     "execution_count": 12,
     "metadata": {},
     "output_type": "execute_result"
    }
   ],
   "source": [
    "# Concatenate log_reg_adjust and the created dummies DataFrames\n",
    "dummy_df = pd.concat([log_reg_adjust, \n",
    "                                  month_dummies, \n",
    "                                  day_dummies,\n",
    "                                  carrier_dummies,\n",
    "                                  origin_dummies,\n",
    "                                 ], \n",
    "                                 axis=1)\n",
    "\n",
    "# Drop the originating dummies columns\n",
    "tranformed_logreg_df = dummy_df.drop(columns=[\"MONTH\",\n",
    "                                                \"4\",\n",
    "                                                \"DAY_OF_MONTH\",\n",
    "                                                \"DAY_OF_WEEK\", \n",
    "                                                \"Saturday\",\n",
    "                                                \"OP_CARRIER\",\n",
    "                                                \"Alaska Airlines\", \n",
    "                                                \"ORIGIN\", \n",
    "                                             ])\n",
    "\n",
    "# Display the DataFrame\n",
    "tranformed_logreg_df.head()"
   ]
  },
  {
   "cell_type": "markdown",
   "id": "672efb98-c03b-4246-928a-86c4edf786c7",
   "metadata": {},
   "source": [
    "## Logistical Regression"
   ]
  },
  {
   "cell_type": "code",
   "execution_count": 13,
   "id": "cf803f24-27b9-4454-9e06-e6524d8adf0f",
   "metadata": {},
   "outputs": [],
   "source": [
    "# Separate the data into labels and features\n",
    "\n",
    "# Separate the y variable, the labels\n",
    "y = tranformed_logreg_df['DEP_DEL15']\n",
    "\n",
    "# Separate the X variable, the features\n",
    "X = tranformed_logreg_df.drop(columns=['DEP_DEL15'])"
   ]
  },
  {
   "cell_type": "code",
   "execution_count": 14,
   "id": "ac9b13d8-37ea-4859-980c-a95ebce420c4",
   "metadata": {},
   "outputs": [
    {
     "data": {
      "text/plain": [
       "4591      0\n",
       "83503     0\n",
       "23093     0\n",
       "142862    0\n",
       "67246     1\n",
       "60478     0\n",
       "33527     1\n",
       "24760     1\n",
       "52286     0\n",
       "43455     1\n",
       "Name: DEP_DEL15, dtype: object"
      ]
     },
     "execution_count": 14,
     "metadata": {},
     "output_type": "execute_result"
    }
   ],
   "source": [
    "# Review the y variable Series\n",
    "y.head().append(y.tail())"
   ]
  },
  {
   "cell_type": "code",
   "execution_count": 15,
   "id": "b7b88fcc-024f-4c94-8b2f-36e55b3b6075",
   "metadata": {},
   "outputs": [
    {
     "data": {
      "text/plain": [
       "0    87185\n",
       "1    25917\n",
       "Name: DEP_DEL15, dtype: int64"
      ]
     },
     "execution_count": 15,
     "metadata": {},
     "output_type": "execute_result"
    }
   ],
   "source": [
    "# Check the balance of our target values\n",
    "y.value_counts()"
   ]
  },
  {
   "cell_type": "code",
   "execution_count": 16,
   "id": "b070403a-c097-4674-81d4-591c10d47ebd",
   "metadata": {},
   "outputs": [
    {
     "data": {
      "text/html": [
       "<div>\n",
       "<style scoped>\n",
       "    .dataframe tbody tr th:only-of-type {\n",
       "        vertical-align: middle;\n",
       "    }\n",
       "\n",
       "    .dataframe tbody tr th {\n",
       "        vertical-align: top;\n",
       "    }\n",
       "\n",
       "    .dataframe thead th {\n",
       "        text-align: right;\n",
       "    }\n",
       "</style>\n",
       "<table border=\"1\" class=\"dataframe\">\n",
       "  <thead>\n",
       "    <tr style=\"text-align: right;\">\n",
       "      <th></th>\n",
       "      <th>1</th>\n",
       "      <th>10</th>\n",
       "      <th>11</th>\n",
       "      <th>12</th>\n",
       "      <th>2</th>\n",
       "      <th>3</th>\n",
       "      <th>5</th>\n",
       "      <th>6</th>\n",
       "      <th>7</th>\n",
       "      <th>8</th>\n",
       "      <th>...</th>\n",
       "      <th>RDU</th>\n",
       "      <th>SAN</th>\n",
       "      <th>SEA</th>\n",
       "      <th>SFO</th>\n",
       "      <th>SJC</th>\n",
       "      <th>SLC</th>\n",
       "      <th>SMF</th>\n",
       "      <th>SNA</th>\n",
       "      <th>STL</th>\n",
       "      <th>TPA</th>\n",
       "    </tr>\n",
       "  </thead>\n",
       "  <tbody>\n",
       "    <tr>\n",
       "      <th>4591</th>\n",
       "      <td>0</td>\n",
       "      <td>0</td>\n",
       "      <td>1</td>\n",
       "      <td>0</td>\n",
       "      <td>0</td>\n",
       "      <td>0</td>\n",
       "      <td>0</td>\n",
       "      <td>0</td>\n",
       "      <td>0</td>\n",
       "      <td>0</td>\n",
       "      <td>...</td>\n",
       "      <td>0</td>\n",
       "      <td>0</td>\n",
       "      <td>0</td>\n",
       "      <td>0</td>\n",
       "      <td>0</td>\n",
       "      <td>0</td>\n",
       "      <td>0</td>\n",
       "      <td>0</td>\n",
       "      <td>0</td>\n",
       "      <td>0</td>\n",
       "    </tr>\n",
       "    <tr>\n",
       "      <th>83503</th>\n",
       "      <td>0</td>\n",
       "      <td>0</td>\n",
       "      <td>0</td>\n",
       "      <td>0</td>\n",
       "      <td>0</td>\n",
       "      <td>0</td>\n",
       "      <td>0</td>\n",
       "      <td>0</td>\n",
       "      <td>0</td>\n",
       "      <td>1</td>\n",
       "      <td>...</td>\n",
       "      <td>0</td>\n",
       "      <td>0</td>\n",
       "      <td>0</td>\n",
       "      <td>0</td>\n",
       "      <td>0</td>\n",
       "      <td>0</td>\n",
       "      <td>0</td>\n",
       "      <td>0</td>\n",
       "      <td>0</td>\n",
       "      <td>0</td>\n",
       "    </tr>\n",
       "    <tr>\n",
       "      <th>23093</th>\n",
       "      <td>0</td>\n",
       "      <td>0</td>\n",
       "      <td>1</td>\n",
       "      <td>0</td>\n",
       "      <td>0</td>\n",
       "      <td>0</td>\n",
       "      <td>0</td>\n",
       "      <td>0</td>\n",
       "      <td>0</td>\n",
       "      <td>0</td>\n",
       "      <td>...</td>\n",
       "      <td>0</td>\n",
       "      <td>0</td>\n",
       "      <td>0</td>\n",
       "      <td>0</td>\n",
       "      <td>0</td>\n",
       "      <td>0</td>\n",
       "      <td>0</td>\n",
       "      <td>0</td>\n",
       "      <td>0</td>\n",
       "      <td>0</td>\n",
       "    </tr>\n",
       "    <tr>\n",
       "      <th>142862</th>\n",
       "      <td>0</td>\n",
       "      <td>0</td>\n",
       "      <td>1</td>\n",
       "      <td>0</td>\n",
       "      <td>0</td>\n",
       "      <td>0</td>\n",
       "      <td>0</td>\n",
       "      <td>0</td>\n",
       "      <td>0</td>\n",
       "      <td>0</td>\n",
       "      <td>...</td>\n",
       "      <td>0</td>\n",
       "      <td>0</td>\n",
       "      <td>0</td>\n",
       "      <td>0</td>\n",
       "      <td>0</td>\n",
       "      <td>0</td>\n",
       "      <td>0</td>\n",
       "      <td>0</td>\n",
       "      <td>0</td>\n",
       "      <td>0</td>\n",
       "    </tr>\n",
       "    <tr>\n",
       "      <th>67246</th>\n",
       "      <td>0</td>\n",
       "      <td>0</td>\n",
       "      <td>1</td>\n",
       "      <td>0</td>\n",
       "      <td>0</td>\n",
       "      <td>0</td>\n",
       "      <td>0</td>\n",
       "      <td>0</td>\n",
       "      <td>0</td>\n",
       "      <td>0</td>\n",
       "      <td>...</td>\n",
       "      <td>0</td>\n",
       "      <td>0</td>\n",
       "      <td>0</td>\n",
       "      <td>0</td>\n",
       "      <td>0</td>\n",
       "      <td>0</td>\n",
       "      <td>0</td>\n",
       "      <td>0</td>\n",
       "      <td>0</td>\n",
       "      <td>0</td>\n",
       "    </tr>\n",
       "    <tr>\n",
       "      <th>60478</th>\n",
       "      <td>0</td>\n",
       "      <td>0</td>\n",
       "      <td>0</td>\n",
       "      <td>0</td>\n",
       "      <td>0</td>\n",
       "      <td>0</td>\n",
       "      <td>0</td>\n",
       "      <td>0</td>\n",
       "      <td>0</td>\n",
       "      <td>1</td>\n",
       "      <td>...</td>\n",
       "      <td>0</td>\n",
       "      <td>0</td>\n",
       "      <td>0</td>\n",
       "      <td>0</td>\n",
       "      <td>0</td>\n",
       "      <td>0</td>\n",
       "      <td>0</td>\n",
       "      <td>0</td>\n",
       "      <td>0</td>\n",
       "      <td>0</td>\n",
       "    </tr>\n",
       "    <tr>\n",
       "      <th>33527</th>\n",
       "      <td>0</td>\n",
       "      <td>0</td>\n",
       "      <td>0</td>\n",
       "      <td>0</td>\n",
       "      <td>0</td>\n",
       "      <td>0</td>\n",
       "      <td>0</td>\n",
       "      <td>0</td>\n",
       "      <td>1</td>\n",
       "      <td>0</td>\n",
       "      <td>...</td>\n",
       "      <td>0</td>\n",
       "      <td>0</td>\n",
       "      <td>0</td>\n",
       "      <td>0</td>\n",
       "      <td>0</td>\n",
       "      <td>0</td>\n",
       "      <td>0</td>\n",
       "      <td>0</td>\n",
       "      <td>0</td>\n",
       "      <td>0</td>\n",
       "    </tr>\n",
       "    <tr>\n",
       "      <th>24760</th>\n",
       "      <td>0</td>\n",
       "      <td>0</td>\n",
       "      <td>0</td>\n",
       "      <td>0</td>\n",
       "      <td>0</td>\n",
       "      <td>1</td>\n",
       "      <td>0</td>\n",
       "      <td>0</td>\n",
       "      <td>0</td>\n",
       "      <td>0</td>\n",
       "      <td>...</td>\n",
       "      <td>0</td>\n",
       "      <td>0</td>\n",
       "      <td>0</td>\n",
       "      <td>0</td>\n",
       "      <td>0</td>\n",
       "      <td>0</td>\n",
       "      <td>0</td>\n",
       "      <td>0</td>\n",
       "      <td>0</td>\n",
       "      <td>0</td>\n",
       "    </tr>\n",
       "    <tr>\n",
       "      <th>52286</th>\n",
       "      <td>0</td>\n",
       "      <td>1</td>\n",
       "      <td>0</td>\n",
       "      <td>0</td>\n",
       "      <td>0</td>\n",
       "      <td>0</td>\n",
       "      <td>0</td>\n",
       "      <td>0</td>\n",
       "      <td>0</td>\n",
       "      <td>0</td>\n",
       "      <td>...</td>\n",
       "      <td>0</td>\n",
       "      <td>0</td>\n",
       "      <td>0</td>\n",
       "      <td>0</td>\n",
       "      <td>0</td>\n",
       "      <td>0</td>\n",
       "      <td>0</td>\n",
       "      <td>0</td>\n",
       "      <td>0</td>\n",
       "      <td>0</td>\n",
       "    </tr>\n",
       "    <tr>\n",
       "      <th>43455</th>\n",
       "      <td>0</td>\n",
       "      <td>0</td>\n",
       "      <td>1</td>\n",
       "      <td>0</td>\n",
       "      <td>0</td>\n",
       "      <td>0</td>\n",
       "      <td>0</td>\n",
       "      <td>0</td>\n",
       "      <td>0</td>\n",
       "      <td>0</td>\n",
       "      <td>...</td>\n",
       "      <td>0</td>\n",
       "      <td>0</td>\n",
       "      <td>0</td>\n",
       "      <td>0</td>\n",
       "      <td>0</td>\n",
       "      <td>0</td>\n",
       "      <td>0</td>\n",
       "      <td>0</td>\n",
       "      <td>0</td>\n",
       "      <td>0</td>\n",
       "    </tr>\n",
       "  </tbody>\n",
       "</table>\n",
       "<p>10 rows × 75 columns</p>\n",
       "</div>"
      ],
      "text/plain": [
       "        1  10  11  12  2  3  5  6  7  8  ...  RDU  SAN  SEA  SFO  SJC  SLC  \\\n",
       "4591    0   0   1   0  0  0  0  0  0  0  ...    0    0    0    0    0    0   \n",
       "83503   0   0   0   0  0  0  0  0  0  1  ...    0    0    0    0    0    0   \n",
       "23093   0   0   1   0  0  0  0  0  0  0  ...    0    0    0    0    0    0   \n",
       "142862  0   0   1   0  0  0  0  0  0  0  ...    0    0    0    0    0    0   \n",
       "67246   0   0   1   0  0  0  0  0  0  0  ...    0    0    0    0    0    0   \n",
       "60478   0   0   0   0  0  0  0  0  0  1  ...    0    0    0    0    0    0   \n",
       "33527   0   0   0   0  0  0  0  0  1  0  ...    0    0    0    0    0    0   \n",
       "24760   0   0   0   0  0  1  0  0  0  0  ...    0    0    0    0    0    0   \n",
       "52286   0   1   0   0  0  0  0  0  0  0  ...    0    0    0    0    0    0   \n",
       "43455   0   0   1   0  0  0  0  0  0  0  ...    0    0    0    0    0    0   \n",
       "\n",
       "        SMF  SNA  STL  TPA  \n",
       "4591      0    0    0    0  \n",
       "83503     0    0    0    0  \n",
       "23093     0    0    0    0  \n",
       "142862    0    0    0    0  \n",
       "67246     0    0    0    0  \n",
       "60478     0    0    0    0  \n",
       "33527     0    0    0    0  \n",
       "24760     0    0    0    0  \n",
       "52286     0    0    0    0  \n",
       "43455     0    0    0    0  \n",
       "\n",
       "[10 rows x 75 columns]"
      ]
     },
     "execution_count": 16,
     "metadata": {},
     "output_type": "execute_result"
    }
   ],
   "source": [
    "# Review the X variable DataFrame\n",
    "X.head().append(X.tail())"
   ]
  },
  {
   "cell_type": "code",
   "execution_count": 17,
   "id": "e0501a8b-675c-42c1-8bd7-1ff5b02787c2",
   "metadata": {},
   "outputs": [],
   "source": [
    "# Import the train_test_learn module\n",
    "from sklearn.model_selection import train_test_split\n",
    "\n",
    "# Split the data using train_test_split\n",
    "# Assign a random_state of 1 to the function\n",
    "X_train, X_test, y_train, y_test = train_test_split(X, y, random_state=1)"
   ]
  },
  {
   "cell_type": "code",
   "execution_count": 18,
   "id": "21853247-eff9-4498-aefc-dee966aec97a",
   "metadata": {},
   "outputs": [],
   "source": [
    "# Import the LogisticRegression module from SKLearn\n",
    "from sklearn.linear_model import LogisticRegression\n",
    "\n",
    "# Instantiate the Logistic Regression model\n",
    "# Assign a random_state parameter of 1 to the model\n",
    "logistic_regression_model = LogisticRegression(random_state=1, penalty = 'l2')\n",
    "\n",
    "# Fit the model using training data\n",
    "lr_model = logistic_regression_model.fit(X_train, y_train)"
   ]
  },
  {
   "cell_type": "code",
   "execution_count": 19,
   "id": "a90b252f-d8dd-4c78-b30d-8448a74755bb",
   "metadata": {},
   "outputs": [],
   "source": [
    "# Make a prediction using the testing data\n",
    "testing_predictions = logistic_regression_model.predict(X_test)"
   ]
  },
  {
   "cell_type": "code",
   "execution_count": 20,
   "id": "1e656a8b-0e26-457a-8dbb-27375e35d091",
   "metadata": {},
   "outputs": [
    {
     "data": {
      "text/plain": [
       "0.5003732536184096"
      ]
     },
     "execution_count": 20,
     "metadata": {},
     "output_type": "execute_result"
    }
   ],
   "source": [
    "# Print the balanced_accuracy score of the model\n",
    "acc_score = balanced_accuracy_score(y_test, testing_predictions)\n",
    "acc_score"
   ]
  },
  {
   "cell_type": "code",
   "execution_count": 21,
   "id": "bb2ccf4a-cebb-43ad-a5ee-2f2df98346cf",
   "metadata": {},
   "outputs": [],
   "source": [
    "# Generate a confusion matrix for the model\n",
    "cm = confusion_matrix(y_test, testing_predictions)\n",
    "cm_df = pd.DataFrame(\n",
    "    cm, index=[\"Actual On Time\", \"Actual Delay\"], columns=[\"Predicted On Time\", \"Predicted Delay\"]\n",
    ")"
   ]
  },
  {
   "cell_type": "code",
   "execution_count": 22,
   "id": "5cd04ffe-0d63-49db-81a1-a1c46574a9dd",
   "metadata": {},
   "outputs": [
    {
     "name": "stdout",
     "output_type": "stream",
     "text": [
      "Confusion Matrix\n"
     ]
    },
    {
     "data": {
      "text/html": [
       "<div>\n",
       "<style scoped>\n",
       "    .dataframe tbody tr th:only-of-type {\n",
       "        vertical-align: middle;\n",
       "    }\n",
       "\n",
       "    .dataframe tbody tr th {\n",
       "        vertical-align: top;\n",
       "    }\n",
       "\n",
       "    .dataframe thead th {\n",
       "        text-align: right;\n",
       "    }\n",
       "</style>\n",
       "<table border=\"1\" class=\"dataframe\">\n",
       "  <thead>\n",
       "    <tr style=\"text-align: right;\">\n",
       "      <th></th>\n",
       "      <th>Predicted On Time</th>\n",
       "      <th>Predicted Delay</th>\n",
       "    </tr>\n",
       "  </thead>\n",
       "  <tbody>\n",
       "    <tr>\n",
       "      <th>Actual On Time</th>\n",
       "      <td>21819</td>\n",
       "      <td>4</td>\n",
       "    </tr>\n",
       "    <tr>\n",
       "      <th>Actual Delay</th>\n",
       "      <td>6447</td>\n",
       "      <td>6</td>\n",
       "    </tr>\n",
       "  </tbody>\n",
       "</table>\n",
       "</div>"
      ],
      "text/plain": [
       "                Predicted On Time  Predicted Delay\n",
       "Actual On Time              21819                4\n",
       "Actual Delay                 6447                6"
      ]
     },
     "metadata": {},
     "output_type": "display_data"
    },
    {
     "name": "stdout",
     "output_type": "stream",
     "text": [
      "Accuracy Score : 0.5003732536184096\n",
      "Classification Report\n",
      "              precision    recall  f1-score   support\n",
      "\n",
      "           0       0.77      1.00      0.87     21823\n",
      "           1       0.60      0.00      0.00      6453\n",
      "\n",
      "    accuracy                           0.77     28276\n",
      "   macro avg       0.69      0.50      0.44     28276\n",
      "weighted avg       0.73      0.77      0.67     28276\n",
      "\n"
     ]
    }
   ],
   "source": [
    "# Print the classification report for the model\n",
    "print(\"Confusion Matrix\")\n",
    "display(cm_df)\n",
    "print(f\"Accuracy Score : {acc_score}\")\n",
    "print(\"Classification Report\")\n",
    "print(classification_report(y_test, testing_predictions))"
   ]
  },
  {
   "cell_type": "code",
   "execution_count": 23,
   "id": "8fc74cb8-4e3c-49e4-99b1-85f130300b36",
   "metadata": {},
   "outputs": [
    {
     "data": {
      "image/png": "[encoded data removed]",
      "text/plain": [
       "<Figure size 640x480 with 2 Axes>"
      ]
     },
     "metadata": {},
     "output_type": "display_data"
    }
   ],
   "source": [
    "#Alternate Confusion Matrix display\n",
    "confusion_matrix_alternate = metrics.confusion_matrix(y_test, testing_predictions)\n",
    "\n",
    "cm_display = metrics.ConfusionMatrixDisplay(confusion_matrix = confusion_matrix_alternate, display_labels = [True, False])\n",
    "\n",
    "cm_display.plot()\n",
    "plt.show() "
   ]
  },
  {
   "cell_type": "markdown",
   "id": "9148f7ea-7528-4e19-b885-1a481f3aa8e4",
   "metadata": {},
   "source": [
    "## Logistical Regression: Random OverSampler"
   ]
  },
  {
   "cell_type": "code",
   "execution_count": 24,
   "id": "c6d0d3fb-6365-46f6-a6fb-8f562f542db9",
   "metadata": {},
   "outputs": [],
   "source": [
    "# Using the RandomOverSampler module to resample the data \n",
    "\n",
    "# Instantiate the random oversampler model\n",
    "# # Assign a random_state parameter of 1 to the model\n",
    "ros = RandomOverSampler(random_state=1)\n",
    "\n",
    "# Fit the original training data to the random_oversampler model\n",
    "X_res, y_res = ros.fit_resample(X_train, y_train)"
   ]
  },
  {
   "cell_type": "code",
   "execution_count": 25,
   "id": "967bfd15-2194-465b-87ba-8956de68fc2b",
   "metadata": {},
   "outputs": [
    {
     "data": {
      "text/plain": [
       "1    65362\n",
       "0    65362\n",
       "Name: DEP_DEL15, dtype: int64"
      ]
     },
     "execution_count": 25,
     "metadata": {},
     "output_type": "execute_result"
    }
   ],
   "source": [
    "# Count the distinct values of the resampled labels data\n",
    "y_res.value_counts()"
   ]
  },
  {
   "cell_type": "code",
   "execution_count": 26,
   "id": "7113e228-2a80-449b-bcb3-b0b51d9cff35",
   "metadata": {},
   "outputs": [],
   "source": [
    "# Instantiate the Logistic Regression model\n",
    "# Assign a random_state parameter of 1 to the model\n",
    "logistic_regression_model_resampled = LogisticRegression(random_state=1)\n",
    "\n",
    "# Fit the model using the resampled training data\n",
    "resampled_lr_model = logistic_regression_model_resampled.fit(X_res, y_res)\n",
    "\n",
    "# Make a prediction using the testing data\n",
    "retesting_predictions = logistic_regression_model_resampled.predict(X_res)"
   ]
  },
  {
   "cell_type": "code",
   "execution_count": 27,
   "id": "c012edc2-b8de-4313-b05e-f355bd67314c",
   "metadata": {},
   "outputs": [
    {
     "data": {
      "text/plain": [
       "0.5900676233897372"
      ]
     },
     "execution_count": 27,
     "metadata": {},
     "output_type": "execute_result"
    }
   ],
   "source": [
    "# Print the balanced_accuracy score of the model \n",
    "acc_rescore = balanced_accuracy_score(y_res, retesting_predictions)\n",
    "acc_rescore"
   ]
  },
  {
   "cell_type": "code",
   "execution_count": 28,
   "id": "036c42a1-9675-4ca5-bbce-f80714cabfd7",
   "metadata": {},
   "outputs": [],
   "source": [
    "# Generate a confusion matrix for the model\n",
    "cm2 = confusion_matrix(y_res, retesting_predictions)\n",
    "cm2_df = pd.DataFrame(\n",
    "    cm2, index=[\"Actual On Time (OS)\", \"Actual Delay (OS)\"], columns=[\"Predicted On Time (OS)\", \"Predicted Delay (OS)\"]\n",
    ")"
   ]
  },
  {
   "cell_type": "code",
   "execution_count": 29,
   "id": "73061839-e5bc-48ae-a106-ec08d026869d",
   "metadata": {},
   "outputs": [
    {
     "name": "stdout",
     "output_type": "stream",
     "text": [
      "Resampled Confusion Matrix\n"
     ]
    },
    {
     "data": {
      "text/html": [
       "<div>\n",
       "<style scoped>\n",
       "    .dataframe tbody tr th:only-of-type {\n",
       "        vertical-align: middle;\n",
       "    }\n",
       "\n",
       "    .dataframe tbody tr th {\n",
       "        vertical-align: top;\n",
       "    }\n",
       "\n",
       "    .dataframe thead th {\n",
       "        text-align: right;\n",
       "    }\n",
       "</style>\n",
       "<table border=\"1\" class=\"dataframe\">\n",
       "  <thead>\n",
       "    <tr style=\"text-align: right;\">\n",
       "      <th></th>\n",
       "      <th>Predicted On Time (OS)</th>\n",
       "      <th>Predicted Delay (OS)</th>\n",
       "    </tr>\n",
       "  </thead>\n",
       "  <tbody>\n",
       "    <tr>\n",
       "      <th>Actual On Time (OS)</th>\n",
       "      <td>38273</td>\n",
       "      <td>27089</td>\n",
       "    </tr>\n",
       "    <tr>\n",
       "      <th>Actual Delay (OS)</th>\n",
       "      <td>26499</td>\n",
       "      <td>38863</td>\n",
       "    </tr>\n",
       "  </tbody>\n",
       "</table>\n",
       "</div>"
      ],
      "text/plain": [
       "                     Predicted On Time (OS)  Predicted Delay (OS)\n",
       "Actual On Time (OS)                   38273                 27089\n",
       "Actual Delay (OS)                     26499                 38863"
      ]
     },
     "metadata": {},
     "output_type": "display_data"
    },
    {
     "name": "stdout",
     "output_type": "stream",
     "text": [
      "Accuracy Score : 0.5900676233897372\n",
      "Classification Report\n",
      "              precision    recall  f1-score   support\n",
      "\n",
      "           0       0.59      0.59      0.59     65362\n",
      "           1       0.59      0.59      0.59     65362\n",
      "\n",
      "    accuracy                           0.59    130724\n",
      "   macro avg       0.59      0.59      0.59    130724\n",
      "weighted avg       0.59      0.59      0.59    130724\n",
      "\n"
     ]
    }
   ],
   "source": [
    "# Print the classification report for the model\n",
    "print(\"Resampled Confusion Matrix\")\n",
    "display(cm2_df)\n",
    "print(f\"Accuracy Score : {acc_rescore}\")\n",
    "print(\"Classification Report\")\n",
    "print(classification_report(y_res, retesting_predictions))"
   ]
  },
  {
   "cell_type": "code",
   "execution_count": 30,
   "id": "a8732989-56ab-45a7-bcb5-9c022f66d690",
   "metadata": {},
   "outputs": [
    {
     "data": {
      "image/png": "[encoded data removed]",
      "text/plain": [
       "<Figure size 640x480 with 2 Axes>"
      ]
     },
     "metadata": {},
     "output_type": "display_data"
    }
   ],
   "source": [
    "#Alternate Confusion Matrix display\n",
    "confusion_matrix_oversample = metrics.confusion_matrix(y_res, retesting_predictions)\n",
    "\n",
    "cm_display = metrics.ConfusionMatrixDisplay(confusion_matrix = confusion_matrix_oversample, display_labels = [True, False])\n",
    "\n",
    "cm_display.plot()\n",
    "plt.show() "
   ]
  },
  {
   "cell_type": "markdown",
   "id": "e17a8ca8-b519-4563-855b-31da355533b3",
   "metadata": {},
   "source": [
    "## Random Forest"
   ]
  },
  {
   "cell_type": "code",
   "execution_count": 31,
   "id": "acfc7e95-330b-4b0c-8d0f-59173f9332d9",
   "metadata": {},
   "outputs": [
    {
     "data": {
      "text/html": [
       "<div>\n",
       "<style scoped>\n",
       "    .dataframe tbody tr th:only-of-type {\n",
       "        vertical-align: middle;\n",
       "    }\n",
       "\n",
       "    .dataframe tbody tr th {\n",
       "        vertical-align: top;\n",
       "    }\n",
       "\n",
       "    .dataframe thead th {\n",
       "        text-align: right;\n",
       "    }\n",
       "</style>\n",
       "<table border=\"1\" class=\"dataframe\">\n",
       "  <thead>\n",
       "    <tr style=\"text-align: right;\">\n",
       "      <th></th>\n",
       "      <th>DEP_DEL15</th>\n",
       "      <th>1</th>\n",
       "      <th>10</th>\n",
       "      <th>11</th>\n",
       "      <th>12</th>\n",
       "      <th>2</th>\n",
       "      <th>3</th>\n",
       "      <th>5</th>\n",
       "      <th>6</th>\n",
       "      <th>7</th>\n",
       "      <th>...</th>\n",
       "      <th>RDU</th>\n",
       "      <th>SAN</th>\n",
       "      <th>SEA</th>\n",
       "      <th>SFO</th>\n",
       "      <th>SJC</th>\n",
       "      <th>SLC</th>\n",
       "      <th>SMF</th>\n",
       "      <th>SNA</th>\n",
       "      <th>STL</th>\n",
       "      <th>TPA</th>\n",
       "    </tr>\n",
       "  </thead>\n",
       "  <tbody>\n",
       "    <tr>\n",
       "      <th>133955</th>\n",
       "      <td>0</td>\n",
       "      <td>0</td>\n",
       "      <td>0</td>\n",
       "      <td>0</td>\n",
       "      <td>0</td>\n",
       "      <td>0</td>\n",
       "      <td>0</td>\n",
       "      <td>0</td>\n",
       "      <td>0</td>\n",
       "      <td>0</td>\n",
       "      <td>...</td>\n",
       "      <td>0</td>\n",
       "      <td>0</td>\n",
       "      <td>0</td>\n",
       "      <td>0</td>\n",
       "      <td>0</td>\n",
       "      <td>0</td>\n",
       "      <td>0</td>\n",
       "      <td>1</td>\n",
       "      <td>0</td>\n",
       "      <td>0</td>\n",
       "    </tr>\n",
       "    <tr>\n",
       "      <th>129634</th>\n",
       "      <td>0</td>\n",
       "      <td>0</td>\n",
       "      <td>0</td>\n",
       "      <td>0</td>\n",
       "      <td>0</td>\n",
       "      <td>0</td>\n",
       "      <td>0</td>\n",
       "      <td>0</td>\n",
       "      <td>0</td>\n",
       "      <td>0</td>\n",
       "      <td>...</td>\n",
       "      <td>0</td>\n",
       "      <td>0</td>\n",
       "      <td>0</td>\n",
       "      <td>0</td>\n",
       "      <td>0</td>\n",
       "      <td>0</td>\n",
       "      <td>0</td>\n",
       "      <td>0</td>\n",
       "      <td>0</td>\n",
       "      <td>0</td>\n",
       "    </tr>\n",
       "    <tr>\n",
       "      <th>63467</th>\n",
       "      <td>0</td>\n",
       "      <td>0</td>\n",
       "      <td>0</td>\n",
       "      <td>0</td>\n",
       "      <td>0</td>\n",
       "      <td>0</td>\n",
       "      <td>0</td>\n",
       "      <td>0</td>\n",
       "      <td>0</td>\n",
       "      <td>0</td>\n",
       "      <td>...</td>\n",
       "      <td>0</td>\n",
       "      <td>0</td>\n",
       "      <td>0</td>\n",
       "      <td>0</td>\n",
       "      <td>0</td>\n",
       "      <td>0</td>\n",
       "      <td>0</td>\n",
       "      <td>0</td>\n",
       "      <td>0</td>\n",
       "      <td>0</td>\n",
       "    </tr>\n",
       "    <tr>\n",
       "      <th>89522</th>\n",
       "      <td>0</td>\n",
       "      <td>0</td>\n",
       "      <td>0</td>\n",
       "      <td>0</td>\n",
       "      <td>0</td>\n",
       "      <td>0</td>\n",
       "      <td>0</td>\n",
       "      <td>0</td>\n",
       "      <td>0</td>\n",
       "      <td>0</td>\n",
       "      <td>...</td>\n",
       "      <td>0</td>\n",
       "      <td>0</td>\n",
       "      <td>0</td>\n",
       "      <td>0</td>\n",
       "      <td>0</td>\n",
       "      <td>0</td>\n",
       "      <td>0</td>\n",
       "      <td>0</td>\n",
       "      <td>0</td>\n",
       "      <td>0</td>\n",
       "    </tr>\n",
       "    <tr>\n",
       "      <th>88517</th>\n",
       "      <td>0</td>\n",
       "      <td>1</td>\n",
       "      <td>0</td>\n",
       "      <td>0</td>\n",
       "      <td>0</td>\n",
       "      <td>0</td>\n",
       "      <td>0</td>\n",
       "      <td>0</td>\n",
       "      <td>0</td>\n",
       "      <td>0</td>\n",
       "      <td>...</td>\n",
       "      <td>0</td>\n",
       "      <td>0</td>\n",
       "      <td>0</td>\n",
       "      <td>0</td>\n",
       "      <td>0</td>\n",
       "      <td>0</td>\n",
       "      <td>0</td>\n",
       "      <td>0</td>\n",
       "      <td>0</td>\n",
       "      <td>0</td>\n",
       "    </tr>\n",
       "  </tbody>\n",
       "</table>\n",
       "<p>5 rows × 76 columns</p>\n",
       "</div>"
      ],
      "text/plain": [
       "       DEP_DEL15  1  10  11  12  2  3  5  6  7  ...  RDU  SAN  SEA  SFO  SJC  \\\n",
       "133955         0  0   0   0   0  0  0  0  0  0  ...    0    0    0    0    0   \n",
       "129634         0  0   0   0   0  0  0  0  0  0  ...    0    0    0    0    0   \n",
       "63467          0  0   0   0   0  0  0  0  0  0  ...    0    0    0    0    0   \n",
       "89522          0  0   0   0   0  0  0  0  0  0  ...    0    0    0    0    0   \n",
       "88517          0  1   0   0   0  0  0  0  0  0  ...    0    0    0    0    0   \n",
       "\n",
       "        SLC  SMF  SNA  STL  TPA  \n",
       "133955    0    0    1    0    0  \n",
       "129634    0    0    0    0    0  \n",
       "63467     0    0    0    0    0  \n",
       "89522     0    0    0    0    0  \n",
       "88517     0    0    0    0    0  \n",
       "\n",
       "[5 rows x 76 columns]"
      ]
     },
     "execution_count": 31,
     "metadata": {},
     "output_type": "execute_result"
    }
   ],
   "source": [
    "# Loading data\n",
    "forest_df = tranformed_logreg_df.sample(frac = 1)\n",
    "forest_df.head()"
   ]
  },
  {
   "cell_type": "code",
   "execution_count": 32,
   "id": "9234c69c-2fdd-435f-9053-768e67207ba8",
   "metadata": {},
   "outputs": [
    {
     "data": {
      "text/html": [
       "<div>\n",
       "<style scoped>\n",
       "    .dataframe tbody tr th:only-of-type {\n",
       "        vertical-align: middle;\n",
       "    }\n",
       "\n",
       "    .dataframe tbody tr th {\n",
       "        vertical-align: top;\n",
       "    }\n",
       "\n",
       "    .dataframe thead th {\n",
       "        text-align: right;\n",
       "    }\n",
       "</style>\n",
       "<table border=\"1\" class=\"dataframe\">\n",
       "  <thead>\n",
       "    <tr style=\"text-align: right;\">\n",
       "      <th></th>\n",
       "      <th>1</th>\n",
       "      <th>10</th>\n",
       "      <th>11</th>\n",
       "      <th>12</th>\n",
       "      <th>2</th>\n",
       "      <th>3</th>\n",
       "      <th>5</th>\n",
       "      <th>6</th>\n",
       "      <th>7</th>\n",
       "      <th>8</th>\n",
       "      <th>...</th>\n",
       "      <th>RDU</th>\n",
       "      <th>SAN</th>\n",
       "      <th>SEA</th>\n",
       "      <th>SFO</th>\n",
       "      <th>SJC</th>\n",
       "      <th>SLC</th>\n",
       "      <th>SMF</th>\n",
       "      <th>SNA</th>\n",
       "      <th>STL</th>\n",
       "      <th>TPA</th>\n",
       "    </tr>\n",
       "  </thead>\n",
       "  <tbody>\n",
       "    <tr>\n",
       "      <th>133955</th>\n",
       "      <td>0</td>\n",
       "      <td>0</td>\n",
       "      <td>0</td>\n",
       "      <td>0</td>\n",
       "      <td>0</td>\n",
       "      <td>0</td>\n",
       "      <td>0</td>\n",
       "      <td>0</td>\n",
       "      <td>0</td>\n",
       "      <td>0</td>\n",
       "      <td>...</td>\n",
       "      <td>0</td>\n",
       "      <td>0</td>\n",
       "      <td>0</td>\n",
       "      <td>0</td>\n",
       "      <td>0</td>\n",
       "      <td>0</td>\n",
       "      <td>0</td>\n",
       "      <td>1</td>\n",
       "      <td>0</td>\n",
       "      <td>0</td>\n",
       "    </tr>\n",
       "    <tr>\n",
       "      <th>129634</th>\n",
       "      <td>0</td>\n",
       "      <td>0</td>\n",
       "      <td>0</td>\n",
       "      <td>0</td>\n",
       "      <td>0</td>\n",
       "      <td>0</td>\n",
       "      <td>0</td>\n",
       "      <td>0</td>\n",
       "      <td>0</td>\n",
       "      <td>0</td>\n",
       "      <td>...</td>\n",
       "      <td>0</td>\n",
       "      <td>0</td>\n",
       "      <td>0</td>\n",
       "      <td>0</td>\n",
       "      <td>0</td>\n",
       "      <td>0</td>\n",
       "      <td>0</td>\n",
       "      <td>0</td>\n",
       "      <td>0</td>\n",
       "      <td>0</td>\n",
       "    </tr>\n",
       "    <tr>\n",
       "      <th>63467</th>\n",
       "      <td>0</td>\n",
       "      <td>0</td>\n",
       "      <td>0</td>\n",
       "      <td>0</td>\n",
       "      <td>0</td>\n",
       "      <td>0</td>\n",
       "      <td>0</td>\n",
       "      <td>0</td>\n",
       "      <td>0</td>\n",
       "      <td>0</td>\n",
       "      <td>...</td>\n",
       "      <td>0</td>\n",
       "      <td>0</td>\n",
       "      <td>0</td>\n",
       "      <td>0</td>\n",
       "      <td>0</td>\n",
       "      <td>0</td>\n",
       "      <td>0</td>\n",
       "      <td>0</td>\n",
       "      <td>0</td>\n",
       "      <td>0</td>\n",
       "    </tr>\n",
       "    <tr>\n",
       "      <th>89522</th>\n",
       "      <td>0</td>\n",
       "      <td>0</td>\n",
       "      <td>0</td>\n",
       "      <td>0</td>\n",
       "      <td>0</td>\n",
       "      <td>0</td>\n",
       "      <td>0</td>\n",
       "      <td>0</td>\n",
       "      <td>0</td>\n",
       "      <td>0</td>\n",
       "      <td>...</td>\n",
       "      <td>0</td>\n",
       "      <td>0</td>\n",
       "      <td>0</td>\n",
       "      <td>0</td>\n",
       "      <td>0</td>\n",
       "      <td>0</td>\n",
       "      <td>0</td>\n",
       "      <td>0</td>\n",
       "      <td>0</td>\n",
       "      <td>0</td>\n",
       "    </tr>\n",
       "    <tr>\n",
       "      <th>88517</th>\n",
       "      <td>1</td>\n",
       "      <td>0</td>\n",
       "      <td>0</td>\n",
       "      <td>0</td>\n",
       "      <td>0</td>\n",
       "      <td>0</td>\n",
       "      <td>0</td>\n",
       "      <td>0</td>\n",
       "      <td>0</td>\n",
       "      <td>0</td>\n",
       "      <td>...</td>\n",
       "      <td>0</td>\n",
       "      <td>0</td>\n",
       "      <td>0</td>\n",
       "      <td>0</td>\n",
       "      <td>0</td>\n",
       "      <td>0</td>\n",
       "      <td>0</td>\n",
       "      <td>0</td>\n",
       "      <td>0</td>\n",
       "      <td>0</td>\n",
       "    </tr>\n",
       "  </tbody>\n",
       "</table>\n",
       "<p>5 rows × 75 columns</p>\n",
       "</div>"
      ],
      "text/plain": [
       "        1  10  11  12  2  3  5  6  7  8  ...  RDU  SAN  SEA  SFO  SJC  SLC  \\\n",
       "133955  0   0   0   0  0  0  0  0  0  0  ...    0    0    0    0    0    0   \n",
       "129634  0   0   0   0  0  0  0  0  0  0  ...    0    0    0    0    0    0   \n",
       "63467   0   0   0   0  0  0  0  0  0  0  ...    0    0    0    0    0    0   \n",
       "89522   0   0   0   0  0  0  0  0  0  0  ...    0    0    0    0    0    0   \n",
       "88517   1   0   0   0  0  0  0  0  0  0  ...    0    0    0    0    0    0   \n",
       "\n",
       "        SMF  SNA  STL  TPA  \n",
       "133955    0    1    0    0  \n",
       "129634    0    0    0    0  \n",
       "63467     0    0    0    0  \n",
       "89522     0    0    0    0  \n",
       "88517     0    0    0    0  \n",
       "\n",
       "[5 rows x 75 columns]"
      ]
     },
     "execution_count": 32,
     "metadata": {},
     "output_type": "execute_result"
    }
   ],
   "source": [
    "# Define features set\n",
    "X = forest_df.copy()\n",
    "X.drop(\"DEP_DEL15\", axis=1, inplace=True)\n",
    "X.head()"
   ]
  },
  {
   "cell_type": "code",
   "execution_count": 33,
   "id": "78f569ac-d91a-4a1a-84fb-79cc07daffe5",
   "metadata": {},
   "outputs": [
    {
     "data": {
      "text/plain": [
       "array(['0', '0', '0', '0', '0'], dtype=object)"
      ]
     },
     "execution_count": 33,
     "metadata": {},
     "output_type": "execute_result"
    }
   ],
   "source": [
    "# Define target vector\n",
    "y = forest_df[\"DEP_DEL15\"].ravel()\n",
    "y[:5]"
   ]
  },
  {
   "cell_type": "code",
   "execution_count": 34,
   "id": "55c19744-e6b5-4dbf-879a-e0b70a473a6c",
   "metadata": {},
   "outputs": [],
   "source": [
    "# Splitting into Train and Test sets\n",
    "X_train, X_test, y_train, y_test = train_test_split(X, y, random_state=78)"
   ]
  },
  {
   "cell_type": "code",
   "execution_count": 35,
   "id": "103b1248-e7ef-433a-a99a-b8f257973591",
   "metadata": {},
   "outputs": [],
   "source": [
    "# Create a random forest classifier\n",
    "rf_model = RandomForestClassifier(n_estimators=500, random_state=78)"
   ]
  },
  {
   "cell_type": "code",
   "execution_count": 36,
   "id": "4bfe6f4b-7564-40c7-8e15-0a685ddfa33b",
   "metadata": {},
   "outputs": [
    {
     "data": {
      "text/html": [
       "<style>#sk-container-id-1 {color: black;}#sk-container-id-1 pre{padding: 0;}#sk-container-id-1 div.sk-toggleable {background-color: white;}#sk-container-id-1 label.sk-toggleable__label {cursor: pointer;display: block;width: 100%;margin-bottom: 0;padding: 0.3em;box-sizing: border-box;text-align: center;}#sk-container-id-1 label.sk-toggleable__label-arrow:before {content: \"▸\";float: left;margin-right: 0.25em;color: #696969;}#sk-container-id-1 label.sk-toggleable__label-arrow:hover:before {color: black;}#sk-container-id-1 div.sk-estimator:hover label.sk-toggleable__label-arrow:before {color: black;}#sk-container-id-1 div.sk-toggleable__content {max-height: 0;max-width: 0;overflow: hidden;text-align: left;background-color: #f0f8ff;}#sk-container-id-1 div.sk-toggleable__content pre {margin: 0.2em;color: black;border-radius: 0.25em;background-color: #f0f8ff;}#sk-container-id-1 input.sk-toggleable__control:checked~div.sk-toggleable__content {max-height: 200px;max-width: 100%;overflow: auto;}#sk-container-id-1 input.sk-toggleable__control:checked~label.sk-toggleable__label-arrow:before {content: \"▾\";}#sk-container-id-1 div.sk-estimator input.sk-toggleable__control:checked~label.sk-toggleable__label {background-color: #d4ebff;}#sk-container-id-1 div.sk-label input.sk-toggleable__control:checked~label.sk-toggleable__label {background-color: #d4ebff;}#sk-container-id-1 input.sk-hidden--visually {border: 0;clip: rect(1px 1px 1px 1px);clip: rect(1px, 1px, 1px, 1px);height: 1px;margin: -1px;overflow: hidden;padding: 0;position: absolute;width: 1px;}#sk-container-id-1 div.sk-estimator {font-family: monospace;background-color: #f0f8ff;border: 1px dotted black;border-radius: 0.25em;box-sizing: border-box;margin-bottom: 0.5em;}#sk-container-id-1 div.sk-estimator:hover {background-color: #d4ebff;}#sk-container-id-1 div.sk-parallel-item::after {content: \"\";width: 100%;border-bottom: 1px solid gray;flex-grow: 1;}#sk-container-id-1 div.sk-label:hover label.sk-toggleable__label {background-color: #d4ebff;}#sk-container-id-1 div.sk-serial::before {content: \"\";position: absolute;border-left: 1px solid gray;box-sizing: border-box;top: 0;bottom: 0;left: 50%;z-index: 0;}#sk-container-id-1 div.sk-serial {display: flex;flex-direction: column;align-items: center;background-color: white;padding-right: 0.2em;padding-left: 0.2em;position: relative;}#sk-container-id-1 div.sk-item {position: relative;z-index: 1;}#sk-container-id-1 div.sk-parallel {display: flex;align-items: stretch;justify-content: center;background-color: white;position: relative;}#sk-container-id-1 div.sk-item::before, #sk-container-id-1 div.sk-parallel-item::before {content: \"\";position: absolute;border-left: 1px solid gray;box-sizing: border-box;top: 0;bottom: 0;left: 50%;z-index: -1;}#sk-container-id-1 div.sk-parallel-item {display: flex;flex-direction: column;z-index: 1;position: relative;background-color: white;}#sk-container-id-1 div.sk-parallel-item:first-child::after {align-self: flex-end;width: 50%;}#sk-container-id-1 div.sk-parallel-item:last-child::after {align-self: flex-start;width: 50%;}#sk-container-id-1 div.sk-parallel-item:only-child::after {width: 0;}#sk-container-id-1 div.sk-dashed-wrapped {border: 1px dashed gray;margin: 0 0.4em 0.5em 0.4em;box-sizing: border-box;padding-bottom: 0.4em;background-color: white;}#sk-container-id-1 div.sk-label label {font-family: monospace;font-weight: bold;display: inline-block;line-height: 1.2em;}#sk-container-id-1 div.sk-label-container {text-align: center;}#sk-container-id-1 div.sk-container {/* jupyter's `normalize.less` sets `[hidden] { display: none; }` but bootstrap.min.css set `[hidden] { display: none !important; }` so we also need the `!important` here to be able to override the default hidden behavior on the sphinx rendered scikit-learn.org. See: https://github.com/scikit-learn/scikit-learn/issues/21755 */display: inline-block !important;position: relative;}#sk-container-id-1 div.sk-text-repr-fallback {display: none;}</style><div id=\"sk-container-id-1\" class=\"sk-top-container\"><div class=\"sk-text-repr-fallback\"><pre>RandomForestClassifier(n_estimators=500, random_state=78)</pre><b>In a Jupyter environment, please rerun this cell to show the HTML representation or trust the notebook. <br />On GitHub, the HTML representation is unable to render, please try loading this page with nbviewer.org.</b></div><div class=\"sk-container\" hidden><div class=\"sk-item\"><div class=\"sk-estimator sk-toggleable\"><input class=\"sk-toggleable__control sk-hidden--visually\" id=\"sk-estimator-id-1\" type=\"checkbox\" checked><label for=\"sk-estimator-id-1\" class=\"sk-toggleable__label sk-toggleable__label-arrow\">RandomForestClassifier</label><div class=\"sk-toggleable__content\"><pre>RandomForestClassifier(n_estimators=500, random_state=78)</pre></div></div></div></div></div>"
      ],
      "text/plain": [
       "RandomForestClassifier(n_estimators=500, random_state=78)"
      ]
     },
     "execution_count": 36,
     "metadata": {},
     "output_type": "execute_result"
    }
   ],
   "source": [
    "# Fit the model using training data\n",
    "rf_model.fit(X_train, y_train)"
   ]
  },
  {
   "cell_type": "code",
   "execution_count": 37,
   "id": "4e864b00-ccc6-4965-ac49-c4b63b26faf8",
   "metadata": {},
   "outputs": [],
   "source": [
    "# Making predictions using the testing data\n",
    "rf_predictions = rf_model.predict(X_test)"
   ]
  },
  {
   "cell_type": "code",
   "execution_count": 38,
   "id": "e238a84d-6bd5-49fc-bbd1-38dc8c9e0ea2",
   "metadata": {},
   "outputs": [],
   "source": [
    "# Calculating the confusion matrix\n",
    "rf_cm = confusion_matrix(y_test, rf_predictions)\n",
    "rf_cm_df = pd.DataFrame(\n",
    "    rf_cm, index=[\"Actual On Time\", \"Actual Delay\"], columns=[\"Predicted On Time\", \"Predicted Delay\"]\n",
    ")\n",
    "\n",
    "# Calculating the accuracy score\n",
    "rf_acc_score = accuracy_score(y_test, rf_predictions)"
   ]
  },
  {
   "cell_type": "code",
   "execution_count": 39,
   "id": "9eb96052-bdaf-4964-8d20-c59e5789cac4",
   "metadata": {},
   "outputs": [
    {
     "name": "stdout",
     "output_type": "stream",
     "text": [
      "Confusion Matrix\n"
     ]
    },
    {
     "data": {
      "text/html": [
       "<div>\n",
       "<style scoped>\n",
       "    .dataframe tbody tr th:only-of-type {\n",
       "        vertical-align: middle;\n",
       "    }\n",
       "\n",
       "    .dataframe tbody tr th {\n",
       "        vertical-align: top;\n",
       "    }\n",
       "\n",
       "    .dataframe thead th {\n",
       "        text-align: right;\n",
       "    }\n",
       "</style>\n",
       "<table border=\"1\" class=\"dataframe\">\n",
       "  <thead>\n",
       "    <tr style=\"text-align: right;\">\n",
       "      <th></th>\n",
       "      <th>Predicted On Time</th>\n",
       "      <th>Predicted Delay</th>\n",
       "    </tr>\n",
       "  </thead>\n",
       "  <tbody>\n",
       "    <tr>\n",
       "      <th>Actual On Time</th>\n",
       "      <td>20137</td>\n",
       "      <td>1623</td>\n",
       "    </tr>\n",
       "    <tr>\n",
       "      <th>Actual Delay</th>\n",
       "      <td>5707</td>\n",
       "      <td>809</td>\n",
       "    </tr>\n",
       "  </tbody>\n",
       "</table>\n",
       "</div>"
      ],
      "text/plain": [
       "                Predicted On Time  Predicted Delay\n",
       "Actual On Time              20137             1623\n",
       "Actual Delay                 5707              809"
      ]
     },
     "metadata": {},
     "output_type": "display_data"
    },
    {
     "name": "stdout",
     "output_type": "stream",
     "text": [
      "Accuracy Score : 0.740769557221672\n",
      "Classification Report\n",
      "              precision    recall  f1-score   support\n",
      "\n",
      "           0       0.78      0.93      0.85     21760\n",
      "           1       0.33      0.12      0.18      6516\n",
      "\n",
      "    accuracy                           0.74     28276\n",
      "   macro avg       0.56      0.52      0.51     28276\n",
      "weighted avg       0.68      0.74      0.69     28276\n",
      "\n"
     ]
    }
   ],
   "source": [
    "# Displaying results\n",
    "print(\"Confusion Matrix\")\n",
    "display(rf_cm_df)\n",
    "print(f\"Accuracy Score : {rf_acc_score}\")\n",
    "print(\"Classification Report\")\n",
    "print(classification_report(y_test, rf_predictions))"
   ]
  },
  {
   "cell_type": "code",
   "execution_count": 41,
   "id": "ae9ee0f7-db9e-4e1f-8637-f7d0bdb584a1",
   "metadata": {},
   "outputs": [
    {
     "data": {
      "image/png": "[encoded data removed]",
      "text/plain": [
       "<Figure size 640x480 with 2 Axes>"
      ]
     },
     "metadata": {},
     "output_type": "display_data"
    }
   ],
   "source": [
    "#Alternate Confusion Matrix display\n",
    "confusion_matrix_rf = metrics.confusion_matrix(y_test, rf_predictions)\n",
    "\n",
    "cm3_display = metrics.ConfusionMatrixDisplay(confusion_matrix = confusion_matrix_rf, display_labels = [True, False])\n",
    "\n",
    "cm3_display.plot()\n",
    "plt.show() "
   ]
  },
  {
   "cell_type": "code",
   "execution_count": 42,
   "id": "dac7e419-1359-4533-a723-fbd61e3ec231",
   "metadata": {},
   "outputs": [
    {
     "data": {
      "text/plain": [
       "[(0.048455909278717534, 'Thursday'),\n",
       " (0.04808624536466191, 'Monday'),\n",
       " (0.04753127443292215, 'Wednesday'),\n",
       " (0.0443614162858601, 'Sunday'),\n",
       " (0.04077129995305429, 'Friday'),\n",
       " (0.033213171813513374, 'Tuesday'),\n",
       " (0.026781467681719694, '3'),\n",
       " (0.025416249921412653, '8'),\n",
       " (0.024481848853487583, '1'),\n",
       " (0.01980031083540192, 'United Air Lines'),\n",
       " (0.019710266679818265, '2'),\n",
       " (0.019554948319225628, '5'),\n",
       " (0.019343842368560262, 'American Airlines'),\n",
       " (0.01712097043468439, '11'),\n",
       " (0.016120630097118886, 'Delta Air Lines'),\n",
       " (0.01584260086031873, 'Southwest Airlines'),\n",
       " (0.015147447536769438, '9'),\n",
       " (0.015113398461276614, '6'),\n",
       " (0.015057187239870993, '12'),\n",
       " (0.014895887681226494, '7'),\n",
       " (0.014611868825714835, 'ATL'),\n",
       " (0.013587362601720436, '10'),\n",
       " (0.013431746420836804, 'LGA'),\n",
       " (0.013348162580886815, 'LAX'),\n",
       " (0.013272552643458363, 'ORD'),\n",
       " (0.012469518057071858, 'MCO'),\n",
       " (0.012221779364074098, 'BOS'),\n",
       " (0.01218301511025463, 'LAS'),\n",
       " (0.011632875236906879, 'PHX'),\n",
       " (0.011556101475294981, 'SFO'),\n",
       " (0.01146665043312226, 'BNA'),\n",
       " (0.011292179318854425, 'DEN'),\n",
       " (0.011108377179821575, 'Spirit Air Lines'),\n",
       " (0.010754016564071666, 'DCA'),\n",
       " (0.010602873804110397, 'DFW'),\n",
       " (0.010357765102431173, 'AUS'),\n",
       " (0.010351641706510052, 'SAN'),\n",
       " (0.010302694444656917, 'TPA'),\n",
       " (0.009885166352947682, 'JetBlue Airways'),\n",
       " (0.009859587302528434, 'RDU'),\n",
       " (0.00976808537104861, 'IAH'),\n",
       " (0.009735010676283233, 'MIA'),\n",
       " (0.009725364994991456, 'SkyWest Airlines'),\n",
       " (0.009540608226054485, 'Frontier Airlines'),\n",
       " (0.00929889043811371, 'EWR'),\n",
       " (0.0092334984438482, 'FLL'),\n",
       " (0.009178693179602813, 'JFK'),\n",
       " (0.009146193366239388, 'SEA'),\n",
       " (0.009042214379460421, 'CLT'),\n",
       " (0.008968429920414642, 'DTW'),\n",
       " (0.008455570605210612, 'SNA'),\n",
       " (0.008246661573261828, 'PHL'),\n",
       " (0.008126317678828794, 'MSP'),\n",
       " (0.008079755066381027, 'MSY'),\n",
       " (0.00806928649132282, 'SLC'),\n",
       " (0.007884571879736898, 'BWI'),\n",
       " (0.00752620610403931, 'STL'),\n",
       " (0.006993768273166603, 'MCI'),\n",
       " (0.006906550011805549, 'Envoy Air'),\n",
       " (0.006865436515966364, 'PDX'),\n",
       " (0.006794227570093779, 'SMF'),\n",
       " (0.006251795809670521, 'Republic Airline'),\n",
       " (0.005845784388068263, 'SJC'),\n",
       " (0.005407251010516386, 'HNL'),\n",
       " (0.005344494295174213, 'IAD'),\n",
       " (0.005048978137151606, 'OAK'),\n",
       " (0.004995250728079504, 'Endeavor Air'),\n",
       " (0.004891377148352607, 'MDW'),\n",
       " (0.004532680854054259, 'Allegiant Air'),\n",
       " (0.003953806100375357, 'Hawaiian Airlines'),\n",
       " (0.003941558222218451, 'HOU'),\n",
       " (0.0038071242901121702, 'PSA Airlines'),\n",
       " (0.0036722077234972433, 'DAL'),\n",
       " (0.0020641858454433946, 'Mesa Airlines'),\n",
       " (0.0015558560565202583, 'Horizon Air')]"
      ]
     },
     "execution_count": 42,
     "metadata": {},
     "output_type": "execute_result"
    }
   ],
   "source": [
    "# Random Forests in sklearn will automatically calculate feature importance\n",
    "importances = rf_model.feature_importances_\n",
    "\n",
    "# We can sort the features by their importance\n",
    "sorted(zip(rf_model.feature_importances_, X.columns), reverse=True)"
   ]
  },
  {
   "cell_type": "code",
   "execution_count": 43,
   "id": "e8289c63-95ae-4506-8404-47349383f655",
   "metadata": {},
   "outputs": [
    {
     "data": {
      "text/plain": [
       "<Axes: title={'center': 'Top 10 Features Importances'}, ylabel='1'>"
      ]
     },
     "execution_count": 43,
     "metadata": {},
     "output_type": "execute_result"
    },
    {
     "data": {
      "image/png": "[encoded data removed]",
      "text/plain": [
       "<Figure size 640x480 with 1 Axes>"
      ]
     },
     "metadata": {},
     "output_type": "display_data"
    }
   ],
   "source": [
    "# Visualize the features by importance\n",
    "importances_df = pd.DataFrame(sorted(zip(rf_model.feature_importances_, X.columns), reverse=True))\n",
    "importances_df.set_index(importances_df[1], inplace=True)\n",
    "importances_df.drop(columns=1, inplace=True)\n",
    "importances_df.rename(columns={0: 'Feature Importances'}, inplace=True)\n",
    "importances_sorted = importances_df[:10].sort_values(by='Feature Importances')\n",
    "importances_sorted.plot(kind='barh', color='deepskyblue', title= 'Top 10 Features Importances', legend=False)"
   ]
  },
  {
   "cell_type": "markdown",
   "id": "91d3a7da-b3c0-4361-a3f2-c1ad745fbb2b",
   "metadata": {},
   "source": [
    "## Random Forest: Best Estimator"
   ]
  },
  {
   "cell_type": "code",
   "execution_count": 44,
   "id": "85575a16-2f95-484e-94c9-732ec0501e6f",
   "metadata": {},
   "outputs": [
    {
     "data": {
      "text/html": [
       "<style>#sk-container-id-2 {color: black;}#sk-container-id-2 pre{padding: 0;}#sk-container-id-2 div.sk-toggleable {background-color: white;}#sk-container-id-2 label.sk-toggleable__label {cursor: pointer;display: block;width: 100%;margin-bottom: 0;padding: 0.3em;box-sizing: border-box;text-align: center;}#sk-container-id-2 label.sk-toggleable__label-arrow:before {content: \"▸\";float: left;margin-right: 0.25em;color: #696969;}#sk-container-id-2 label.sk-toggleable__label-arrow:hover:before {color: black;}#sk-container-id-2 div.sk-estimator:hover label.sk-toggleable__label-arrow:before {color: black;}#sk-container-id-2 div.sk-toggleable__content {max-height: 0;max-width: 0;overflow: hidden;text-align: left;background-color: #f0f8ff;}#sk-container-id-2 div.sk-toggleable__content pre {margin: 0.2em;color: black;border-radius: 0.25em;background-color: #f0f8ff;}#sk-container-id-2 input.sk-toggleable__control:checked~div.sk-toggleable__content {max-height: 200px;max-width: 100%;overflow: auto;}#sk-container-id-2 input.sk-toggleable__control:checked~label.sk-toggleable__label-arrow:before {content: \"▾\";}#sk-container-id-2 div.sk-estimator input.sk-toggleable__control:checked~label.sk-toggleable__label {background-color: #d4ebff;}#sk-container-id-2 div.sk-label input.sk-toggleable__control:checked~label.sk-toggleable__label {background-color: #d4ebff;}#sk-container-id-2 input.sk-hidden--visually {border: 0;clip: rect(1px 1px 1px 1px);clip: rect(1px, 1px, 1px, 1px);height: 1px;margin: -1px;overflow: hidden;padding: 0;position: absolute;width: 1px;}#sk-container-id-2 div.sk-estimator {font-family: monospace;background-color: #f0f8ff;border: 1px dotted black;border-radius: 0.25em;box-sizing: border-box;margin-bottom: 0.5em;}#sk-container-id-2 div.sk-estimator:hover {background-color: #d4ebff;}#sk-container-id-2 div.sk-parallel-item::after {content: \"\";width: 100%;border-bottom: 1px solid gray;flex-grow: 1;}#sk-container-id-2 div.sk-label:hover label.sk-toggleable__label {background-color: #d4ebff;}#sk-container-id-2 div.sk-serial::before {content: \"\";position: absolute;border-left: 1px solid gray;box-sizing: border-box;top: 0;bottom: 0;left: 50%;z-index: 0;}#sk-container-id-2 div.sk-serial {display: flex;flex-direction: column;align-items: center;background-color: white;padding-right: 0.2em;padding-left: 0.2em;position: relative;}#sk-container-id-2 div.sk-item {position: relative;z-index: 1;}#sk-container-id-2 div.sk-parallel {display: flex;align-items: stretch;justify-content: center;background-color: white;position: relative;}#sk-container-id-2 div.sk-item::before, #sk-container-id-2 div.sk-parallel-item::before {content: \"\";position: absolute;border-left: 1px solid gray;box-sizing: border-box;top: 0;bottom: 0;left: 50%;z-index: -1;}#sk-container-id-2 div.sk-parallel-item {display: flex;flex-direction: column;z-index: 1;position: relative;background-color: white;}#sk-container-id-2 div.sk-parallel-item:first-child::after {align-self: flex-end;width: 50%;}#sk-container-id-2 div.sk-parallel-item:last-child::after {align-self: flex-start;width: 50%;}#sk-container-id-2 div.sk-parallel-item:only-child::after {width: 0;}#sk-container-id-2 div.sk-dashed-wrapped {border: 1px dashed gray;margin: 0 0.4em 0.5em 0.4em;box-sizing: border-box;padding-bottom: 0.4em;background-color: white;}#sk-container-id-2 div.sk-label label {font-family: monospace;font-weight: bold;display: inline-block;line-height: 1.2em;}#sk-container-id-2 div.sk-label-container {text-align: center;}#sk-container-id-2 div.sk-container {/* jupyter's `normalize.less` sets `[hidden] { display: none; }` but bootstrap.min.css set `[hidden] { display: none !important; }` so we also need the `!important` here to be able to override the default hidden behavior on the sphinx rendered scikit-learn.org. See: https://github.com/scikit-learn/scikit-learn/issues/21755 */display: inline-block !important;position: relative;}#sk-container-id-2 div.sk-text-repr-fallback {display: none;}</style><div id=\"sk-container-id-2\" class=\"sk-top-container\"><div class=\"sk-text-repr-fallback\"><pre>RandomForestClassifier(max_depth=7, max_features=0.7000000000000001,\n",
       "                       max_samples=0.8, n_estimators=185)</pre><b>In a Jupyter environment, please rerun this cell to show the HTML representation or trust the notebook. <br />On GitHub, the HTML representation is unable to render, please try loading this page with nbviewer.org.</b></div><div class=\"sk-container\" hidden><div class=\"sk-item\"><div class=\"sk-estimator sk-toggleable\"><input class=\"sk-toggleable__control sk-hidden--visually\" id=\"sk-estimator-id-2\" type=\"checkbox\" checked><label for=\"sk-estimator-id-2\" class=\"sk-toggleable__label sk-toggleable__label-arrow\">RandomForestClassifier</label><div class=\"sk-toggleable__content\"><pre>RandomForestClassifier(max_depth=7, max_features=0.7000000000000001,\n",
       "                       max_samples=0.8, n_estimators=185)</pre></div></div></div></div></div>"
      ],
      "text/plain": [
       "RandomForestClassifier(max_depth=7, max_features=0.7000000000000001,\n",
       "                       max_samples=0.8, n_estimators=185)"
      ]
     },
     "execution_count": 44,
     "metadata": {},
     "output_type": "execute_result"
    }
   ],
   "source": [
    "# Creating the random forest Best Estimator\n",
    "param_grid = {'n_estimators':np.arange(50,200,15),\n",
    "              'max_features':np.arange(0.1, 1, 0.1),\n",
    "              'max_depth': [3, 5, 7, 9],\n",
    "              'max_samples': [0.3, 0.5, 0.8]}\n",
    "\n",
    "rf2_model = RSCV(RandomForestClassifier(), param_grid, n_iter = 15).fit(X_train, y_train)\n",
    "rf2_model_result = rf2_model.best_estimator_\n",
    "rf2_model_result"
   ]
  },
  {
   "cell_type": "code",
   "execution_count": 45,
   "id": "e2a52b76-ebbf-41a2-9a28-d0b9341c6442",
   "metadata": {},
   "outputs": [],
   "source": [
    "# Making predictions using the testing data\n",
    "rf2_predictions = rf2_model.predict(X_test)"
   ]
  },
  {
   "cell_type": "code",
   "execution_count": 46,
   "id": "1fa02bde-3923-48d8-9653-e221c24b5fc4",
   "metadata": {},
   "outputs": [],
   "source": [
    "# Calculating the confusion matrix\n",
    "rf2_cm = confusion_matrix(y_test, rf_predictions)\n",
    "rf2_cm_df = pd.DataFrame(\n",
    "    rf2_cm, index=[\"Actual On Time\", \"Actual Delay\"], columns=[\"Predicted On Time\", \"Predicted Delay\"]\n",
    ")\n",
    "\n",
    "# Calculating the accuracy score\n",
    "rf2_acc_score = accuracy_score(y_test, rf2_predictions)"
   ]
  },
  {
   "cell_type": "code",
   "execution_count": 47,
   "id": "c7982a67-a8dc-4e39-b29f-bbec33068aa9",
   "metadata": {},
   "outputs": [
    {
     "name": "stdout",
     "output_type": "stream",
     "text": [
      "Confusion Matrix\n"
     ]
    },
    {
     "data": {
      "text/html": [
       "<div>\n",
       "<style scoped>\n",
       "    .dataframe tbody tr th:only-of-type {\n",
       "        vertical-align: middle;\n",
       "    }\n",
       "\n",
       "    .dataframe tbody tr th {\n",
       "        vertical-align: top;\n",
       "    }\n",
       "\n",
       "    .dataframe thead th {\n",
       "        text-align: right;\n",
       "    }\n",
       "</style>\n",
       "<table border=\"1\" class=\"dataframe\">\n",
       "  <thead>\n",
       "    <tr style=\"text-align: right;\">\n",
       "      <th></th>\n",
       "      <th>Predicted On Time</th>\n",
       "      <th>Predicted Delay</th>\n",
       "    </tr>\n",
       "  </thead>\n",
       "  <tbody>\n",
       "    <tr>\n",
       "      <th>Actual On Time</th>\n",
       "      <td>20137</td>\n",
       "      <td>1623</td>\n",
       "    </tr>\n",
       "    <tr>\n",
       "      <th>Actual Delay</th>\n",
       "      <td>5707</td>\n",
       "      <td>809</td>\n",
       "    </tr>\n",
       "  </tbody>\n",
       "</table>\n",
       "</div>"
      ],
      "text/plain": [
       "                Predicted On Time  Predicted Delay\n",
       "Actual On Time              20137             1623\n",
       "Actual Delay                 5707              809"
      ]
     },
     "metadata": {},
     "output_type": "display_data"
    },
    {
     "name": "stdout",
     "output_type": "stream",
     "text": [
      "Accuracy Score : 0.7700523412080916\n",
      "Classification Report\n",
      "              precision    recall  f1-score   support\n",
      "\n",
      "           0       0.77      1.00      0.87     21760\n",
      "           1       0.62      0.01      0.01      6516\n",
      "\n",
      "    accuracy                           0.77     28276\n",
      "   macro avg       0.70      0.50      0.44     28276\n",
      "weighted avg       0.74      0.77      0.67     28276\n",
      "\n"
     ]
    }
   ],
   "source": [
    "# Displaying results\n",
    "print(\"Confusion Matrix\")\n",
    "display(rf_cm_df)\n",
    "print(f\"Accuracy Score : {rf2_acc_score}\")\n",
    "print(\"Classification Report\")\n",
    "print(classification_report(y_test, rf2_predictions))"
   ]
  },
  {
   "cell_type": "code",
   "execution_count": 48,
   "id": "450efaec-1b7c-4447-8420-dbe896a4ff16",
   "metadata": {},
   "outputs": [
    {
     "data": {
      "image/png": "[encoded data removed]",
      "text/plain": [
       "<Figure size 640x480 with 2 Axes>"
      ]
     },
     "metadata": {},
     "output_type": "display_data"
    }
   ],
   "source": [
    "#Alternate Confusion Matrix display\n",
    "confusion_matrix_rfbe = metrics.confusion_matrix(y_test, rf2_predictions)\n",
    "\n",
    "cm4_display = metrics.ConfusionMatrixDisplay(confusion_matrix = confusion_matrix_rfbe, display_labels = [True, False])\n",
    "\n",
    "cm4_display.plot()\n",
    "plt.show() "
   ]
  },
  {
   "cell_type": "code",
   "execution_count": 49,
   "id": "83093c25-3ac5-41fc-8692-e2d6cade5b45",
   "metadata": {},
   "outputs": [
    {
     "data": {
      "text/plain": [
       "[(0.14963126350905892, 'Southwest Airlines'),\n",
       " (0.09891263617278738, 'Frontier Airlines'),\n",
       " (0.09472633909908448, 'JetBlue Airways'),\n",
       " (0.09222094378890723, '7'),\n",
       " (0.05599043484416264, '6'),\n",
       " (0.04113962817556264, 'Spirit Air Lines'),\n",
       " (0.03816004840464052, '12'),\n",
       " (0.03371763791642704, 'SkyWest Airlines'),\n",
       " (0.02426696956616718, 'American Airlines'),\n",
       " (0.02201642944744327, 'DEN'),\n",
       " (0.021154817389594318, 'BWI'),\n",
       " (0.01972157793494725, '2'),\n",
       " (0.016652221708388287, 'Friday'),\n",
       " (0.01538893715853794, '10'),\n",
       " (0.015313043992517143, 'Wednesday'),\n",
       " (0.015011764721609729, 'Tuesday'),\n",
       " (0.014442203697885929, 'MCO'),\n",
       " (0.014434312795727756, 'DFW'),\n",
       " (0.013659272830702875, '9'),\n",
       " (0.01299724941668325, 'LAS'),\n",
       " (0.012889050688273465, 'Monday'),\n",
       " (0.012165206786035842, 'Thursday'),\n",
       " (0.011536250713990098, 'Sunday'),\n",
       " (0.010375351084335838, 'EWR'),\n",
       " (0.009055712306888146, '1'),\n",
       " (0.008220665806895655, '8'),\n",
       " (0.007795967016480599, 'United Air Lines'),\n",
       " (0.006632223667145624, 'ATL'),\n",
       " (0.006221769081994783, 'FLL'),\n",
       " (0.005808859253225196, '3'),\n",
       " (0.005612641440981086, 'Republic Airline'),\n",
       " (0.005608522707493902, 'LGA'),\n",
       " (0.004771825568101092, '5'),\n",
       " (0.00428350559849528, 'LAX'),\n",
       " (0.0038671634565597855, 'Envoy Air'),\n",
       " (0.0036945262431704283, 'MDW'),\n",
       " (0.0036642055209615554, 'HNL'),\n",
       " (0.0036343472866105482, 'BNA'),\n",
       " (0.0036151982375540997, '11'),\n",
       " (0.0035389127441990656, 'SLC'),\n",
       " (0.0031900140386953886, 'TPA'),\n",
       " (0.0027009120773549464, 'BOS'),\n",
       " (0.002682559760984122, 'SAN'),\n",
       " (0.002612740993025503, 'PHX'),\n",
       " (0.0025905887320018537, 'CLT'),\n",
       " (0.002510844902737776, 'DCA'),\n",
       " (0.0024724486880266265, 'SJC'),\n",
       " (0.002407504950300618, 'MIA'),\n",
       " (0.002371691213973496, 'RDU'),\n",
       " (0.002296400250801652, 'SEA'),\n",
       " (0.0022285361711264816, 'HOU'),\n",
       " (0.0021757201550828605, 'SFO'),\n",
       " (0.002130402374800045, 'PHL'),\n",
       " (0.0021033214287068, 'MSP'),\n",
       " (0.0020941589577205396, 'IAH'),\n",
       " (0.0019449806975102137, 'AUS'),\n",
       " (0.0019342345552911156, 'JFK'),\n",
       " (0.0019272747951053018, 'SNA'),\n",
       " (0.001824138603918694, 'MSY'),\n",
       " (0.001805133431424368, 'OAK'),\n",
       " (0.0016337028648201939, 'ORD'),\n",
       " (0.0014775260334626559, 'MCI'),\n",
       " (0.0014065069476004372, 'DTW'),\n",
       " (0.001208981726137901, 'STL'),\n",
       " (0.0011209591725960953, 'DAL'),\n",
       " (0.0010364580179327786, 'Delta Air Lines'),\n",
       " (0.0009570422891280023, 'SMF'),\n",
       " (0.0007636850017086476, 'PDX'),\n",
       " (0.0005604172411585021, 'IAD'),\n",
       " (0.0004981481614100356, 'Hawaiian Airlines'),\n",
       " (0.00046037101043428104, 'PSA Airlines'),\n",
       " (0.00017666166329405596, 'Endeavor Air'),\n",
       " (0.00012850685499930017, 'Allegiant Air'),\n",
       " (1.778845650094763e-05, 'Mesa Airlines'),\n",
       " (0.0, 'Horizon Air')]"
      ]
     },
     "execution_count": 49,
     "metadata": {},
     "output_type": "execute_result"
    }
   ],
   "source": [
    "# Random Forests in sklearn will automatically calculate feature importance\n",
    "importances2 = rf2_model.best_estimator_.feature_importances_\n",
    "\n",
    "# We can sort the features by their importance\n",
    "sorted(zip(rf2_model.best_estimator_.feature_importances_, X.columns), reverse=True)"
   ]
  },
  {
   "cell_type": "code",
   "execution_count": 50,
   "id": "35099b35-9ee6-4822-bb1e-75da5b32475a",
   "metadata": {},
   "outputs": [
    {
     "data": {
      "text/plain": [
       "<Axes: title={'center': 'Top 10 Features Importances'}, ylabel='1'>"
      ]
     },
     "execution_count": 50,
     "metadata": {},
     "output_type": "execute_result"
    },
    {
     "data": {
      "image/png": "[encoded data removed]",
      "text/plain": [
       "<Figure size 640x480 with 1 Axes>"
      ]
     },
     "metadata": {},
     "output_type": "display_data"
    }
   ],
   "source": [
    "# Visualize the features by importance\n",
    "importances_df = pd.DataFrame(sorted(zip(rf2_model.best_estimator_.feature_importances_, X.columns), reverse=True))\n",
    "importances_df.set_index(importances_df[1], inplace=True)\n",
    "importances_df.drop(columns=1, inplace=True)\n",
    "importances_df.rename(columns={0: 'Feature Importances'}, inplace=True)\n",
    "importances_sorted = importances_df[:10].sort_values(by='Feature Importances')\n",
    "importances_sorted.plot(kind='barh', color='deepskyblue', title= 'Top 10 Features Importances', legend=False)"
   ]
  },
  {
   "cell_type": "code",
   "execution_count": 51,
   "id": "c59edfdb-edcf-4567-a170-5bde7e526f0c",
   "metadata": {},
   "outputs": [
    {
     "data": {
      "image/png": "[encoded data removed]",
      "text/plain": [
       "<Figure size 640x480 with 1 Axes>"
      ]
     },
     "metadata": {},
     "output_type": "display_data"
    }
   ],
   "source": [
    "# Plotting the prediction models to compare accuracy\n",
    "model_comparison = pd.DataFrame({0.50, 0.59, 0.74, 0.77},\n",
    "    index=[\"Logistical_Regression\", \"Logistical_Regression_OS\", \"Random_Forest\", \"Random_Forest_Best_Estimator\"])\n",
    "\n",
    "model_comparison.plot(kind='bar', color ='deepskyblue', legend=None)\n",
    "plt.xticks(rotation=45)\n",
    "plt.ylabel(\"Accuracy Rate %\")\n",
    "plt.title(\"Prediction Models Compared\")\n",
    "plt.show()"
   ]
  },
  {
   "cell_type": "code",
   "execution_count": null,
   "id": "fa663429-ad9f-4b5c-b0da-224171c6499c",
   "metadata": {},
   "outputs": [],
   "source": []
  }
 ],
 "metadata": {
  "kernelspec": {
   "display_name": "Python 3 (ipykernel)",
   "language": "python",
   "name": "python3"
  },
  "language_info": {
   "codemirror_mode": {
    "name": "ipython",
    "version": 3
   },
   "file_extension": ".py",
   "mimetype": "text/x-python",
   "name": "python",
   "nbconvert_exporter": "python",
   "pygments_lexer": "ipython3",
   "version": "3.10.11"
  }
 },
 "nbformat": 4,
 "nbformat_minor": 5
}
